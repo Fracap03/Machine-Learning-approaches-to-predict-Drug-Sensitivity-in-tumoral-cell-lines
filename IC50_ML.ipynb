{
 "cells": [
  {
   "cell_type": "markdown",
   "metadata": {},
   "source": [
    "## Import Libraries"
   ]
  },
  {
   "cell_type": "code",
   "execution_count": 43,
   "metadata": {},
   "outputs": [],
   "source": [
    "# Librerie per lettura file\n",
    "import pandas as pd\n",
    "from pathlib import Path\n",
    "import json\n",
    "import os\n",
    "import psutil\n",
    "import numpy as np\n",
    "from tqdm import tqdm\n",
    "import warnings\n",
    "import joblib\n",
    "\n",
    "#Kfold and GridSearch\n",
    "from imblearn.over_sampling import SMOTE\n",
    "from sklearn.neighbors import KNeighborsRegressor\n",
    "from sklearn.model_selection import KFold, RandomizedSearchCV\n",
    "from sklearn.ensemble import RandomForestClassifier\n",
    "from sklearn.metrics import roc_auc_score, average_precision_score, f1_score\n",
    "from imblearn.over_sampling import SMOTE\n",
    "from sklearn.model_selection import GridSearchCV\n",
    "from scipy.stats import randint, uniform\n",
    "from scipy.stats import pearsonr\n",
    "\n",
    "\n",
    "# Grafici\n",
    "import matplotlib.pyplot as plt\n",
    "import seaborn as sns\n",
    "import matplotlib\n",
    "\n",
    "# Data Analysis\n",
    "from sklearn.preprocessing import LabelEncoder, StandardScaler\n",
    "from sklearn.model_selection import train_test_split, KFold\n",
    "from sklearn.feature_selection import VarianceThreshold\n",
    "from sklearn.metrics import (\n",
    "    mean_absolute_error, mean_squared_error, r2_score,\n",
    "    accuracy_score, precision_score, recall_score, f1_score,\n",
    "    precision_recall_curve, classification_report, confusion_matrix,\n",
    "    roc_curve, roc_auc_score, average_precision_score\n",
    ")\n",
    "from imblearn.over_sampling import SMOTE\n",
    "from sklearn.multioutput import MultiOutputRegressor\n",
    "\n",
    "# Modelli con Alberi\n",
    "from xgboost import XGBRegressor, XGBClassifier\n",
    "from sklearn.ensemble import RandomForestRegressor, RandomForestClassifier, AdaBoostClassifier\n",
    "from sklearn.tree import DecisionTreeClassifier\n",
    "from sklearn.model_selection import GridSearchCV\n",
    "import xgboost as xgb\n",
    "from sklearn.ensemble import GradientBoostingClassifier, GradientBoostingRegressor\n",
    "\n",
    "\n",
    "from scipy.stats import uniform, randint\n",
    "\n",
    "# Librerie Torch per MLP\n",
    "import torch\n",
    "import pytorch_lightning as pl\n",
    "import torch.nn as nn\n",
    "import torch.optim as optim\n",
    "from torch.utils.data import DataLoader, Dataset, random_split, SubsetRandomSampler\n",
    "from torchmetrics import F1Score, Accuracy, Precision, Recall\n",
    "from pytorch_lightning.callbacks import ModelCheckpoint, EarlyStopping\n",
    "from pytorch_lightning import Trainer\n",
    "from pytorch_lightning.loggers import CSVLogger\n",
    "\n",
    "# Explainable AI (SHAP)\n",
    "import shap\n",
    "\n",
    "# Librerie per gestione dati parallela\n",
    "import modin.pandas as mpd\n",
    "import modin.config as cfg\n",
    "\n",
    "# Visualizzazione matrice di confusione\n",
    "from sklearn.metrics import ConfusionMatrixDisplay\n",
    "import optuna\n",
    "from sklearn.metrics import average_precision_score\n"
   ]
  },
  {
   "cell_type": "code",
   "execution_count": 44,
   "metadata": {},
   "outputs": [],
   "source": [
    "matplotlib.use('Agg') \n",
    "warnings.filterwarnings(\"ignore\", category=UserWarning, module=\"matplotlib\")\n",
    "optuna.logging.set_verbosity(optuna.logging.WARNING)\n",
    "import warnings\n",
    "warnings.filterwarnings(\n",
    "    \"ignore\",\n",
    "    message=\"FigureCanvasAgg is non-interactive, and thus cannot be shown\"\n",
    ")\n"
   ]
  },
  {
   "cell_type": "markdown",
   "metadata": {},
   "source": [
    "## Reading File"
   ]
  },
  {
   "cell_type": "code",
   "execution_count": 45,
   "metadata": {},
   "outputs": [],
   "source": [
    "# Reading the files\n",
    "score_df = pd.read_csv(\"Preprocessing/drug_scores_with_targets.csv\")\n",
    "df_clean = pd.read_csv(\"Preprocessing/transcrittoma_pulito.csv\")"
   ]
  },
  {
   "cell_type": "code",
   "execution_count": 46,
   "metadata": {},
   "outputs": [
    {
     "data": {
      "text/html": [
       "<div>\n",
       "<style scoped>\n",
       "    .dataframe tbody tr th:only-of-type {\n",
       "        vertical-align: middle;\n",
       "    }\n",
       "\n",
       "    .dataframe tbody tr th {\n",
       "        vertical-align: top;\n",
       "    }\n",
       "\n",
       "    .dataframe thead th {\n",
       "        text-align: right;\n",
       "    }\n",
       "</style>\n",
       "<table border=\"1\" class=\"dataframe\">\n",
       "  <thead>\n",
       "    <tr style=\"text-align: right;\">\n",
       "      <th></th>\n",
       "      <th>Drug</th>\n",
       "      <th>Score</th>\n",
       "      <th>Drug_name</th>\n",
       "      <th>Targets</th>\n",
       "    </tr>\n",
       "  </thead>\n",
       "  <tbody>\n",
       "    <tr>\n",
       "      <th>1</th>\n",
       "      <td>290.0</td>\n",
       "      <td>0.179823</td>\n",
       "      <td>KIN001-260</td>\n",
       "      <td>['IKK-complex']</td>\n",
       "    </tr>\n",
       "    <tr>\n",
       "      <th>2</th>\n",
       "      <td>306.0</td>\n",
       "      <td>0.168887</td>\n",
       "      <td>TG101348</td>\n",
       "      <td>['JAK2']</td>\n",
       "    </tr>\n",
       "    <tr>\n",
       "      <th>3</th>\n",
       "      <td>222.0</td>\n",
       "      <td>0.162292</td>\n",
       "      <td>BX-912</td>\n",
       "      <td>['PDPK1']</td>\n",
       "    </tr>\n",
       "    <tr>\n",
       "      <th>4</th>\n",
       "      <td>329.0</td>\n",
       "      <td>0.161085</td>\n",
       "      <td>QL-XI-92</td>\n",
       "      <td>['DDR1']</td>\n",
       "    </tr>\n",
       "    <tr>\n",
       "      <th>5</th>\n",
       "      <td>265.0</td>\n",
       "      <td>0.151817</td>\n",
       "      <td>Tubastatin A</td>\n",
       "      <td>['HDAC6']</td>\n",
       "    </tr>\n",
       "    <tr>\n",
       "      <th>6</th>\n",
       "      <td>326.0</td>\n",
       "      <td>0.142042</td>\n",
       "      <td>GSK690693</td>\n",
       "      <td>['AKT']</td>\n",
       "    </tr>\n",
       "    <tr>\n",
       "      <th>7</th>\n",
       "      <td>253.0</td>\n",
       "      <td>0.140113</td>\n",
       "      <td>XMD14-99</td>\n",
       "      <td>['CAMK1', 'EPHB3']</td>\n",
       "    </tr>\n",
       "    <tr>\n",
       "      <th>8</th>\n",
       "      <td>257.0</td>\n",
       "      <td>0.137881</td>\n",
       "      <td>NPK76-II-72-1</td>\n",
       "      <td>['PLK3']</td>\n",
       "    </tr>\n",
       "    <tr>\n",
       "      <th>9</th>\n",
       "      <td>309.0</td>\n",
       "      <td>0.136929</td>\n",
       "      <td>Y-39983</td>\n",
       "      <td>['ROCK2', 'ROCK1']</td>\n",
       "    </tr>\n",
       "    <tr>\n",
       "      <th>10</th>\n",
       "      <td>219.0</td>\n",
       "      <td>0.132665</td>\n",
       "      <td>AT-7519</td>\n",
       "      <td>['CDK9']</td>\n",
       "    </tr>\n",
       "    <tr>\n",
       "      <th>11</th>\n",
       "      <td>286.0</td>\n",
       "      <td>0.130489</td>\n",
       "      <td>KIN001-236</td>\n",
       "      <td>['TEK']</td>\n",
       "    </tr>\n",
       "    <tr>\n",
       "      <th>12</th>\n",
       "      <td>211.0</td>\n",
       "      <td>0.130219</td>\n",
       "      <td>TL-2-105</td>\n",
       "      <td>[nan]</td>\n",
       "    </tr>\n",
       "    <tr>\n",
       "      <th>13</th>\n",
       "      <td>1011.0</td>\n",
       "      <td>0.126419</td>\n",
       "      <td>ABT-263</td>\n",
       "      <td>['BCL2L2', 'BCL2', 'BCL2L1']</td>\n",
       "    </tr>\n",
       "    <tr>\n",
       "      <th>14</th>\n",
       "      <td>226.0</td>\n",
       "      <td>0.124876</td>\n",
       "      <td>GSK1070916</td>\n",
       "      <td>['AURKB']</td>\n",
       "    </tr>\n",
       "    <tr>\n",
       "      <th>15</th>\n",
       "      <td>1008.0</td>\n",
       "      <td>0.124061</td>\n",
       "      <td>Methotrexate</td>\n",
       "      <td>['DHFR']</td>\n",
       "    </tr>\n",
       "    <tr>\n",
       "      <th>16</th>\n",
       "      <td>261.0</td>\n",
       "      <td>0.123936</td>\n",
       "      <td>TL-1-85</td>\n",
       "      <td>['MAP3K7']</td>\n",
       "    </tr>\n",
       "    <tr>\n",
       "      <th>17</th>\n",
       "      <td>333.0</td>\n",
       "      <td>0.118130</td>\n",
       "      <td>T0901317</td>\n",
       "      <td>['NR1H2', 'NR1H3']</td>\n",
       "    </tr>\n",
       "    <tr>\n",
       "      <th>18</th>\n",
       "      <td>301.0</td>\n",
       "      <td>0.116550</td>\n",
       "      <td>PHA-793887</td>\n",
       "      <td>['O94921,P06493,P11802,P24941,P49336,P50613,P5...</td>\n",
       "    </tr>\n",
       "    <tr>\n",
       "      <th>19</th>\n",
       "      <td>256.0</td>\n",
       "      <td>0.116204</td>\n",
       "      <td>JW-7-24-1</td>\n",
       "      <td>['LCK']</td>\n",
       "    </tr>\n",
       "    <tr>\n",
       "      <th>20</th>\n",
       "      <td>305.0</td>\n",
       "      <td>0.112633</td>\n",
       "      <td>TPCA-1</td>\n",
       "      <td>['IKK-complex']</td>\n",
       "    </tr>\n",
       "    <tr>\n",
       "      <th>21</th>\n",
       "      <td>300.0</td>\n",
       "      <td>0.110091</td>\n",
       "      <td>CX-5461</td>\n",
       "      <td>['RNA Polymerase I']</td>\n",
       "    </tr>\n",
       "    <tr>\n",
       "      <th>22</th>\n",
       "      <td>258.0</td>\n",
       "      <td>0.109107</td>\n",
       "      <td>STF-62247</td>\n",
       "      <td>['Autophagosome_formation']</td>\n",
       "    </tr>\n",
       "    <tr>\n",
       "      <th>23</th>\n",
       "      <td>1373.0</td>\n",
       "      <td>0.107846</td>\n",
       "      <td>Dabrafenib</td>\n",
       "      <td>['BRAF']</td>\n",
       "    </tr>\n",
       "    <tr>\n",
       "      <th>24</th>\n",
       "      <td>230.0</td>\n",
       "      <td>0.107797</td>\n",
       "      <td>GSK429286A</td>\n",
       "      <td>['ROCK2']</td>\n",
       "    </tr>\n",
       "    <tr>\n",
       "      <th>25</th>\n",
       "      <td>1372.0</td>\n",
       "      <td>0.106026</td>\n",
       "      <td>Trametinib</td>\n",
       "      <td>['MAP2K1']</td>\n",
       "    </tr>\n",
       "    <tr>\n",
       "      <th>26</th>\n",
       "      <td>260.0</td>\n",
       "      <td>0.103588</td>\n",
       "      <td>NG-25</td>\n",
       "      <td>['MAP3K7']</td>\n",
       "    </tr>\n",
       "    <tr>\n",
       "      <th>27</th>\n",
       "      <td>279.0</td>\n",
       "      <td>0.087584</td>\n",
       "      <td>BIX02189</td>\n",
       "      <td>['MAP2K5']</td>\n",
       "    </tr>\n",
       "    <tr>\n",
       "      <th>28</th>\n",
       "      <td>303.0</td>\n",
       "      <td>0.086914</td>\n",
       "      <td>PIK-93</td>\n",
       "      <td>['PI3K', 'PI4KA']</td>\n",
       "    </tr>\n",
       "    <tr>\n",
       "      <th>29</th>\n",
       "      <td>332.0</td>\n",
       "      <td>0.085354</td>\n",
       "      <td>XMD15-27</td>\n",
       "      <td>['STK39', 'CAMK2B', 'MAST1', 'DYRK1A', 'CLK2']</td>\n",
       "    </tr>\n",
       "  </tbody>\n",
       "</table>\n",
       "</div>"
      ],
      "text/plain": [
       "      Drug     Score      Drug_name  \\\n",
       "1    290.0  0.179823     KIN001-260   \n",
       "2    306.0  0.168887       TG101348   \n",
       "3    222.0  0.162292         BX-912   \n",
       "4    329.0  0.161085       QL-XI-92   \n",
       "5    265.0  0.151817   Tubastatin A   \n",
       "6    326.0  0.142042      GSK690693   \n",
       "7    253.0  0.140113       XMD14-99   \n",
       "8    257.0  0.137881  NPK76-II-72-1   \n",
       "9    309.0  0.136929        Y-39983   \n",
       "10   219.0  0.132665        AT-7519   \n",
       "11   286.0  0.130489     KIN001-236   \n",
       "12   211.0  0.130219       TL-2-105   \n",
       "13  1011.0  0.126419        ABT-263   \n",
       "14   226.0  0.124876     GSK1070916   \n",
       "15  1008.0  0.124061   Methotrexate   \n",
       "16   261.0  0.123936        TL-1-85   \n",
       "17   333.0  0.118130       T0901317   \n",
       "18   301.0  0.116550     PHA-793887   \n",
       "19   256.0  0.116204      JW-7-24-1   \n",
       "20   305.0  0.112633         TPCA-1   \n",
       "21   300.0  0.110091        CX-5461   \n",
       "22   258.0  0.109107      STF-62247   \n",
       "23  1373.0  0.107846     Dabrafenib   \n",
       "24   230.0  0.107797     GSK429286A   \n",
       "25  1372.0  0.106026     Trametinib   \n",
       "26   260.0  0.103588          NG-25   \n",
       "27   279.0  0.087584       BIX02189   \n",
       "28   303.0  0.086914         PIK-93   \n",
       "29   332.0  0.085354       XMD15-27   \n",
       "\n",
       "                                              Targets  \n",
       "1                                     ['IKK-complex']  \n",
       "2                                            ['JAK2']  \n",
       "3                                           ['PDPK1']  \n",
       "4                                            ['DDR1']  \n",
       "5                                           ['HDAC6']  \n",
       "6                                             ['AKT']  \n",
       "7                                  ['CAMK1', 'EPHB3']  \n",
       "8                                            ['PLK3']  \n",
       "9                                  ['ROCK2', 'ROCK1']  \n",
       "10                                           ['CDK9']  \n",
       "11                                            ['TEK']  \n",
       "12                                              [nan]  \n",
       "13                       ['BCL2L2', 'BCL2', 'BCL2L1']  \n",
       "14                                          ['AURKB']  \n",
       "15                                           ['DHFR']  \n",
       "16                                         ['MAP3K7']  \n",
       "17                                 ['NR1H2', 'NR1H3']  \n",
       "18  ['O94921,P06493,P11802,P24941,P49336,P50613,P5...  \n",
       "19                                            ['LCK']  \n",
       "20                                    ['IKK-complex']  \n",
       "21                               ['RNA Polymerase I']  \n",
       "22                        ['Autophagosome_formation']  \n",
       "23                                           ['BRAF']  \n",
       "24                                          ['ROCK2']  \n",
       "25                                         ['MAP2K1']  \n",
       "26                                         ['MAP3K7']  \n",
       "27                                         ['MAP2K5']  \n",
       "28                                  ['PI3K', 'PI4KA']  \n",
       "29     ['STK39', 'CAMK2B', 'MAST1', 'DYRK1A', 'CLK2']  "
      ]
     },
     "execution_count": 46,
     "metadata": {},
     "output_type": "execute_result"
    }
   ],
   "source": [
    "score_df.iloc[1:30,:] #show the best 30 drugs (the first one has score None due to the lack of data, so it is not taken in consideration)"
   ]
  },
  {
   "cell_type": "markdown",
   "metadata": {},
   "source": [
    "## Model IC50"
   ]
  },
  {
   "cell_type": "markdown",
   "metadata": {},
   "source": [
    "In this section, you can run models that predict IC50 and Drug sensitivity. The analysis specifically focuses on the top 30 drugs, although you can include more if desired (l>31). However, note that drugs with a negative score perform worse than a random model and are therefore not recommended for use—this applies especially to drugs ranked beyond the 194th position.\n",
    "\n",
    "Currently, only the functions used in the article are implemented here. However, lots of models that uses scikit-learn can be easily added by modifying this structure, which is based on the XGBoost (XGB) model.\n",
    "\n",
    "#### Here you can modify the ensemble models\n",
    "models = [GradientBoostingRegressor for _ in range(5)]\n",
    "\n",
    "#### Seed\n",
    "rf_params = {\n",
    "        \"random_state\": 42,\n",
    "    }\n",
    "\n",
    "#### Hyperparameter Tuning with optuna\n",
    "params = {\n",
    "    \"n_estimators\": randint(10, 301),            \n",
    "    \"max_depth\": randint(3, 11),                   \n",
    "    \"learning_rate\": [1, 0.1, 0.01, 0.3],          \n",
    "    \"subsample\": [0.4, 0.5, 0.6, 0.8, 1],          \n",
    "    \"min_samples_split\": randint(2, 11),          \n",
    "    \"min_samples_leaf\": randint(1, 11),            \n",
    "    \"max_features\": ['sqrt', 'log2', None]         \n",
    "}\n",
    "\n",
    "#### Directory\n",
    "shap_dir = 'Results/Models_IC50/GB_IC50'\n",
    "\n",
    "#### Run the function (smo = False to avoid oversampling and smo = True to apply SMOTE+KNN)\n",
    "train_ic50(df_clean, rf_params, params, models= models, shap_dir = shap_dir, l=31, smo = False)"
   ]
  },
  {
   "cell_type": "markdown",
   "metadata": {},
   "source": [
    "### Optuna objective"
   ]
  },
  {
   "cell_type": "code",
   "execution_count": 47,
   "metadata": {},
   "outputs": [],
   "source": [
    "def objective_reg_r2_low_ic50_percentile(trial, model, X_train, y_train, X_val, y_val, base_params, param_grid, percentile=30):\n",
    "\n",
    "    '''\n",
    "    Objective function for hyperparameter optimization using Optuna.\n",
    "\n",
    "    Parameters:\n",
    "    - trial: Optuna Trial object, used to suggest new hyperparameter values.\n",
    "    - model: scikit-learn-compatible model to be optimized.\n",
    "    - X_train, y_train: training data.\n",
    "    - X_val, y_val: validation data \n",
    "    - base_params: dictionary of fixed model parameters (you can see it when you call the main function)\n",
    "    - param_grid: dictionary defining the search space for each hyperparameter ((you can see it when you call the main function))\n",
    "    - percentile: float, percentile of the validation set to select for performance evaluation.\n",
    "\n",
    "    returns:\n",
    "    - R² score computed on the selected percentile of the validation set, which will be maximized by Optuna.\n",
    "    '''\n",
    "\n",
    "    params = base_params.copy()\n",
    "\n",
    "    for key, space in param_grid.items():\n",
    "        if isinstance(space, list):\n",
    "            params[key] = trial.suggest_categorical(key, space)\n",
    "        elif isinstance(space, range):\n",
    "            params[key] = trial.suggest_int(key, min(space), max(space))\n",
    "        elif hasattr(space, \"rvs\"):\n",
    "            a, b = space.a, space.b\n",
    "            params[key] = trial.suggest_int(key, a, b - 1)\n",
    "        else:\n",
    "            raise ValueError(f\"Tipo non supportato per il parametro {key}: {type(space)}\")\n",
    "\n",
    "    model.set_params(**params)\n",
    "    model.fit(X_train, y_train)\n",
    "    y_pred = model.predict(X_val)\n",
    "\n",
    "    cutoff = np.percentile(y_val, percentile)\n",
    "    mask = y_val < cutoff\n",
    "\n",
    "    if mask.sum() < 2:\n",
    "        return -np.inf\n",
    "\n",
    "    return r2_score(y_val[mask], y_pred[mask])"
   ]
  },
  {
   "cell_type": "markdown",
   "metadata": {},
   "source": [
    "### Training model"
   ]
  },
  {
   "cell_type": "code",
   "execution_count": 48,
   "metadata": {},
   "outputs": [],
   "source": [
    "def model_ic50(train_set, train_cells, rf_params={}, \n",
    "               base_models=None, param_grid=None, n_splits=5, random_state=42, smo = False, n_trials = 20):\n",
    "    '''\n",
    "    Function to train and evaluate ensemble ML models using K-Fold cross-validation as explained in the article,\n",
    "    SMOTE for class balancing, and Optuna for hyperparameter optimization.\n",
    "\n",
    "    Parameters:\n",
    "    - train_set: DataFrame containing the full training data, including features and labels.\n",
    "    - train_cells: Array-like list of cell line identifiers used for splitting the data into folds.\n",
    "    - rf_params: Dictionary of fixed parameters for the base model(s) (optional).\n",
    "    - base_models: List of model constructors (e.g., [RandomForestClassifier, ...]); one per fold. If None, RandomForestRegressor is used for all folds.\n",
    "    - param_grid: Dictionary defining the search space for hyperparameters to tune with Optuna.\n",
    "    - n_splits: Number of folds for cross-validation (default is 5).\n",
    "    - n_trials: Number of Optuna trials per fold for hyperparameter tuning (default is 10).\n",
    "    - random_state: Seed for reproducibility (used in SMOTE, CV splitting, and Optuna sampler).\n",
    "    - smo : True if you want to do the oversampling (second approach in the article), else False\n",
    "\n",
    "    Returns:\n",
    "    - models_per_fold: A list of dictionaries, each containing the trained model, evaluation scores (AUC, average precision, F1), and best hyperparameters for a fold.\n",
    "    - y_val_all: Combined list of true validation labels across all folds.\n",
    "    - y_val_pred_all: Combined list of predicted probabilities across all folds.\n",
    "    '''\n",
    "\n",
    "    #Base models if the models given to the function are None\n",
    "    if base_models is None:\n",
    "        base_models = [RandomForestRegressor for _ in range(n_splits)]\n",
    "    #Parameter grid if the ones given to the function are None\n",
    "    if param_grid is None:\n",
    "        param_grid = {\n",
    "            \"n_estimators\": [10],\n",
    "            \"max_depth\": [7]\n",
    "        }\n",
    "    \n",
    "    # Ensemble Models\n",
    "    kf = KFold(n_splits=n_splits, shuffle=True, random_state=random_state)\n",
    "    y_val_ic50_all = []\n",
    "    y_val_pred_ic50_all = []\n",
    "    models_per_fold = []\n",
    "    y_val_sens_all = []\n",
    "\n",
    "\n",
    "    for i, (train_idx, val_idx) in enumerate(kf.split(train_cells)):\n",
    "        #Trainin and Validation for each split\n",
    "        train_cells_fold = train_cells[train_idx]\n",
    "        val_cells_fold = train_cells[val_idx]\n",
    "\n",
    "\n",
    "        train_fold = train_set[train_set[\"Cell_line_cosmic_identifiers\"].isin(train_cells_fold)]\n",
    "        val_fold = train_set[train_set[\"Cell_line_cosmic_identifiers\"].isin(val_cells_fold)]\n",
    "\n",
    "        X_train = train_fold.drop(columns=[\"IC50\", \"Sensitivity\", \"Cell_line_cosmic_identifiers\", \n",
    "                                           \"Screened_Compounds_\", \"Sample_Names\", \"Drug_id\",\"cell_name\"])\n",
    "        y_train_ic50 = train_fold[\"IC50\"]\n",
    "        y_train_sens = train_fold[\"Sensitivity\"]\n",
    "\n",
    "        X_val = val_fold.drop(columns=[\"IC50\", \"Sensitivity\", \"Cell_line_cosmic_identifiers\", \n",
    "                                       \"Screened_Compounds_\", \"Sample_Names\", \"Drug_id\",\"cell_name\"])\n",
    "        y_val_ic50 = val_fold[\"IC50\"]\n",
    "        y_val_sens = val_fold[\"Sensitivity\"]\n",
    "\n",
    "        if smo:\n",
    "                #Smote+KNN for balancing classes  \n",
    "                smote = SMOTE(random_state=42)\n",
    "                X_train_resampled, y_train_resampled = smote.fit_resample(X_train, y_train_sens)\n",
    "\n",
    "       \n",
    "                knn = KNeighborsRegressor(n_neighbors=3)\n",
    "                knn.fit(X_train, y_train_ic50)\n",
    "\n",
    "                y_ic50_resampled = knn.predict(X_train_resampled)\n",
    "\n",
    "  \n",
    "                df_train_final = X_train_resampled.copy()\n",
    "                df_train_final[\"IC50\"] = y_ic50_resampled\n",
    "                df_train_final[\"Sensitivity\"] = y_train_resampled\n",
    "\n",
    "\n",
    "                X_train_smo = df_train_final.drop(columns=[\"IC50\"])\n",
    "                y_train_ic50_smo = df_train_final[\"IC50\"]\n",
    "\n",
    "                X_train = pd.DataFrame(X_train_smo, columns=X_train.columns)\n",
    "                y_train_ic50 = pd.Series(y_train_ic50_smo, index=X_train.index)\n",
    "\n",
    "\n",
    "        # Optuna\n",
    "        mod = base_models[i](**rf_params)\n",
    "        sampler = optuna.samplers.TPESampler(seed=42)\n",
    "        study = optuna.create_study(direction=\"maximize\", sampler=sampler)\n",
    "        study.optimize(\n",
    "            lambda trial: objective_reg_r2_low_ic50_percentile(trial, mod, X_train, y_train_ic50, X_val, y_val_ic50, rf_params, param_grid),\n",
    "            n_trials=n_trials\n",
    "        )\n",
    "\n",
    "        best_params = study.best_params\n",
    "        best_params[\"random_state\"] = 42\n",
    "        best_model = mod.set_params(**best_params)\n",
    "\n",
    "        #Predict IC50\n",
    "        best_model.fit(X_train, y_train_ic50)\n",
    "        y_pred_ic50 = best_model.predict(X_val)\n",
    "        y_val_ic50_all.extend(y_val_ic50)\n",
    "        y_val_pred_ic50_all.extend(y_pred_ic50)\n",
    "        y_val_sens_all.extend(y_val_sens)\n",
    "\n",
    "\n",
    "        models_per_fold.append(best_model)\n",
    "\n",
    "    return models_per_fold, y_val_ic50_all, y_val_pred_ic50_all, y_val_sens_all"
   ]
  },
  {
   "cell_type": "markdown",
   "metadata": {},
   "source": [
    "### Already trained"
   ]
  },
  {
   "cell_type": "code",
   "execution_count": 49,
   "metadata": {},
   "outputs": [],
   "source": [
    "def testing(train_set, train_cells,shap_dir,drug_name,smo,n_splits=5,random_state = 42):\n",
    "\n",
    "    '''\n",
    "    Function to test and evaluate already trained ensemble ML models using K-Fold cross-validation as explained in the article,\n",
    "    SMOTE for class balancing, and Optuna for hyperparameter optimization.\n",
    "\n",
    "    Parameters:\n",
    "    - train_set: DataFrame containing the full training data, including features and labels.\n",
    "    - train_cells: Array-like list of cell line identifiers used for splitting the data into folds.\n",
    "    - shap_dir: directory where are saved the models\n",
    "    – drug_name: name of the drug\n",
    "    - n_splits: Number of folds for cross-validation (default is 5).\n",
    "    - n_trials: Number of Optuna trials per fold for hyperparameter tuning (default is 10).\n",
    "    - random_state: Seed for reproducibility (used in SMOTE, CV splitting, and Optuna sampler).\n",
    "\n",
    "    Returns:\n",
    "    - models_per_fold: A list of dictionaries, each containing the trained model, evaluation scores (AUC, average precision, F1), and best hyperparameters for a fold.\n",
    "    - y_val_all: Combined list of true validation labels across all folds.\n",
    "    - y_val_pred_all: Combined list of predicted probabilities across all folds.\n",
    "    '''\n",
    "\n",
    "    # Ensemble Models\n",
    "    \n",
    "    kf = KFold(n_splits=n_splits, shuffle=True, random_state=random_state)\n",
    "\n",
    "    y_val_ic50_all = []\n",
    "    y_val_pred_ic50_all = []\n",
    "    models_per_fold = []\n",
    "    y_val_sens_all = []\n",
    "    models_per_fold = []\n",
    "\n",
    "\n",
    "    for i, (train_idx, val_idx) in enumerate(kf.split(train_cells)):\n",
    "        #Trainin and Validation for each split\n",
    "        train_cells_fold = train_cells[train_idx]\n",
    "        val_cells_fold = train_cells[val_idx]\n",
    "        train_fold = train_set[train_set[\"Cell_line_cosmic_identifiers\"].isin(train_cells_fold)]\n",
    "        val_fold = train_set[train_set[\"Cell_line_cosmic_identifiers\"].isin(val_cells_fold)]\n",
    "\n",
    "        X_train = train_fold.drop(columns=[\"IC50\", \"Sensitivity\", \"Cell_line_cosmic_identifiers\", \n",
    "                                           \"Screened_Compounds_\", \"Sample_Names\", \"Drug_id\",\"cell_name\"])\n",
    "        y_train_ic50 = train_fold[\"IC50\"]\n",
    "        y_train_sens = train_fold[\"Sensitivity\"]\n",
    "\n",
    "        X_val = val_fold.drop(columns=[\"IC50\", \"Sensitivity\", \"Cell_line_cosmic_identifiers\", \n",
    "                                       \"Screened_Compounds_\", \"Sample_Names\", \"Drug_id\",\"cell_name\"])\n",
    "        y_val_ic50 = val_fold[\"IC50\"]\n",
    "        y_val_sens = val_fold[\"Sensitivity\"]\n",
    "\n",
    "        if smo:\n",
    "                # SMOTE+KNN for balancing classes\n",
    "                smote = SMOTE(random_state=42)\n",
    "                X_train_resampled, y_train_resampled = smote.fit_resample(X_train, y_train_sens)\n",
    "\n",
    "       \n",
    "                knn = KNeighborsRegressor(n_neighbors=3)\n",
    "                knn.fit(X_train, y_train_ic50)\n",
    "\n",
    "                y_ic50_resampled = knn.predict(X_train_resampled)\n",
    "\n",
    "  \n",
    "                df_train_final = X_train_resampled.copy()\n",
    "                df_train_final[\"IC50\"] = y_ic50_resampled\n",
    "                df_train_final[\"Sensitivity\"] = y_train_resampled\n",
    "\n",
    "\n",
    "                X_train_smo = df_train_final.drop(columns=[\"IC50\"])\n",
    "                y_train_ic50_smo = df_train_final[\"IC50\"]\n",
    "\n",
    "                X_train = pd.DataFrame(X_train_smo, columns=X_train.columns)\n",
    "                y_train_ic50 = pd.Series(y_train_ic50_smo, index=X_train.index)\n",
    "\n",
    "        \n",
    "        models_dir = os.path.join(shap_dir, f\"{drug_name}_models\")\n",
    "        model_path = os.path.join(models_dir, f\"model_fold_{i}.pkl\")\n",
    "        model = joblib.load(model_path)\n",
    "\n",
    "\n",
    "        # Predict IC50\n",
    "        y_pred_ic50 = model.predict(X_val)\n",
    "        y_val_ic50_all.extend(y_val_ic50)\n",
    "        y_val_pred_ic50_all.extend(y_pred_ic50)\n",
    "        y_val_sens_all.extend(y_val_sens)\n",
    "        \n",
    "        models_per_fold.append(model)\n",
    "\n",
    "    return models_per_fold, y_val_ic50_all, y_val_pred_ic50_all, y_val_sens_all"
   ]
  },
  {
   "cell_type": "markdown",
   "metadata": {},
   "source": [
    "#### Plots"
   ]
  },
  {
   "cell_type": "code",
   "execution_count": 50,
   "metadata": {},
   "outputs": [],
   "source": [
    "def gen_plots(\n",
    "    y_test_ic50,                 \n",
    "    y_pred_test_ic50,           \n",
    "    sensitivities,               \n",
    "    y_pred_sensitivity,         \n",
    "    fpr_val, tpr_val, auc_score_val,  \n",
    "    fpr_test, tpr_test, auc_score_test,  \n",
    "    recall_val, precision_val, avg_auc_pr_val, best_idx_val, best_threshold_val,  \n",
    "    recall_test, precision_test, avg_auc_pr_test,                                \n",
    "    drug_name,                    \n",
    "    shap_dir                    \n",
    "\n",
    "):\n",
    "        \n",
    "\n",
    "        '''\n",
    "        Function to generate plots\n",
    "        '''\n",
    "        \n",
    "        df_plot = pd.DataFrame({\n",
    "            \"True_IC50\": y_test_ic50,\n",
    "            \"Predicted_IC50\": y_pred_test_ic50,\n",
    "            \"Sensitive\": sensitivities.map({0: \"Non-sensitive\", 1: \"Sensitive\"})\n",
    "        })\n",
    "\n",
    "        plt.figure(figsize=(6, 6))\n",
    "        sns.scatterplot(data=df_plot, x=\"True_IC50\", y=\"Predicted_IC50\", hue=\"Sensitive\", alpha=0.7)\n",
    "        plt.plot([df_plot[\"True_IC50\"].min(), df_plot[\"True_IC50\"].max()],\n",
    "                [df_plot[\"True_IC50\"].min(), df_plot[\"True_IC50\"].max()], 'r--')\n",
    "        plt.xlabel(\"True IC50\")\n",
    "        plt.ylabel(\"Predicted IC50\")\n",
    "        plt.title(f\"IC50 Prediction- {drug_name}\")\n",
    "        plt.legend(title=\"Cell Sensitivity\")\n",
    "        plt.grid(True)\n",
    "        plt.tight_layout()\n",
    "        plt.savefig(f\"{shap_dir}/{drug_name}_ic50_scatter_rf.png\")\n",
    "        plt.close()\n",
    "\n",
    "\n",
    "        cutoff_range = np.arange(y_pred_test_ic50.min(), y_pred_test_ic50.max(), 0.1)\n",
    "        precisions_cutoff = []\n",
    "        recalls_cutoff = []\n",
    "        true_sensitivity = np.array(sensitivities)\n",
    "        y_pred_test_ic50 = np.array(y_pred_test_ic50)\n",
    "\n",
    "        for cutoff in cutoff_range:\n",
    "            predicted_sensitivity = (y_pred_test_ic50 < cutoff).astype(int)\n",
    "            precision = precision_score(true_sensitivity, predicted_sensitivity, zero_division=0)\n",
    "            recall = recall_score(true_sensitivity, predicted_sensitivity, zero_division=0)\n",
    "\n",
    "            precisions_cutoff.append(precision)\n",
    "            recalls_cutoff.append(recall)\n",
    "\n",
    "        plt.figure(figsize=(7, 4))\n",
    "        plt.plot(cutoff_range, precisions_cutoff, marker='o', label='Precision', color='blue')\n",
    "        plt.plot(cutoff_range, recalls_cutoff, marker='x', label='Recall', color='orange')\n",
    "        plt.title(f\"Precision & Recall vs IC50 Cut-off - {drug_name}\")\n",
    "        plt.xlabel(\"IC50 Cut-off (on predicted values)\")\n",
    "        plt.ylabel(\"Score\")\n",
    "        plt.ylim(0, 1.05)\n",
    "        plt.grid(True)\n",
    "        plt.legend()\n",
    "        plt.tight_layout()\n",
    "        plt.savefig(f\"{shap_dir}/{drug_name}_precision_recall_curve.png\")\n",
    "        plt.close()\n",
    "\n",
    "        cm = confusion_matrix(true_sensitivity, y_pred_sensitivity)\n",
    "\n",
    "        # Save confusion matrix plot\n",
    "        plt.figure(figsize=(4, 4))\n",
    "        sns.heatmap(cm, annot=True, fmt='d', cmap='Blues', xticklabels=[\"Non-sensitive\", \"Sensitive\"], yticklabels=[\"Non-sensitive\", \"Sensitive\"])\n",
    "        plt.xlabel(\"Predicted\")\n",
    "        plt.ylabel(\"True\")\n",
    "        plt.title(f\"Confusion Matrix with cutoff- {drug_name}\")\n",
    "        plt.tight_layout()\n",
    "        plt.savefig(f\"{shap_dir}/{drug_name}_confusion_matrix.png\")\n",
    "        plt.close()\n",
    "\n",
    "\n",
    "\n",
    "        roc_fig_path = os.path.join(shap_dir, f\"{drug_name}_roc_curve.png\")\n",
    "        plt.figure(figsize=(12, 5))\n",
    "\n",
    "        plt.subplot(1, 2, 1)\n",
    "        plt.plot(fpr_val, tpr_val, label=f'Validation AUC = {auc_score_test:.3f}')\n",
    "        plt.plot(fpr_test, tpr_test, label=f'Test AUC = {auc_score_test:.3f}')\n",
    "        plt.plot([0, 1], [0, 1], 'k--')\n",
    "        plt.xlabel(\"False Positive Rate\")\n",
    "        plt.ylabel(\"True Positive Rate\")\n",
    "        plt.title(f\"ROC Curve - {drug_name}\")\n",
    "        plt.legend()\n",
    "\n",
    "        plt.subplot(1, 2, 2)\n",
    "        plt.plot(recall_val, precision_val, label=f'Validation AUC-PR = {avg_auc_pr_val:.3f}')\n",
    "        plt.plot(recall_test, precision_test, label=f'Test AUC-PR = {avg_auc_pr_test:.3f}')\n",
    "        plt.axvline(x=recall_val[best_idx_val], color='r', linestyle=\"--\", label=f\"Best Threshold = {best_threshold_val:.3f}\")\n",
    "        plt.xlabel(\"Recall\")\n",
    "        plt.ylabel(\"Precision\")\n",
    "        plt.title(f\"Precision-Recall Curve - {drug_name}\")\n",
    "        plt.legend()\n",
    "        plt.tight_layout()\n",
    "        plt.savefig(roc_fig_path)\n",
    "        plt.close()\n"
   ]
  },
  {
   "cell_type": "markdown",
   "metadata": {},
   "source": [
    "#### SHAP"
   ]
  },
  {
   "cell_type": "code",
   "execution_count": 66,
   "metadata": {},
   "outputs": [],
   "source": [
    "def generate_shap_plots(\n",
    "    models_per_fold,\n",
    "    X_test,\n",
    "    test_set,\n",
    "    df_clean,\n",
    "    shap_dir,\n",
    "    drug_name,\n",
    "    specific_drug\n",
    "):\n",
    "        '''\n",
    "        Function to compute SHAP and to generate plots\n",
    "        '''\n",
    "\n",
    "        # Directory SHAP\n",
    "        shap_dir_drug = os.path.join(shap_dir, f\"{drug_name}\")\n",
    "        os.makedirs(shap_dir_drug, exist_ok=True)  \n",
    "\n",
    "        shap_values_list = []\n",
    "        print(f\"\\nCalcolo SHAP per {drug_name} su {len(models_per_fold)} modelli...\")\n",
    "\n",
    "\n",
    "        ## Shap values for each model-cell_line\n",
    "        for i, model_info in enumerate(models_per_fold):\n",
    "            model = model_info\n",
    "            explainer = shap.TreeExplainer(model)\n",
    "            X_test_aligned = X_test[model.feature_names_in_]  \n",
    "            shap_values = -explainer.shap_values(X_test_aligned, check_additivity=False) # negative, so it is comparable with the model sensitivity\n",
    "            if isinstance(shap_values, list):\n",
    "                sv = shap_values[1] if len(shap_values) > 1 else shap_values[0]\n",
    "            else:\n",
    "                sv = shap_values\n",
    "\n",
    "            if sv.shape[1] != X_test.shape[1]:\n",
    "                print(f\"⚠️ SHAP shape mismatch: got {sv.shape}, expected ({X_test.shape[0]}, {X_test.shape[1]})\")\n",
    "                continue\n",
    "\n",
    "            shap_values_list.append(sv)\n",
    "\n",
    "        ## MEAN SHAP for each model\n",
    "        if shap_values_list:\n",
    "            shap_df_list = []\n",
    "            for sv in shap_values_list:\n",
    "                if sv.ndim == 3:\n",
    "                    sv = sv[:, :, 1]\n",
    "                shap_df_list.append(pd.DataFrame(sv, columns=X_test.columns, index=X_test.index))\n",
    "\n",
    "            mean_shap_df = sum(shap_df_list) / len(shap_df_list)\n",
    "\n",
    "            for idx, row in X_test.iterrows():\n",
    "       \n",
    "                cell_line_id = test_set.loc[idx][\"Cell_line_cosmic_identifiers\"]\n",
    "                matching_rows = df_clean[df_clean[\"Cell_line_cosmic_identifiers\"] == cell_line_id]\n",
    "\n",
    "                if not matching_rows.empty:\n",
    "                    cell_name = matching_rows[\"cell_name\"].iloc[0] \n",
    "                else:\n",
    "                    print(f\" Nessuna riga trovata per cell_line_id {cell_line_id}\")\n",
    "                    continue  \n",
    "\n",
    "                shap_values_row = mean_shap_df.loc[idx]\n",
    "                sorted_idx = np.argsort(np.abs(shap_values_row.values))[::-1]\n",
    "                sorted_features = X_test.columns[sorted_idx]\n",
    "                sorted_shap = shap_values_row.values[sorted_idx]\n",
    "                sorted_vals = row.values[sorted_idx]\n",
    "\n",
    "                if isinstance(explainer.expected_value, (list, np.ndarray)):\n",
    "                        base_value = explainer.expected_value[1] if len(explainer.expected_value) > 1 else explainer.expected_value[0]\n",
    "                else:\n",
    "                        base_value = explainer.expected_value\n",
    "\n",
    "                ## 1) Waterfall Plot\n",
    "                shap.waterfall_plot(shap.Explanation(\n",
    "                        values=sorted_shap,\n",
    "                        base_values=base_value,  \n",
    "                        data=sorted_vals,\n",
    "                        feature_names=sorted_features\n",
    "                    ))\n",
    "\n",
    "                plt.suptitle(f\"SHAP Waterfall - Cell Line: {cell_name}\", fontsize=14)\n",
    "                fig = plt.gcf()\n",
    "                fig_path = os.path.join(shap_dir_drug, f\"{cell_name}_shap_waterfall.png\")\n",
    "                fig.savefig(fig_path, format=\"png\") \n",
    "                plt.close(fig)  \n",
    "\n",
    "\n",
    "                ## 2) shap_bar_top 5 sensitivity and resistance\n",
    "                shap_series = shap_values_row.sort_values()\n",
    "                negativi = shap_series.head(5)\n",
    "                positivi = shap_series.tail(5)\n",
    "                combined = pd.concat([negativi, positivi])\n",
    "                colori = ['lightcoral'] * 5 + ['skyblue'] * 5\n",
    "\n",
    "                plt.figure(figsize=(5, 4))\n",
    "                plt.barh(combined.index[::-1], combined.values[::-1], color=colori[::-1])\n",
    "                plt.axvline(0, color='gray', linestyle='--')\n",
    "                plt.title(f\"Top 5 ± SHAP - {cell_name}\", fontsize=10)\n",
    "                plt.xlabel(\"SHAP Value (Effect)\")\n",
    "                plt.tight_layout()\n",
    "                fig_bar_path = os.path.join(shap_dir_drug, f\"{cell_name}_shap_bar_top5.png\")\n",
    "                plt.savefig(fig_bar_path, format=\"png\")\n",
    "                plt.close()\n",
    "\n",
    "            ### Grafici SHAP sul farmaco ###\n",
    "\n",
    "            ## shap_top5_mean_bar\n",
    "            shap_mean = mean_shap_df.mean(axis=0).sort_values()\n",
    "            top5_neg = shap_mean.head(5)\n",
    "            top5_pos = shap_mean.tail(5)\n",
    "            combined = pd.concat([top5_neg, top5_pos])\n",
    "            colori = ['lightcoral'] * 5 + ['skyblue'] * 5\n",
    "            plt.figure(figsize=(6, 4))\n",
    "            plt.barh(combined.index[::-1], combined.values[::-1], color=colori[::-1])\n",
    "            plt.axvline(0, color='gray', linestyle='--')\n",
    "            plt.title(f\"SHAP Top 5 ± - {drug_name} (media su tutte le cell)\", fontsize=11)\n",
    "            plt.xlabel(\"SHAP value (mean)\")\n",
    "            plt.tight_layout()\n",
    "            fig_group_bar_path = os.path.join(shap_dir_drug, f\"{drug_name}_shap_top5_mean_bar.png\")\n",
    "            plt.savefig(fig_group_bar_path, format=\"png\")\n",
    "            plt.close()\n",
    "\n",
    "            abs_shap_df_list = [df.abs() for df in shap_df_list]\n",
    "            mean_abs_shap_df = sum(abs_shap_df_list) / len(abs_shap_df_list)\n",
    "            mean_abs_importance = mean_abs_shap_df.mean(axis=0)\n",
    "            ## top 20 features\n",
    "            top20_features = (\n",
    "                mean_shap_df.abs().mean(axis=0)\n",
    "                .sort_values(ascending=False)\n",
    "                .head(20)\n",
    "            )\n",
    "            top20_features = mean_abs_importance.sort_values(ascending=False).head(20)\n",
    "            top20_features_path = os.path.join(shap_dir_drug, \"top20_features.csv\")\n",
    "            top20_features.to_csv(top20_features_path, header=[\"mean_abs_shap_value\"])\n",
    "\n",
    "\n",
    "            ## SHAP summary plot\n",
    "            top10_indices = mean_abs_importance.sort_values(ascending=False).head(10).index\n",
    "            top10_shap_values = mean_shap_df[top10_indices].values\n",
    "            top10_X_test = X_test[top10_indices]\n",
    "\n",
    "            plt.figure()\n",
    "            shap.summary_plot(top10_shap_values, top10_X_test, feature_names=top10_indices, show=False)\n",
    "            plt.title(f\"SHAP Summary Plot (Top 10) - {drug_name}\")\n",
    "            plt.tight_layout()\n",
    "            plt.savefig(os.path.join(shap_dir_drug, \"shap_summary_plot.png\"))\n",
    "            plt.close()\n",
    "            \n",
    "            ## SHAP bar plot\n",
    "            shap_bar_fig_path = os.path.join(shap_dir_drug, \"shap_bar_plot.png\")\n",
    "            plt.figure()\n",
    "            shap.summary_plot(mean_shap_df.values, X_test, feature_names=X_test.columns, plot_type=\"bar\", show=False)\n",
    "            plt.title(f\"SHAP Bar Plot (Media) - {drug_name}\")\n",
    "            plt.tight_layout()\n",
    "            plt.savefig(shap_bar_fig_path)\n",
    "            plt.close()\n"
   ]
  },
  {
   "cell_type": "markdown",
   "metadata": {},
   "source": [
    "### Funzione"
   ]
  },
  {
   "cell_type": "code",
   "execution_count": 62,
   "metadata": {},
   "outputs": [],
   "source": [
    "def train_ic50(df_clean, rf_params, param_grid, models = None, shap_dir = 'RF_IC50', l=31,smo = False):\n",
    "    '''\n",
    "    Train models to predict drug IC50 for multiple drugs, \n",
    "    evaluate their performance, generate visualizations, and compute SHAP explanations.\n",
    "\n",
    "    The function performs the following steps per drug:\n",
    "    - Splits the dataset by cell lines into training and test sets.\n",
    "    - Uses K-Fold cross-validation and SMOTE on training data.\n",
    "    - Applies Optuna for hyperparameter optimization.\n",
    "    - Evaluates on both validation and test sets (AUC, F1, Precision, Recall).\n",
    "    - Saves trained models, performance metrics, confusion matrices, ROC/PR curves.\n",
    "    - Computes SHAP values for test set samples and saves their plots.\n",
    "\n",
    "    Parameters:\n",
    "    - df_clean: Preprocessed and cleaned DataFrame .\n",
    "    - rf_params: Dictionary of fixed parameters.\n",
    "    - base_models: List of model classes to use per fold (e.g. [RandomForestClassifier, ...]).\n",
    "    - param_grid: Dictionary of hyperparameters to tune via Optuna.\n",
    "    - shap_dir: Directory where models, plots, and SHAP outputs will be saved (default 'RF_SENSITIVITY').\n",
    "    - l: Number of drugs to process (default is 31; starts from index 1 (because the first drug has score None) of `score_df[\"Drug\"]`).\n",
    "\n",
    "    Returns:\n",
    "    - Saves per-drug results and visualizations in the specified `shap_dir`.\n",
    "    - Outputs a summary CSV with metrics per drug.\n",
    "    - Prints final classification report and cumulative F1 score over all predictions.\n",
    "    '''\n",
    "\n",
    "    # Directory\n",
    "    os.makedirs(shap_dir, exist_ok=True)  \n",
    "\n",
    "    # Initialize variables\n",
    "    models_results_ic50 = {}\n",
    "    y_test_all = []\n",
    "    y_pred_all = []\n",
    "    sensitivity_all = []\n",
    "    df_nan_sens = df_clean[df_clean[\"Sensitivity\"].isna()]  \n",
    "    df_clean = df_clean[df_clean[\"Sensitivity\"].notna()]  \n",
    "    y_test_sens_all = []\n",
    "    y_pred_sens_all = []\n",
    "\n",
    "\n",
    "    for row in tqdm(score_df.iloc[1:l].itertuples(index=False), desc=\"Processing Drugs\"):\n",
    "        ## Model for each drug\n",
    "        specific_drug = row.Drug\n",
    "        drug_name = row.Drug_name\n",
    "        df_drug = df_clean[df_clean[\"Drug_id\"] == specific_drug]\n",
    "        cell_counts = df_drug[\"Cell_line_cosmic_identifiers\"].value_counts()\n",
    "\n",
    "        # Training and Test\n",
    "        train_cells, test_cells = train_test_split(\n",
    "            cell_counts.index,\n",
    "            test_size=0.2,\n",
    "            stratify = df_drug.groupby(\"Cell_line_cosmic_identifiers\")[\"Sensitivity\"].apply(lambda x: x.mean()),\n",
    "            random_state=42\n",
    "        )\n",
    "\n",
    "        train_set = df_drug[df_drug[\"Cell_line_cosmic_identifiers\"].isin(train_cells)]\n",
    "        test_set = df_drug[df_drug[\"Cell_line_cosmic_identifiers\"].isin(test_cells)]\n",
    "        train_set = pd.concat([train_set, df_nan_sens[df_nan_sens[\"Drug_id\"] == specific_drug]])\n",
    "        X_test = test_set.drop(columns=[\"IC50\", \"Sensitivity\", \"Cell_line_cosmic_identifiers\", \n",
    "                                           \"Screened_Compounds_\", \"Sample_Names\", \"Drug_id\",\"cell_name\"])\n",
    "        y_test_ic50 = test_set[\"IC50\"]\n",
    "        sensitivities = test_set[\"Sensitivity\"]\n",
    "\n",
    "        \n",
    "        '''\n",
    "        #  If you want to train again the models\n",
    "        models_per_fold, y_true_val, y_pred_val,y_val_sens = model_ic50(\n",
    "                                train_set=train_set,\n",
    "                                train_cells=train_cells,\n",
    "                                rf_params=rf_params,\n",
    "                                base_models=models,\n",
    "                                param_grid=param_grid,\n",
    "                                smo = smo\n",
    "                            )\n",
    "        models_dir = os.path.join(shap_dir, f\"{drug_name}_models\")\n",
    "        os.makedirs(models_dir, exist_ok=True)\n",
    "    \n",
    "        for fold_idx, model_info in enumerate(models_per_fold):\n",
    "            model_path = os.path.join(models_dir, f\"model_fold_{fold_idx}.pkl\")\n",
    "            joblib.dump(model_info, model_path)\n",
    "        '''\n",
    "\n",
    "        # Evaluate models\n",
    "        models_per_fold, y_true_val, y_pred_val,y_val_sens = testing(train_set, train_cells,shap_dir,drug_name,smo,n_splits=5,random_state = 42)\n",
    "    \n",
    "        # Predict IC50\n",
    "        y_pred_test_ic50 = np.mean([m.predict(X_test) for m in models_per_fold], axis=0)\n",
    "\n",
    "        # Calculate metrics\n",
    "        mae = mean_absolute_error(y_test_ic50, y_pred_test_ic50)\n",
    "        rmse = np.sqrt(mean_squared_error(y_test_ic50, y_pred_test_ic50))\n",
    "        r2 = r2_score(y_test_ic50, y_pred_test_ic50)\n",
    "        pearson_corr, _ = pearsonr(y_test_ic50, y_pred_test_ic50)\n",
    "        y_score_test = -y_pred_test_ic50  \n",
    "        y_score_val =  -np.array(y_pred_val)\n",
    "        fpr_test, tpr_test, roc_thresholds = roc_curve(sensitivities, y_score_test)\n",
    "        fpr_val, tpr_val, roc_thresholds_val = roc_curve(y_val_sens, y_score_val)\n",
    "        auc_score_test = roc_auc_score(sensitivities, y_score_test)\n",
    "        auc_score_val = roc_auc_score(y_val_sens, y_score_val)\n",
    "\n",
    "        # Precision-Recall\n",
    "        precision_test, recall_test, pr_thresholds = precision_recall_curve(sensitivities, y_score_test)\n",
    "        avg_auc_pr_test = average_precision_score(sensitivities, y_score_test)\n",
    "\n",
    "        precision_val, recall_val, pr_thresholds_val = precision_recall_curve(y_val_sens, y_score_val)\n",
    "        avg_auc_pr_val = average_precision_score(y_val_sens, y_score_val)\n",
    "\n",
    "\n",
    "        # Calcola F1 per ogni soglia\n",
    "        f1_scores_val = 2 * (precision_val[:-1] * recall_val[:-1]) / (precision_val[:-1] + recall_val[:-1] + 1e-8)\n",
    "        best_idx_val = np.argmax(f1_scores_val)\n",
    "        best_threshold_val = -pr_thresholds_val[best_idx_val]\n",
    "\n",
    "        y_pred_sensitivity = (y_pred_test_ic50 <= best_threshold_val).astype(int)\n",
    "        \n",
    "\n",
    "\n",
    "\n",
    "        gen_plots(\n",
    "            y_test_ic50,                 \n",
    "            y_pred_test_ic50,           \n",
    "            sensitivities,               \n",
    "            y_pred_sensitivity,         \n",
    "            fpr_val, tpr_val, auc_score_val,  \n",
    "            fpr_test, tpr_test, auc_score_test,  \n",
    "            recall_val, precision_val, avg_auc_pr_val, best_idx_val, best_threshold_val,  \n",
    "            recall_test, precision_test, avg_auc_pr_test,                                \n",
    "            drug_name,                    \n",
    "            shap_dir                    \n",
    "        )\n",
    "\n",
    "        generate_shap_plots(\n",
    "            models_per_fold,\n",
    "            X_test,\n",
    "            test_set,\n",
    "            df_clean,\n",
    "            shap_dir,\n",
    "            drug_name,\n",
    "            specific_drug\n",
    "        )\n",
    "\n",
    "        true_sensitivity = np.array(sensitivities)\n",
    "        f1_test = f1_score(true_sensitivity, y_pred_sensitivity)\n",
    "\n",
    "\n",
    "\n",
    "      \n",
    "        y_test_all.extend(y_test_ic50)\n",
    "        y_pred_all.extend(y_pred_test_ic50)\n",
    "        y_test_sens_all.extend(true_sensitivity)\n",
    "        y_pred_sens_all.extend(y_pred_sensitivity)\n",
    "        sensitivity_all.extend(sensitivities)\n",
    "        \n",
    "\n",
    "        models_results_ic50[drug_name] = {\n",
    "            \"MAE_IC50\": mae,\n",
    "            \"RMSE_IC50\": rmse,\n",
    "            \"R2_IC50\": r2,\n",
    "            \"Pearson_IC50\": pearson_corr,\n",
    "            \"ROC_AUC\": auc_score_test,\n",
    "            \"PR_AUC\": avg_auc_pr_test,\n",
    "            \"F1-score\": f1_test\n",
    "        }\n",
    "        results_df = pd.DataFrame.from_dict(models_results_ic50, orient=\"index\")\n",
    "        results_df.to_csv(os.path.join(shap_dir, \"rf_drug_sensitivity_results.csv\"))\n",
    "\n",
    "\n",
    "        #print(f\"\\n** Results for {drug_name} **\")\n",
    "        #print(f\"IC50 - MAE: {mae:.3f}, RMSE: {rmse:.3f}, R²: {r2:.3f}\")\n",
    "        \n",
    "\n",
    "\n",
    "    mae_global = mean_absolute_error(y_test_all, y_pred_all)\n",
    "    rmse_global = np.sqrt(mean_squared_error(y_test_all, y_pred_all))\n",
    "    r2_global = r2_score(y_test_all, y_pred_all)\n",
    "\n",
    "    print(\"\\n\\n========= GLOBAL METRICS ACROSS ALL DRUGS =========\")\n",
    "    print(f\"Global IC50 - MAE: {mae_global:.3f}, RMSE: {rmse_global:.3f}, R²: {r2_global:.3f}\")\n",
    "\n",
    "    \n",
    "    df_global = pd.DataFrame({\n",
    "        \"True_IC50\": y_test_all,\n",
    "        \"Predicted_IC50\": y_pred_all,\n",
    "        \"Sensitive\": pd.Series(sensitivity_all).map({0: \"Non-sensitive\", 1: \"Sensitive\"})\n",
    "    })\n",
    "\n",
    "    plt.figure(figsize=(7, 7))\n",
    "    sns.scatterplot(data=df_global, x=\"True_IC50\", y=\"Predicted_IC50\", hue=\"Sensitive\", alpha=0.5)\n",
    "    plt.plot([df_global[\"True_IC50\"].min(), df_global[\"True_IC50\"].max()],\n",
    "            [df_global[\"True_IC50\"].min(), df_global[\"True_IC50\"].max()], 'r--')\n",
    "    plt.xlabel(\"True IC50\")\n",
    "    plt.ylabel(\"Predicted IC50\")\n",
    "    plt.title(f\"Global IC50 Prediction Across All Drugs R²: {r2_global:.3f}\")\n",
    "    plt.legend(title=\"Cell Sensitivity\")\n",
    "    plt.grid(True)\n",
    "    plt.tight_layout()\n",
    "    plt.tight_layout()\n",
    "    plt.savefig(f\"{shap_dir}/global_ic50_prediction_rf.png\")\n",
    "    plt.close()\n",
    "\n",
    "    final_f1 = f1_score(y_test_sens_all, y_pred_sens_all)\n",
    "\n",
    "    cm_global = confusion_matrix(y_test_sens_all, y_pred_sens_all)\n",
    "\n",
    "    plt.figure(figsize=(5, 5))\n",
    "    sns.heatmap(cm_global, annot=True, fmt='d', cmap='Purples', xticklabels=[\"Non-sensitive\", \"Sensitive\"], yticklabels=[\"Non-sensitive\", \"Sensitive\"])\n",
    "    plt.xlabel(\"Predicted\")\n",
    "    plt.ylabel(\"True\")\n",
    "    plt.title(f\"Global Confusion Matrix (All Drugs) with f1: {final_f1}\")\n",
    "    plt.tight_layout()\n",
    "    plt.savefig(f\"{shap_dir}/global_confusion_matrix_rf.png\")\n",
    "    plt.close()"
   ]
  },
  {
   "cell_type": "markdown",
   "metadata": {},
   "source": [
    "### NO Oversampling"
   ]
  },
  {
   "cell_type": "markdown",
   "metadata": {},
   "source": [
    "Here are implemented the function which does not use oversampling"
   ]
  },
  {
   "cell_type": "markdown",
   "metadata": {},
   "source": [
    "#### XGBoosting"
   ]
  },
  {
   "cell_type": "code",
   "execution_count": 64,
   "metadata": {},
   "outputs": [
    {
     "name": "stderr",
     "output_type": "stream",
     "text": [
      "Processing Drugs: 0it [00:00, ?it/s]"
     ]
    },
    {
     "name": "stdout",
     "output_type": "stream",
     "text": [
      "\n",
      "Calcolo SHAP per KIN001-260 su 5 modelli...\n"
     ]
    },
    {
     "name": "stderr",
     "output_type": "stream",
     "text": [
      "Processing Drugs: 1it [00:34, 34.67s/it]"
     ]
    },
    {
     "name": "stdout",
     "output_type": "stream",
     "text": [
      "\n",
      "Calcolo SHAP per TG101348 su 5 modelli...\n"
     ]
    },
    {
     "name": "stderr",
     "output_type": "stream",
     "text": [
      "Processing Drugs: 2it [01:08, 34.40s/it]"
     ]
    },
    {
     "name": "stdout",
     "output_type": "stream",
     "text": [
      "\n",
      "Calcolo SHAP per BX-912 su 5 modelli...\n"
     ]
    },
    {
     "name": "stderr",
     "output_type": "stream",
     "text": [
      "Processing Drugs: 3it [01:43, 34.37s/it]"
     ]
    },
    {
     "name": "stdout",
     "output_type": "stream",
     "text": [
      "\n",
      "Calcolo SHAP per QL-XI-92 su 5 modelli...\n"
     ]
    },
    {
     "name": "stderr",
     "output_type": "stream",
     "text": [
      "Processing Drugs: 4it [02:14, 33.29s/it]"
     ]
    },
    {
     "name": "stdout",
     "output_type": "stream",
     "text": [
      "\n",
      "Calcolo SHAP per Tubastatin A su 5 modelli...\n"
     ]
    },
    {
     "name": "stderr",
     "output_type": "stream",
     "text": [
      "Processing Drugs: 5it [02:47, 33.02s/it]"
     ]
    },
    {
     "name": "stdout",
     "output_type": "stream",
     "text": [
      "\n",
      "Calcolo SHAP per GSK690693 su 5 modelli...\n"
     ]
    },
    {
     "name": "stderr",
     "output_type": "stream",
     "text": [
      "Processing Drugs: 6it [03:20, 33.10s/it]"
     ]
    },
    {
     "name": "stdout",
     "output_type": "stream",
     "text": [
      "\n",
      "Calcolo SHAP per XMD14-99 su 5 modelli...\n"
     ]
    },
    {
     "name": "stderr",
     "output_type": "stream",
     "text": [
      "Processing Drugs: 6it [04:07, 41.19s/it]\n"
     ]
    },
    {
     "ename": "KeyboardInterrupt",
     "evalue": "",
     "output_type": "error",
     "traceback": [
      "\u001b[0;31m---------------------------------------------------------------------------\u001b[0m",
      "\u001b[0;31mKeyboardInterrupt\u001b[0m                         Traceback (most recent call last)",
      "Cell \u001b[0;32mIn[64], line 18\u001b[0m\n\u001b[1;32m      7\u001b[0m params \u001b[39m=\u001b[39m {\n\u001b[1;32m      8\u001b[0m     \u001b[39m\"\u001b[39m\u001b[39mn_estimators\u001b[39m\u001b[39m\"\u001b[39m: randint(\u001b[39m10\u001b[39m, \u001b[39m501\u001b[39m),              \n\u001b[1;32m      9\u001b[0m     \u001b[39m\"\u001b[39m\u001b[39mmax_depth\u001b[39m\u001b[39m\"\u001b[39m: randint(\u001b[39m3\u001b[39m, \u001b[39m11\u001b[39m),                     \n\u001b[0;32m   (...)\u001b[0m\n\u001b[1;32m     14\u001b[0m     \u001b[39m\"\u001b[39m\u001b[39mgamma\u001b[39m\u001b[39m\"\u001b[39m: [\u001b[39m0\u001b[39m,\u001b[39m0.1\u001b[39m,\u001b[39m0.01\u001b[39m,\u001b[39m0.3\u001b[39m,\u001b[39m0.5\u001b[39m]                         \n\u001b[1;32m     15\u001b[0m }\n\u001b[1;32m     17\u001b[0m shap_dir \u001b[39m=\u001b[39m \u001b[39m'\u001b[39m\u001b[39mResults/Models_IC50/XGB_IC50\u001b[39m\u001b[39m'\u001b[39m\n\u001b[0;32m---> 18\u001b[0m train_ic50(df_clean, rf_params, params, models\u001b[39m=\u001b[39m models, shap_dir \u001b[39m=\u001b[39m shap_dir, l\u001b[39m=\u001b[39m\u001b[39m31\u001b[39m, smo \u001b[39m=\u001b[39m \u001b[39mFalse\u001b[39;00m)\n",
      "Cell \u001b[0;32mIn[62], line 133\u001b[0m, in \u001b[0;36mtrain_ic50\u001b[0;34m(df_clean, rf_params, param_grid, models, shap_dir, l, smo)\u001b[0m\n\u001b[1;32m    115\u001b[0m y_pred_sensitivity \u001b[39m=\u001b[39m (y_pred_test_ic50 \u001b[39m<\u001b[39m\u001b[39m=\u001b[39m best_threshold_val)\u001b[39m.\u001b[39mastype(\u001b[39mint\u001b[39m)\n\u001b[1;32m    120\u001b[0m gen_plots(\n\u001b[1;32m    121\u001b[0m     y_test_ic50,                 \n\u001b[1;32m    122\u001b[0m     y_pred_test_ic50,           \n\u001b[0;32m   (...)\u001b[0m\n\u001b[1;32m    130\u001b[0m     shap_dir                    \n\u001b[1;32m    131\u001b[0m )\n\u001b[0;32m--> 133\u001b[0m generate_shap_plots(\n\u001b[1;32m    134\u001b[0m     models_per_fold,\n\u001b[1;32m    135\u001b[0m     X_test,\n\u001b[1;32m    136\u001b[0m     test_set,\n\u001b[1;32m    137\u001b[0m     df_clean,\n\u001b[1;32m    138\u001b[0m     shap_dir,\n\u001b[1;32m    139\u001b[0m     drug_name,\n\u001b[1;32m    140\u001b[0m     specific_drug\n\u001b[1;32m    141\u001b[0m )\n\u001b[1;32m    143\u001b[0m true_sensitivity \u001b[39m=\u001b[39m np\u001b[39m.\u001b[39marray(sensitivities)\n\u001b[1;32m    144\u001b[0m f1_test \u001b[39m=\u001b[39m f1_score(true_sensitivity, y_pred_sensitivity)\n",
      "Cell \u001b[0;32mIn[61], line 82\u001b[0m, in \u001b[0;36mgenerate_shap_plots\u001b[0;34m(models_per_fold, X_test, test_set, df_clean, shap_dir, drug_name, specific_drug)\u001b[0m\n\u001b[1;32m     80\u001b[0m fig \u001b[39m=\u001b[39m plt\u001b[39m.\u001b[39mgcf()\n\u001b[1;32m     81\u001b[0m fig_path \u001b[39m=\u001b[39m os\u001b[39m.\u001b[39mpath\u001b[39m.\u001b[39mjoin(shap_dir_drug, \u001b[39mf\u001b[39m\u001b[39m\"\u001b[39m\u001b[39m{\u001b[39;00mcell_name\u001b[39m}\u001b[39;00m\u001b[39m_shap_waterfall.png\u001b[39m\u001b[39m\"\u001b[39m)\n\u001b[0;32m---> 82\u001b[0m fig\u001b[39m.\u001b[39msavefig(fig_path, \u001b[39mformat\u001b[39m\u001b[39m=\u001b[39m\u001b[39m\"\u001b[39m\u001b[39mpng\u001b[39m\u001b[39m\"\u001b[39m) \n\u001b[1;32m     83\u001b[0m plt\u001b[39m.\u001b[39mclose(fig)  \n\u001b[1;32m     86\u001b[0m \u001b[39m## 2) shap_bar_top 5 sensitivity and resistance\u001b[39;00m\n",
      "File \u001b[0;32m~/miniconda3/lib/python3.12/site-packages/matplotlib/figure.py:3390\u001b[0m, in \u001b[0;36mFigure.savefig\u001b[0;34m(self, fname, transparent, **kwargs)\u001b[0m\n\u001b[1;32m   3388\u001b[0m     \u001b[39mfor\u001b[39;00m ax \u001b[39min\u001b[39;00m \u001b[39mself\u001b[39m\u001b[39m.\u001b[39maxes:\n\u001b[1;32m   3389\u001b[0m         _recursively_make_axes_transparent(stack, ax)\n\u001b[0;32m-> 3390\u001b[0m \u001b[39mself\u001b[39m\u001b[39m.\u001b[39mcanvas\u001b[39m.\u001b[39mprint_figure(fname, \u001b[39m*\u001b[39m\u001b[39m*\u001b[39mkwargs)\n",
      "File \u001b[0;32m~/miniconda3/lib/python3.12/site-packages/matplotlib/backend_bases.py:2193\u001b[0m, in \u001b[0;36mFigureCanvasBase.print_figure\u001b[0;34m(self, filename, dpi, facecolor, edgecolor, orientation, format, bbox_inches, pad_inches, bbox_extra_artists, backend, **kwargs)\u001b[0m\n\u001b[1;32m   2189\u001b[0m \u001b[39mtry\u001b[39;00m:\n\u001b[1;32m   2190\u001b[0m     \u001b[39m# _get_renderer may change the figure dpi (as vector formats\u001b[39;00m\n\u001b[1;32m   2191\u001b[0m     \u001b[39m# force the figure dpi to 72), so we need to set it again here.\u001b[39;00m\n\u001b[1;32m   2192\u001b[0m     \u001b[39mwith\u001b[39;00m cbook\u001b[39m.\u001b[39m_setattr_cm(\u001b[39mself\u001b[39m\u001b[39m.\u001b[39mfigure, dpi\u001b[39m=\u001b[39mdpi):\n\u001b[0;32m-> 2193\u001b[0m         result \u001b[39m=\u001b[39m print_method(\n\u001b[1;32m   2194\u001b[0m             filename,\n\u001b[1;32m   2195\u001b[0m             facecolor\u001b[39m=\u001b[39mfacecolor,\n\u001b[1;32m   2196\u001b[0m             edgecolor\u001b[39m=\u001b[39medgecolor,\n\u001b[1;32m   2197\u001b[0m             orientation\u001b[39m=\u001b[39morientation,\n\u001b[1;32m   2198\u001b[0m             bbox_inches_restore\u001b[39m=\u001b[39m_bbox_inches_restore,\n\u001b[1;32m   2199\u001b[0m             \u001b[39m*\u001b[39m\u001b[39m*\u001b[39mkwargs)\n\u001b[1;32m   2200\u001b[0m \u001b[39mfinally\u001b[39;00m:\n\u001b[1;32m   2201\u001b[0m     \u001b[39mif\u001b[39;00m bbox_inches \u001b[39mand\u001b[39;00m restore_bbox:\n",
      "File \u001b[0;32m~/miniconda3/lib/python3.12/site-packages/matplotlib/backend_bases.py:2043\u001b[0m, in \u001b[0;36mFigureCanvasBase._switch_canvas_and_return_print_method.<locals>.<lambda>\u001b[0;34m(*args, **kwargs)\u001b[0m\n\u001b[1;32m   2039\u001b[0m     optional_kws \u001b[39m=\u001b[39m {  \u001b[39m# Passed by print_figure for other renderers.\u001b[39;00m\n\u001b[1;32m   2040\u001b[0m         \u001b[39m\"\u001b[39m\u001b[39mdpi\u001b[39m\u001b[39m\"\u001b[39m, \u001b[39m\"\u001b[39m\u001b[39mfacecolor\u001b[39m\u001b[39m\"\u001b[39m, \u001b[39m\"\u001b[39m\u001b[39medgecolor\u001b[39m\u001b[39m\"\u001b[39m, \u001b[39m\"\u001b[39m\u001b[39morientation\u001b[39m\u001b[39m\"\u001b[39m,\n\u001b[1;32m   2041\u001b[0m         \u001b[39m\"\u001b[39m\u001b[39mbbox_inches_restore\u001b[39m\u001b[39m\"\u001b[39m}\n\u001b[1;32m   2042\u001b[0m     skip \u001b[39m=\u001b[39m optional_kws \u001b[39m-\u001b[39m {\u001b[39m*\u001b[39minspect\u001b[39m.\u001b[39msignature(meth)\u001b[39m.\u001b[39mparameters}\n\u001b[0;32m-> 2043\u001b[0m     print_method \u001b[39m=\u001b[39m functools\u001b[39m.\u001b[39mwraps(meth)(\u001b[39mlambda\u001b[39;00m \u001b[39m*\u001b[39margs, \u001b[39m*\u001b[39m\u001b[39m*\u001b[39mkwargs: meth(\n\u001b[1;32m   2044\u001b[0m         \u001b[39m*\u001b[39margs, \u001b[39m*\u001b[39m\u001b[39m*\u001b[39m{k: v \u001b[39mfor\u001b[39;00m k, v \u001b[39min\u001b[39;00m kwargs\u001b[39m.\u001b[39mitems() \u001b[39mif\u001b[39;00m k \u001b[39mnot\u001b[39;00m \u001b[39min\u001b[39;00m skip}))\n\u001b[1;32m   2045\u001b[0m \u001b[39melse\u001b[39;00m:  \u001b[39m# Let third-parties do as they see fit.\u001b[39;00m\n\u001b[1;32m   2046\u001b[0m     print_method \u001b[39m=\u001b[39m meth\n",
      "File \u001b[0;32m~/miniconda3/lib/python3.12/site-packages/matplotlib/backends/backend_agg.py:497\u001b[0m, in \u001b[0;36mFigureCanvasAgg.print_png\u001b[0;34m(self, filename_or_obj, metadata, pil_kwargs)\u001b[0m\n\u001b[1;32m    450\u001b[0m \u001b[39mdef\u001b[39;00m \u001b[39mprint_png\u001b[39m(\u001b[39mself\u001b[39m, filename_or_obj, \u001b[39m*\u001b[39m, metadata\u001b[39m=\u001b[39m\u001b[39mNone\u001b[39;00m, pil_kwargs\u001b[39m=\u001b[39m\u001b[39mNone\u001b[39;00m):\n\u001b[1;32m    451\u001b[0m \u001b[39m    \u001b[39m\u001b[39m\"\"\"\u001b[39;00m\n\u001b[1;32m    452\u001b[0m \u001b[39m    Write the figure to a PNG file.\u001b[39;00m\n\u001b[1;32m    453\u001b[0m \n\u001b[0;32m   (...)\u001b[0m\n\u001b[1;32m    495\u001b[0m \u001b[39m        *metadata*, including the default 'Software' key.\u001b[39;00m\n\u001b[1;32m    496\u001b[0m \u001b[39m    \"\"\"\u001b[39;00m\n\u001b[0;32m--> 497\u001b[0m     \u001b[39mself\u001b[39m\u001b[39m.\u001b[39m_print_pil(filename_or_obj, \u001b[39m\"\u001b[39m\u001b[39mpng\u001b[39m\u001b[39m\"\u001b[39m, pil_kwargs, metadata)\n",
      "File \u001b[0;32m~/miniconda3/lib/python3.12/site-packages/matplotlib/backends/backend_agg.py:445\u001b[0m, in \u001b[0;36mFigureCanvasAgg._print_pil\u001b[0;34m(self, filename_or_obj, fmt, pil_kwargs, metadata)\u001b[0m\n\u001b[1;32m    440\u001b[0m \u001b[39mdef\u001b[39;00m \u001b[39m_print_pil\u001b[39m(\u001b[39mself\u001b[39m, filename_or_obj, fmt, pil_kwargs, metadata\u001b[39m=\u001b[39m\u001b[39mNone\u001b[39;00m):\n\u001b[1;32m    441\u001b[0m \u001b[39m    \u001b[39m\u001b[39m\"\"\"\u001b[39;00m\n\u001b[1;32m    442\u001b[0m \u001b[39m    Draw the canvas, then save it using `.image.imsave` (to which\u001b[39;00m\n\u001b[1;32m    443\u001b[0m \u001b[39m    *pil_kwargs* and *metadata* are forwarded).\u001b[39;00m\n\u001b[1;32m    444\u001b[0m \u001b[39m    \"\"\"\u001b[39;00m\n\u001b[0;32m--> 445\u001b[0m     FigureCanvasAgg\u001b[39m.\u001b[39mdraw(\u001b[39mself\u001b[39m)\n\u001b[1;32m    446\u001b[0m     mpl\u001b[39m.\u001b[39mimage\u001b[39m.\u001b[39mimsave(\n\u001b[1;32m    447\u001b[0m         filename_or_obj, \u001b[39mself\u001b[39m\u001b[39m.\u001b[39mbuffer_rgba(), \u001b[39mformat\u001b[39m\u001b[39m=\u001b[39mfmt, origin\u001b[39m=\u001b[39m\u001b[39m\"\u001b[39m\u001b[39mupper\u001b[39m\u001b[39m\"\u001b[39m,\n\u001b[1;32m    448\u001b[0m         dpi\u001b[39m=\u001b[39m\u001b[39mself\u001b[39m\u001b[39m.\u001b[39mfigure\u001b[39m.\u001b[39mdpi, metadata\u001b[39m=\u001b[39mmetadata, pil_kwargs\u001b[39m=\u001b[39mpil_kwargs)\n",
      "File \u001b[0;32m~/miniconda3/lib/python3.12/site-packages/matplotlib/backends/backend_agg.py:388\u001b[0m, in \u001b[0;36mFigureCanvasAgg.draw\u001b[0;34m(self)\u001b[0m\n\u001b[1;32m    385\u001b[0m \u001b[39m# Acquire a lock on the shared font cache.\u001b[39;00m\n\u001b[1;32m    386\u001b[0m \u001b[39mwith\u001b[39;00m (\u001b[39mself\u001b[39m\u001b[39m.\u001b[39mtoolbar\u001b[39m.\u001b[39m_wait_cursor_for_draw_cm() \u001b[39mif\u001b[39;00m \u001b[39mself\u001b[39m\u001b[39m.\u001b[39mtoolbar\n\u001b[1;32m    387\u001b[0m       \u001b[39melse\u001b[39;00m nullcontext()):\n\u001b[0;32m--> 388\u001b[0m     \u001b[39mself\u001b[39m\u001b[39m.\u001b[39mfigure\u001b[39m.\u001b[39mdraw(\u001b[39mself\u001b[39m\u001b[39m.\u001b[39mrenderer)\n\u001b[1;32m    389\u001b[0m     \u001b[39m# A GUI class may be need to update a window using this draw, so\u001b[39;00m\n\u001b[1;32m    390\u001b[0m     \u001b[39m# don't forget to call the superclass.\u001b[39;00m\n\u001b[1;32m    391\u001b[0m     \u001b[39msuper\u001b[39m()\u001b[39m.\u001b[39mdraw()\n",
      "File \u001b[0;32m~/miniconda3/lib/python3.12/site-packages/matplotlib/artist.py:95\u001b[0m, in \u001b[0;36m_finalize_rasterization.<locals>.draw_wrapper\u001b[0;34m(artist, renderer, *args, **kwargs)\u001b[0m\n\u001b[1;32m     93\u001b[0m \u001b[39m@wraps\u001b[39m(draw)\n\u001b[1;32m     94\u001b[0m \u001b[39mdef\u001b[39;00m \u001b[39mdraw_wrapper\u001b[39m(artist, renderer, \u001b[39m*\u001b[39margs, \u001b[39m*\u001b[39m\u001b[39m*\u001b[39mkwargs):\n\u001b[0;32m---> 95\u001b[0m     result \u001b[39m=\u001b[39m draw(artist, renderer, \u001b[39m*\u001b[39margs, \u001b[39m*\u001b[39m\u001b[39m*\u001b[39mkwargs)\n\u001b[1;32m     96\u001b[0m     \u001b[39mif\u001b[39;00m renderer\u001b[39m.\u001b[39m_rasterizing:\n\u001b[1;32m     97\u001b[0m         renderer\u001b[39m.\u001b[39mstop_rasterizing()\n",
      "File \u001b[0;32m~/miniconda3/lib/python3.12/site-packages/matplotlib/artist.py:72\u001b[0m, in \u001b[0;36mallow_rasterization.<locals>.draw_wrapper\u001b[0;34m(artist, renderer)\u001b[0m\n\u001b[1;32m     69\u001b[0m     \u001b[39mif\u001b[39;00m artist\u001b[39m.\u001b[39mget_agg_filter() \u001b[39mis\u001b[39;00m \u001b[39mnot\u001b[39;00m \u001b[39mNone\u001b[39;00m:\n\u001b[1;32m     70\u001b[0m         renderer\u001b[39m.\u001b[39mstart_filter()\n\u001b[0;32m---> 72\u001b[0m     \u001b[39mreturn\u001b[39;00m draw(artist, renderer)\n\u001b[1;32m     73\u001b[0m \u001b[39mfinally\u001b[39;00m:\n\u001b[1;32m     74\u001b[0m     \u001b[39mif\u001b[39;00m artist\u001b[39m.\u001b[39mget_agg_filter() \u001b[39mis\u001b[39;00m \u001b[39mnot\u001b[39;00m \u001b[39mNone\u001b[39;00m:\n",
      "File \u001b[0;32m~/miniconda3/lib/python3.12/site-packages/matplotlib/figure.py:3154\u001b[0m, in \u001b[0;36mFigure.draw\u001b[0;34m(self, renderer)\u001b[0m\n\u001b[1;32m   3151\u001b[0m         \u001b[39m# ValueError can occur when resizing a window.\u001b[39;00m\n\u001b[1;32m   3153\u001b[0m \u001b[39mself\u001b[39m\u001b[39m.\u001b[39mpatch\u001b[39m.\u001b[39mdraw(renderer)\n\u001b[0;32m-> 3154\u001b[0m mimage\u001b[39m.\u001b[39m_draw_list_compositing_images(\n\u001b[1;32m   3155\u001b[0m     renderer, \u001b[39mself\u001b[39m, artists, \u001b[39mself\u001b[39m\u001b[39m.\u001b[39msuppressComposite)\n\u001b[1;32m   3157\u001b[0m \u001b[39mfor\u001b[39;00m sfig \u001b[39min\u001b[39;00m \u001b[39mself\u001b[39m\u001b[39m.\u001b[39msubfigs:\n\u001b[1;32m   3158\u001b[0m     sfig\u001b[39m.\u001b[39mdraw(renderer)\n",
      "File \u001b[0;32m~/miniconda3/lib/python3.12/site-packages/matplotlib/image.py:132\u001b[0m, in \u001b[0;36m_draw_list_compositing_images\u001b[0;34m(renderer, parent, artists, suppress_composite)\u001b[0m\n\u001b[1;32m    130\u001b[0m \u001b[39mif\u001b[39;00m not_composite \u001b[39mor\u001b[39;00m \u001b[39mnot\u001b[39;00m has_images:\n\u001b[1;32m    131\u001b[0m     \u001b[39mfor\u001b[39;00m a \u001b[39min\u001b[39;00m artists:\n\u001b[0;32m--> 132\u001b[0m         a\u001b[39m.\u001b[39mdraw(renderer)\n\u001b[1;32m    133\u001b[0m \u001b[39melse\u001b[39;00m:\n\u001b[1;32m    134\u001b[0m     \u001b[39m# Composite any adjacent images together\u001b[39;00m\n\u001b[1;32m    135\u001b[0m     image_group \u001b[39m=\u001b[39m []\n",
      "File \u001b[0;32m~/miniconda3/lib/python3.12/site-packages/matplotlib/artist.py:72\u001b[0m, in \u001b[0;36mallow_rasterization.<locals>.draw_wrapper\u001b[0;34m(artist, renderer)\u001b[0m\n\u001b[1;32m     69\u001b[0m     \u001b[39mif\u001b[39;00m artist\u001b[39m.\u001b[39mget_agg_filter() \u001b[39mis\u001b[39;00m \u001b[39mnot\u001b[39;00m \u001b[39mNone\u001b[39;00m:\n\u001b[1;32m     70\u001b[0m         renderer\u001b[39m.\u001b[39mstart_filter()\n\u001b[0;32m---> 72\u001b[0m     \u001b[39mreturn\u001b[39;00m draw(artist, renderer)\n\u001b[1;32m     73\u001b[0m \u001b[39mfinally\u001b[39;00m:\n\u001b[1;32m     74\u001b[0m     \u001b[39mif\u001b[39;00m artist\u001b[39m.\u001b[39mget_agg_filter() \u001b[39mis\u001b[39;00m \u001b[39mnot\u001b[39;00m \u001b[39mNone\u001b[39;00m:\n",
      "File \u001b[0;32m~/miniconda3/lib/python3.12/site-packages/matplotlib/axes/_base.py:3034\u001b[0m, in \u001b[0;36m_AxesBase.draw\u001b[0;34m(self, renderer)\u001b[0m\n\u001b[1;32m   3031\u001b[0m     \u001b[39mfor\u001b[39;00m spine \u001b[39min\u001b[39;00m \u001b[39mself\u001b[39m\u001b[39m.\u001b[39mspines\u001b[39m.\u001b[39mvalues():\n\u001b[1;32m   3032\u001b[0m         artists\u001b[39m.\u001b[39mremove(spine)\n\u001b[0;32m-> 3034\u001b[0m \u001b[39mself\u001b[39m\u001b[39m.\u001b[39m_update_title_position(renderer)\n\u001b[1;32m   3036\u001b[0m \u001b[39mif\u001b[39;00m \u001b[39mnot\u001b[39;00m \u001b[39mself\u001b[39m\u001b[39m.\u001b[39maxison:\n\u001b[1;32m   3037\u001b[0m     \u001b[39mfor\u001b[39;00m _axis \u001b[39min\u001b[39;00m \u001b[39mself\u001b[39m\u001b[39m.\u001b[39m_axis_map\u001b[39m.\u001b[39mvalues():\n",
      "File \u001b[0;32m~/miniconda3/lib/python3.12/site-packages/matplotlib/axes/_base.py:2969\u001b[0m, in \u001b[0;36m_AxesBase._update_title_position\u001b[0;34m(self, renderer)\u001b[0m\n\u001b[1;32m   2966\u001b[0m bb \u001b[39m=\u001b[39m \u001b[39mNone\u001b[39;00m\n\u001b[1;32m   2967\u001b[0m \u001b[39mif\u001b[39;00m (ax\u001b[39m.\u001b[39mxaxis\u001b[39m.\u001b[39mget_ticks_position() \u001b[39min\u001b[39;00m [\u001b[39m'\u001b[39m\u001b[39mtop\u001b[39m\u001b[39m'\u001b[39m, \u001b[39m'\u001b[39m\u001b[39munknown\u001b[39m\u001b[39m'\u001b[39m]\n\u001b[1;32m   2968\u001b[0m         \u001b[39mor\u001b[39;00m ax\u001b[39m.\u001b[39mxaxis\u001b[39m.\u001b[39mget_label_position() \u001b[39m==\u001b[39m \u001b[39m'\u001b[39m\u001b[39mtop\u001b[39m\u001b[39m'\u001b[39m):\n\u001b[0;32m-> 2969\u001b[0m     bb \u001b[39m=\u001b[39m ax\u001b[39m.\u001b[39mxaxis\u001b[39m.\u001b[39mget_tightbbox(renderer)\n\u001b[1;32m   2970\u001b[0m \u001b[39mif\u001b[39;00m bb \u001b[39mis\u001b[39;00m \u001b[39mNone\u001b[39;00m:\n\u001b[1;32m   2971\u001b[0m     \u001b[39mif\u001b[39;00m \u001b[39m'\u001b[39m\u001b[39moutline\u001b[39m\u001b[39m'\u001b[39m \u001b[39min\u001b[39;00m ax\u001b[39m.\u001b[39mspines:\n\u001b[1;32m   2972\u001b[0m         \u001b[39m# Special case for colorbars:\u001b[39;00m\n",
      "File \u001b[0;32m~/miniconda3/lib/python3.12/site-packages/matplotlib/axis.py:1336\u001b[0m, in \u001b[0;36mAxis.get_tightbbox\u001b[0;34m(self, renderer, for_layout_only)\u001b[0m\n\u001b[1;32m   1333\u001b[0m     renderer \u001b[39m=\u001b[39m \u001b[39mself\u001b[39m\u001b[39m.\u001b[39mfigure\u001b[39m.\u001b[39m_get_renderer()\n\u001b[1;32m   1334\u001b[0m ticks_to_draw \u001b[39m=\u001b[39m \u001b[39mself\u001b[39m\u001b[39m.\u001b[39m_update_ticks()\n\u001b[0;32m-> 1336\u001b[0m \u001b[39mself\u001b[39m\u001b[39m.\u001b[39m_update_label_position(renderer)\n\u001b[1;32m   1338\u001b[0m \u001b[39m# go back to just this axis's tick labels\u001b[39;00m\n\u001b[1;32m   1339\u001b[0m tlb1, tlb2 \u001b[39m=\u001b[39m \u001b[39mself\u001b[39m\u001b[39m.\u001b[39m_get_ticklabel_bboxes(ticks_to_draw, renderer)\n",
      "File \u001b[0;32m~/miniconda3/lib/python3.12/site-packages/matplotlib/axis.py:2391\u001b[0m, in \u001b[0;36mXAxis._update_label_position\u001b[0;34m(self, renderer)\u001b[0m\n\u001b[1;32m   2388\u001b[0m \u001b[39mexcept\u001b[39;00m \u001b[39mKeyError\u001b[39;00m:\n\u001b[1;32m   2389\u001b[0m     \u001b[39m# use Axes if spine doesn't exist\u001b[39;00m\n\u001b[1;32m   2390\u001b[0m     spinebbox \u001b[39m=\u001b[39m \u001b[39mself\u001b[39m\u001b[39m.\u001b[39maxes\u001b[39m.\u001b[39mbbox\n\u001b[0;32m-> 2391\u001b[0m bbox \u001b[39m=\u001b[39m mtransforms\u001b[39m.\u001b[39mBbox\u001b[39m.\u001b[39munion(bboxes2 \u001b[39m+\u001b[39m [spinebbox])\n\u001b[1;32m   2392\u001b[0m top \u001b[39m=\u001b[39m bbox\u001b[39m.\u001b[39my1\n\u001b[1;32m   2394\u001b[0m \u001b[39mself\u001b[39m\u001b[39m.\u001b[39mlabel\u001b[39m.\u001b[39mset_position(\n\u001b[1;32m   2395\u001b[0m     (x, top \u001b[39m+\u001b[39m \u001b[39mself\u001b[39m\u001b[39m.\u001b[39mlabelpad \u001b[39m*\u001b[39m \u001b[39mself\u001b[39m\u001b[39m.\u001b[39mfigure\u001b[39m.\u001b[39mdpi \u001b[39m/\u001b[39m \u001b[39m72\u001b[39m)\n\u001b[1;32m   2396\u001b[0m )\n",
      "File \u001b[0;32m~/miniconda3/lib/python3.12/site-packages/matplotlib/transforms.py:659\u001b[0m, in \u001b[0;36mBboxBase.union\u001b[0;34m(bboxes)\u001b[0m\n\u001b[1;32m    657\u001b[0m x1 \u001b[39m=\u001b[39m np\u001b[39m.\u001b[39mmax([bbox\u001b[39m.\u001b[39mxmax \u001b[39mfor\u001b[39;00m bbox \u001b[39min\u001b[39;00m bboxes])\n\u001b[1;32m    658\u001b[0m y0 \u001b[39m=\u001b[39m np\u001b[39m.\u001b[39mmin([bbox\u001b[39m.\u001b[39mymin \u001b[39mfor\u001b[39;00m bbox \u001b[39min\u001b[39;00m bboxes])\n\u001b[0;32m--> 659\u001b[0m y1 \u001b[39m=\u001b[39m np\u001b[39m.\u001b[39mmax([bbox\u001b[39m.\u001b[39mymax \u001b[39mfor\u001b[39;00m bbox \u001b[39min\u001b[39;00m bboxes])\n\u001b[1;32m    660\u001b[0m \u001b[39mreturn\u001b[39;00m Bbox([[x0, y0], [x1, y1]])\n",
      "File \u001b[0;32m~/miniconda3/lib/python3.12/site-packages/matplotlib/transforms.py:320\u001b[0m, in \u001b[0;36mBboxBase.ymax\u001b[0;34m(self)\u001b[0m\n\u001b[1;32m    317\u001b[0m \u001b[39m@property\u001b[39m\n\u001b[1;32m    318\u001b[0m \u001b[39mdef\u001b[39;00m \u001b[39mymax\u001b[39m(\u001b[39mself\u001b[39m):\n\u001b[1;32m    319\u001b[0m \u001b[39m    \u001b[39m\u001b[39m\"\"\"The top edge of the bounding box.\"\"\"\u001b[39;00m\n\u001b[0;32m--> 320\u001b[0m     \u001b[39mreturn\u001b[39;00m np\u001b[39m.\u001b[39mmax(\u001b[39mself\u001b[39m\u001b[39m.\u001b[39mget_points()[:, \u001b[39m1\u001b[39m])\n",
      "File \u001b[0;32m~/miniconda3/lib/python3.12/site-packages/numpy/core/fromnumeric.py:2810\u001b[0m, in \u001b[0;36mmax\u001b[0;34m(a, axis, out, keepdims, initial, where)\u001b[0m\n\u001b[1;32m   2692\u001b[0m \u001b[39m@array_function_dispatch\u001b[39m(_max_dispatcher)\n\u001b[1;32m   2693\u001b[0m \u001b[39m@set_module\u001b[39m(\u001b[39m'\u001b[39m\u001b[39mnumpy\u001b[39m\u001b[39m'\u001b[39m)\n\u001b[1;32m   2694\u001b[0m \u001b[39mdef\u001b[39;00m \u001b[39mmax\u001b[39m(a, axis\u001b[39m=\u001b[39m\u001b[39mNone\u001b[39;00m, out\u001b[39m=\u001b[39m\u001b[39mNone\u001b[39;00m, keepdims\u001b[39m=\u001b[39mnp\u001b[39m.\u001b[39m_NoValue, initial\u001b[39m=\u001b[39mnp\u001b[39m.\u001b[39m_NoValue,\n\u001b[1;32m   2695\u001b[0m          where\u001b[39m=\u001b[39mnp\u001b[39m.\u001b[39m_NoValue):\n\u001b[1;32m   2696\u001b[0m \u001b[39m    \u001b[39m\u001b[39m\"\"\"\u001b[39;00m\n\u001b[1;32m   2697\u001b[0m \u001b[39m    Return the maximum of an array or maximum along an axis.\u001b[39;00m\n\u001b[1;32m   2698\u001b[0m \n\u001b[0;32m   (...)\u001b[0m\n\u001b[1;32m   2808\u001b[0m \u001b[39m    5\u001b[39;00m\n\u001b[1;32m   2809\u001b[0m \u001b[39m    \"\"\"\u001b[39;00m\n\u001b[0;32m-> 2810\u001b[0m     \u001b[39mreturn\u001b[39;00m _wrapreduction(a, np\u001b[39m.\u001b[39mmaximum, \u001b[39m'\u001b[39m\u001b[39mmax\u001b[39m\u001b[39m'\u001b[39m, axis, \u001b[39mNone\u001b[39;00m, out,\n\u001b[1;32m   2811\u001b[0m                           keepdims\u001b[39m=\u001b[39mkeepdims, initial\u001b[39m=\u001b[39minitial, where\u001b[39m=\u001b[39mwhere)\n",
      "File \u001b[0;32m~/miniconda3/lib/python3.12/site-packages/numpy/core/fromnumeric.py:88\u001b[0m, in \u001b[0;36m_wrapreduction\u001b[0;34m(obj, ufunc, method, axis, dtype, out, **kwargs)\u001b[0m\n\u001b[1;32m     85\u001b[0m         \u001b[39melse\u001b[39;00m:\n\u001b[1;32m     86\u001b[0m             \u001b[39mreturn\u001b[39;00m reduction(axis\u001b[39m=\u001b[39maxis, out\u001b[39m=\u001b[39mout, \u001b[39m*\u001b[39m\u001b[39m*\u001b[39mpasskwargs)\n\u001b[0;32m---> 88\u001b[0m \u001b[39mreturn\u001b[39;00m ufunc\u001b[39m.\u001b[39mreduce(obj, axis, dtype, out, \u001b[39m*\u001b[39m\u001b[39m*\u001b[39mpasskwargs)\n",
      "\u001b[0;31mKeyboardInterrupt\u001b[0m: "
     ]
    }
   ],
   "source": [
    "models = [XGBRegressor for _ in range(5)]\n",
    "\n",
    "rf_params = {\n",
    "        \"random_state\": 42,\n",
    "    }\n",
    "\n",
    "params = {\n",
    "    \"n_estimators\": randint(10, 501),              \n",
    "    \"max_depth\": randint(3, 11),                     \n",
    "    \"learning_rate\": [1,0.1,0.01,0.3],             \n",
    "    \"subsample\": [0.4,0.5,0.6,0.8,1],                \n",
    "    \"colsample_bytree\": [0.7,0.9,1],   \n",
    "    \"min_child_weight\": randint(1, 11),          \n",
    "    \"gamma\": [0,0.1,0.01,0.3,0.5]                         \n",
    "}\n",
    "\n",
    "shap_dir = 'Results/Models_IC50/XGB_IC50'\n",
    "train_ic50(df_clean, rf_params, params, models= models, shap_dir = shap_dir, l=31, smo = False)"
   ]
  },
  {
   "cell_type": "markdown",
   "metadata": {},
   "source": [
    "#### Random Forest"
   ]
  },
  {
   "cell_type": "code",
   "execution_count": 67,
   "metadata": {},
   "outputs": [
    {
     "name": "stderr",
     "output_type": "stream",
     "text": [
      "Processing Drugs: 0it [00:00, ?it/s]"
     ]
    },
    {
     "name": "stdout",
     "output_type": "stream",
     "text": [
      "\n",
      "Calcolo SHAP per KIN001-260 su 5 modelli...\n"
     ]
    },
    {
     "name": "stderr",
     "output_type": "stream",
     "text": [
      "Processing Drugs: 1it [00:37, 37.33s/it]"
     ]
    },
    {
     "name": "stdout",
     "output_type": "stream",
     "text": [
      "\n",
      "Calcolo SHAP per TG101348 su 5 modelli...\n"
     ]
    },
    {
     "name": "stderr",
     "output_type": "stream",
     "text": [
      "Processing Drugs: 2it [01:09, 34.58s/it]"
     ]
    },
    {
     "name": "stdout",
     "output_type": "stream",
     "text": [
      "\n",
      "Calcolo SHAP per BX-912 su 5 modelli...\n"
     ]
    },
    {
     "name": "stderr",
     "output_type": "stream",
     "text": [
      "Processing Drugs: 3it [01:46, 35.47s/it]"
     ]
    },
    {
     "name": "stdout",
     "output_type": "stream",
     "text": [
      "\n",
      "Calcolo SHAP per QL-XI-92 su 5 modelli...\n"
     ]
    },
    {
     "name": "stderr",
     "output_type": "stream",
     "text": [
      "Processing Drugs: 4it [02:22, 35.84s/it]"
     ]
    },
    {
     "name": "stdout",
     "output_type": "stream",
     "text": [
      "\n",
      "Calcolo SHAP per Tubastatin A su 5 modelli...\n"
     ]
    },
    {
     "name": "stderr",
     "output_type": "stream",
     "text": [
      "Processing Drugs: 5it [03:02, 37.29s/it]"
     ]
    },
    {
     "name": "stdout",
     "output_type": "stream",
     "text": [
      "\n",
      "Calcolo SHAP per GSK690693 su 5 modelli...\n"
     ]
    },
    {
     "name": "stderr",
     "output_type": "stream",
     "text": [
      "Processing Drugs: 6it [03:39, 37.15s/it]"
     ]
    },
    {
     "name": "stdout",
     "output_type": "stream",
     "text": [
      "\n",
      "Calcolo SHAP per XMD14-99 su 5 modelli...\n"
     ]
    },
    {
     "name": "stderr",
     "output_type": "stream",
     "text": [
      "Processing Drugs: 7it [05:03, 52.38s/it]"
     ]
    },
    {
     "name": "stdout",
     "output_type": "stream",
     "text": [
      "\n",
      "Calcolo SHAP per NPK76-II-72-1 su 5 modelli...\n"
     ]
    },
    {
     "name": "stderr",
     "output_type": "stream",
     "text": [
      "Processing Drugs: 8it [05:36, 46.27s/it]"
     ]
    },
    {
     "name": "stdout",
     "output_type": "stream",
     "text": [
      "\n",
      "Calcolo SHAP per Y-39983 su 5 modelli...\n"
     ]
    },
    {
     "name": "stderr",
     "output_type": "stream",
     "text": [
      "Processing Drugs: 9it [07:00, 58.05s/it]"
     ]
    },
    {
     "name": "stdout",
     "output_type": "stream",
     "text": [
      "\n",
      "Calcolo SHAP per AT-7519 su 5 modelli...\n"
     ]
    },
    {
     "name": "stderr",
     "output_type": "stream",
     "text": [
      "Processing Drugs: 10it [07:34, 50.72s/it]"
     ]
    },
    {
     "name": "stdout",
     "output_type": "stream",
     "text": [
      "\n",
      "Calcolo SHAP per KIN001-236 su 5 modelli...\n"
     ]
    },
    {
     "name": "stderr",
     "output_type": "stream",
     "text": [
      "Processing Drugs: 11it [08:09, 45.87s/it]"
     ]
    },
    {
     "name": "stdout",
     "output_type": "stream",
     "text": [
      "\n",
      "Calcolo SHAP per TL-2-105 su 5 modelli...\n"
     ]
    },
    {
     "name": "stderr",
     "output_type": "stream",
     "text": [
      "Processing Drugs: 12it [08:43, 42.08s/it]"
     ]
    },
    {
     "name": "stdout",
     "output_type": "stream",
     "text": [
      "\n",
      "Calcolo SHAP per ABT-263 su 5 modelli...\n"
     ]
    },
    {
     "name": "stderr",
     "output_type": "stream",
     "text": [
      "Processing Drugs: 13it [10:54, 69.25s/it]"
     ]
    },
    {
     "name": "stdout",
     "output_type": "stream",
     "text": [
      "\n",
      "Calcolo SHAP per GSK1070916 su 5 modelli...\n"
     ]
    },
    {
     "name": "stderr",
     "output_type": "stream",
     "text": [
      "Processing Drugs: 14it [11:28, 58.36s/it]"
     ]
    },
    {
     "name": "stdout",
     "output_type": "stream",
     "text": [
      "\n",
      "Calcolo SHAP per Methotrexate su 5 modelli...\n"
     ]
    },
    {
     "name": "stderr",
     "output_type": "stream",
     "text": [
      "Processing Drugs: 15it [11:58, 49.88s/it]"
     ]
    },
    {
     "name": "stdout",
     "output_type": "stream",
     "text": [
      "\n",
      "Calcolo SHAP per TL-1-85 su 5 modelli...\n"
     ]
    },
    {
     "name": "stderr",
     "output_type": "stream",
     "text": [
      "Processing Drugs: 16it [12:32, 45.00s/it]"
     ]
    },
    {
     "name": "stdout",
     "output_type": "stream",
     "text": [
      "\n",
      "Calcolo SHAP per T0901317 su 5 modelli...\n"
     ]
    },
    {
     "name": "stderr",
     "output_type": "stream",
     "text": [
      "Processing Drugs: 17it [13:36, 51.00s/it]"
     ]
    },
    {
     "name": "stdout",
     "output_type": "stream",
     "text": [
      "\n",
      "Calcolo SHAP per PHA-793887 su 5 modelli...\n"
     ]
    },
    {
     "name": "stderr",
     "output_type": "stream",
     "text": [
      "Processing Drugs: 18it [14:08, 45.01s/it]"
     ]
    },
    {
     "name": "stdout",
     "output_type": "stream",
     "text": [
      "\n",
      "Calcolo SHAP per JW-7-24-1 su 5 modelli...\n"
     ]
    },
    {
     "name": "stderr",
     "output_type": "stream",
     "text": [
      "Processing Drugs: 19it [14:40, 41.25s/it]"
     ]
    },
    {
     "name": "stdout",
     "output_type": "stream",
     "text": [
      "\n",
      "Calcolo SHAP per TPCA-1 su 5 modelli...\n"
     ]
    },
    {
     "name": "stderr",
     "output_type": "stream",
     "text": [
      "Processing Drugs: 20it [15:13, 38.64s/it]"
     ]
    },
    {
     "name": "stdout",
     "output_type": "stream",
     "text": [
      "\n",
      "Calcolo SHAP per CX-5461 su 5 modelli...\n"
     ]
    },
    {
     "name": "stderr",
     "output_type": "stream",
     "text": [
      "Processing Drugs: 21it [15:45, 36.66s/it]"
     ]
    },
    {
     "name": "stdout",
     "output_type": "stream",
     "text": [
      "\n",
      "Calcolo SHAP per STF-62247 su 5 modelli...\n"
     ]
    },
    {
     "name": "stderr",
     "output_type": "stream",
     "text": [
      "Processing Drugs: 22it [16:16, 35.10s/it]"
     ]
    },
    {
     "name": "stdout",
     "output_type": "stream",
     "text": [
      "\n",
      "Calcolo SHAP per Dabrafenib su 5 modelli...\n"
     ]
    },
    {
     "name": "stderr",
     "output_type": "stream",
     "text": [
      "Processing Drugs: 23it [16:47, 34.00s/it]"
     ]
    },
    {
     "name": "stdout",
     "output_type": "stream",
     "text": [
      "\n",
      "Calcolo SHAP per GSK429286A su 5 modelli...\n"
     ]
    },
    {
     "name": "stderr",
     "output_type": "stream",
     "text": [
      "Processing Drugs: 24it [17:24, 34.74s/it]"
     ]
    },
    {
     "name": "stdout",
     "output_type": "stream",
     "text": [
      "\n",
      "Calcolo SHAP per Trametinib su 5 modelli...\n"
     ]
    },
    {
     "name": "stderr",
     "output_type": "stream",
     "text": [
      "Processing Drugs: 25it [17:56, 33.84s/it]"
     ]
    },
    {
     "name": "stdout",
     "output_type": "stream",
     "text": [
      "\n",
      "Calcolo SHAP per NG-25 su 5 modelli...\n"
     ]
    },
    {
     "name": "stderr",
     "output_type": "stream",
     "text": [
      "Processing Drugs: 26it [18:30, 33.88s/it]"
     ]
    },
    {
     "name": "stdout",
     "output_type": "stream",
     "text": [
      "\n",
      "Calcolo SHAP per BIX02189 su 5 modelli...\n"
     ]
    },
    {
     "name": "stderr",
     "output_type": "stream",
     "text": [
      "Processing Drugs: 26it [18:52, 43.57s/it]\n"
     ]
    },
    {
     "ename": "KeyboardInterrupt",
     "evalue": "",
     "output_type": "error",
     "traceback": [
      "\u001b[0;31m---------------------------------------------------------------------------\u001b[0m",
      "\u001b[0;31mKeyboardInterrupt\u001b[0m                         Traceback (most recent call last)",
      "Cell \u001b[0;32mIn[67], line 16\u001b[0m\n\u001b[1;32m      7\u001b[0m param_grid \u001b[39m=\u001b[39m {\n\u001b[1;32m      8\u001b[0m     \u001b[39m\"\u001b[39m\u001b[39mn_estimators\u001b[39m\u001b[39m\"\u001b[39m: randint(\u001b[39m10\u001b[39m, \u001b[39m501\u001b[39m),               \n\u001b[1;32m      9\u001b[0m     \u001b[39m\"\u001b[39m\u001b[39mmax_depth\u001b[39m\u001b[39m\"\u001b[39m: [\u001b[39m5\u001b[39m, \u001b[39m10\u001b[39m, \u001b[39m20\u001b[39m, \u001b[39mNone\u001b[39;00m],\n\u001b[0;32m   (...)\u001b[0m\n\u001b[1;32m     12\u001b[0m     \u001b[39m\"\u001b[39m\u001b[39mmax_features\u001b[39m\u001b[39m\"\u001b[39m: [\u001b[39m\"\u001b[39m\u001b[39msqrt\u001b[39m\u001b[39m\"\u001b[39m, \u001b[39m\"\u001b[39m\u001b[39mlog2\u001b[39m\u001b[39m\"\u001b[39m]\n\u001b[1;32m     13\u001b[0m }\n\u001b[1;32m     15\u001b[0m shap_dir \u001b[39m=\u001b[39m \u001b[39m'\u001b[39m\u001b[39mResults/Models_IC50/RF_IC50\u001b[39m\u001b[39m'\u001b[39m\n\u001b[0;32m---> 16\u001b[0m train_ic50(df_clean, rf_params, param_grid \u001b[39m=\u001b[39m param_grid, models\u001b[39m=\u001b[39m models, shap_dir \u001b[39m=\u001b[39m shap_dir, l\u001b[39m=\u001b[39m\u001b[39m31\u001b[39m, smo \u001b[39m=\u001b[39m \u001b[39mFalse\u001b[39;00m)\n",
      "Cell \u001b[0;32mIn[62], line 133\u001b[0m, in \u001b[0;36mtrain_ic50\u001b[0;34m(df_clean, rf_params, param_grid, models, shap_dir, l, smo)\u001b[0m\n\u001b[1;32m    115\u001b[0m y_pred_sensitivity \u001b[39m=\u001b[39m (y_pred_test_ic50 \u001b[39m<\u001b[39m\u001b[39m=\u001b[39m best_threshold_val)\u001b[39m.\u001b[39mastype(\u001b[39mint\u001b[39m)\n\u001b[1;32m    120\u001b[0m gen_plots(\n\u001b[1;32m    121\u001b[0m     y_test_ic50,                 \n\u001b[1;32m    122\u001b[0m     y_pred_test_ic50,           \n\u001b[0;32m   (...)\u001b[0m\n\u001b[1;32m    130\u001b[0m     shap_dir                    \n\u001b[1;32m    131\u001b[0m )\n\u001b[0;32m--> 133\u001b[0m generate_shap_plots(\n\u001b[1;32m    134\u001b[0m     models_per_fold,\n\u001b[1;32m    135\u001b[0m     X_test,\n\u001b[1;32m    136\u001b[0m     test_set,\n\u001b[1;32m    137\u001b[0m     df_clean,\n\u001b[1;32m    138\u001b[0m     shap_dir,\n\u001b[1;32m    139\u001b[0m     drug_name,\n\u001b[1;32m    140\u001b[0m     specific_drug\n\u001b[1;32m    141\u001b[0m )\n\u001b[1;32m    143\u001b[0m true_sensitivity \u001b[39m=\u001b[39m np\u001b[39m.\u001b[39marray(sensitivities)\n\u001b[1;32m    144\u001b[0m f1_test \u001b[39m=\u001b[39m f1_score(true_sensitivity, y_pred_sensitivity)\n",
      "Cell \u001b[0;32mIn[66], line 82\u001b[0m, in \u001b[0;36mgenerate_shap_plots\u001b[0;34m(models_per_fold, X_test, test_set, df_clean, shap_dir, drug_name, specific_drug)\u001b[0m\n\u001b[1;32m     80\u001b[0m fig \u001b[39m=\u001b[39m plt\u001b[39m.\u001b[39mgcf()\n\u001b[1;32m     81\u001b[0m fig_path \u001b[39m=\u001b[39m os\u001b[39m.\u001b[39mpath\u001b[39m.\u001b[39mjoin(shap_dir_drug, \u001b[39mf\u001b[39m\u001b[39m\"\u001b[39m\u001b[39m{\u001b[39;00mcell_name\u001b[39m}\u001b[39;00m\u001b[39m_shap_waterfall.png\u001b[39m\u001b[39m\"\u001b[39m)\n\u001b[0;32m---> 82\u001b[0m fig\u001b[39m.\u001b[39msavefig(fig_path, \u001b[39mformat\u001b[39m\u001b[39m=\u001b[39m\u001b[39m\"\u001b[39m\u001b[39mpng\u001b[39m\u001b[39m\"\u001b[39m) \n\u001b[1;32m     83\u001b[0m plt\u001b[39m.\u001b[39mclose(fig)  \n\u001b[1;32m     86\u001b[0m \u001b[39m## 2) shap_bar_top 5 sensitivity and resistance\u001b[39;00m\n",
      "File \u001b[0;32m~/miniconda3/lib/python3.12/site-packages/matplotlib/figure.py:3390\u001b[0m, in \u001b[0;36mFigure.savefig\u001b[0;34m(self, fname, transparent, **kwargs)\u001b[0m\n\u001b[1;32m   3388\u001b[0m     \u001b[39mfor\u001b[39;00m ax \u001b[39min\u001b[39;00m \u001b[39mself\u001b[39m\u001b[39m.\u001b[39maxes:\n\u001b[1;32m   3389\u001b[0m         _recursively_make_axes_transparent(stack, ax)\n\u001b[0;32m-> 3390\u001b[0m \u001b[39mself\u001b[39m\u001b[39m.\u001b[39mcanvas\u001b[39m.\u001b[39mprint_figure(fname, \u001b[39m*\u001b[39m\u001b[39m*\u001b[39mkwargs)\n",
      "File \u001b[0;32m~/miniconda3/lib/python3.12/site-packages/matplotlib/backend_bases.py:2193\u001b[0m, in \u001b[0;36mFigureCanvasBase.print_figure\u001b[0;34m(self, filename, dpi, facecolor, edgecolor, orientation, format, bbox_inches, pad_inches, bbox_extra_artists, backend, **kwargs)\u001b[0m\n\u001b[1;32m   2189\u001b[0m \u001b[39mtry\u001b[39;00m:\n\u001b[1;32m   2190\u001b[0m     \u001b[39m# _get_renderer may change the figure dpi (as vector formats\u001b[39;00m\n\u001b[1;32m   2191\u001b[0m     \u001b[39m# force the figure dpi to 72), so we need to set it again here.\u001b[39;00m\n\u001b[1;32m   2192\u001b[0m     \u001b[39mwith\u001b[39;00m cbook\u001b[39m.\u001b[39m_setattr_cm(\u001b[39mself\u001b[39m\u001b[39m.\u001b[39mfigure, dpi\u001b[39m=\u001b[39mdpi):\n\u001b[0;32m-> 2193\u001b[0m         result \u001b[39m=\u001b[39m print_method(\n\u001b[1;32m   2194\u001b[0m             filename,\n\u001b[1;32m   2195\u001b[0m             facecolor\u001b[39m=\u001b[39mfacecolor,\n\u001b[1;32m   2196\u001b[0m             edgecolor\u001b[39m=\u001b[39medgecolor,\n\u001b[1;32m   2197\u001b[0m             orientation\u001b[39m=\u001b[39morientation,\n\u001b[1;32m   2198\u001b[0m             bbox_inches_restore\u001b[39m=\u001b[39m_bbox_inches_restore,\n\u001b[1;32m   2199\u001b[0m             \u001b[39m*\u001b[39m\u001b[39m*\u001b[39mkwargs)\n\u001b[1;32m   2200\u001b[0m \u001b[39mfinally\u001b[39;00m:\n\u001b[1;32m   2201\u001b[0m     \u001b[39mif\u001b[39;00m bbox_inches \u001b[39mand\u001b[39;00m restore_bbox:\n",
      "File \u001b[0;32m~/miniconda3/lib/python3.12/site-packages/matplotlib/backend_bases.py:2043\u001b[0m, in \u001b[0;36mFigureCanvasBase._switch_canvas_and_return_print_method.<locals>.<lambda>\u001b[0;34m(*args, **kwargs)\u001b[0m\n\u001b[1;32m   2039\u001b[0m     optional_kws \u001b[39m=\u001b[39m {  \u001b[39m# Passed by print_figure for other renderers.\u001b[39;00m\n\u001b[1;32m   2040\u001b[0m         \u001b[39m\"\u001b[39m\u001b[39mdpi\u001b[39m\u001b[39m\"\u001b[39m, \u001b[39m\"\u001b[39m\u001b[39mfacecolor\u001b[39m\u001b[39m\"\u001b[39m, \u001b[39m\"\u001b[39m\u001b[39medgecolor\u001b[39m\u001b[39m\"\u001b[39m, \u001b[39m\"\u001b[39m\u001b[39morientation\u001b[39m\u001b[39m\"\u001b[39m,\n\u001b[1;32m   2041\u001b[0m         \u001b[39m\"\u001b[39m\u001b[39mbbox_inches_restore\u001b[39m\u001b[39m\"\u001b[39m}\n\u001b[1;32m   2042\u001b[0m     skip \u001b[39m=\u001b[39m optional_kws \u001b[39m-\u001b[39m {\u001b[39m*\u001b[39minspect\u001b[39m.\u001b[39msignature(meth)\u001b[39m.\u001b[39mparameters}\n\u001b[0;32m-> 2043\u001b[0m     print_method \u001b[39m=\u001b[39m functools\u001b[39m.\u001b[39mwraps(meth)(\u001b[39mlambda\u001b[39;00m \u001b[39m*\u001b[39margs, \u001b[39m*\u001b[39m\u001b[39m*\u001b[39mkwargs: meth(\n\u001b[1;32m   2044\u001b[0m         \u001b[39m*\u001b[39margs, \u001b[39m*\u001b[39m\u001b[39m*\u001b[39m{k: v \u001b[39mfor\u001b[39;00m k, v \u001b[39min\u001b[39;00m kwargs\u001b[39m.\u001b[39mitems() \u001b[39mif\u001b[39;00m k \u001b[39mnot\u001b[39;00m \u001b[39min\u001b[39;00m skip}))\n\u001b[1;32m   2045\u001b[0m \u001b[39melse\u001b[39;00m:  \u001b[39m# Let third-parties do as they see fit.\u001b[39;00m\n\u001b[1;32m   2046\u001b[0m     print_method \u001b[39m=\u001b[39m meth\n",
      "File \u001b[0;32m~/miniconda3/lib/python3.12/site-packages/matplotlib/backends/backend_agg.py:497\u001b[0m, in \u001b[0;36mFigureCanvasAgg.print_png\u001b[0;34m(self, filename_or_obj, metadata, pil_kwargs)\u001b[0m\n\u001b[1;32m    450\u001b[0m \u001b[39mdef\u001b[39;00m \u001b[39mprint_png\u001b[39m(\u001b[39mself\u001b[39m, filename_or_obj, \u001b[39m*\u001b[39m, metadata\u001b[39m=\u001b[39m\u001b[39mNone\u001b[39;00m, pil_kwargs\u001b[39m=\u001b[39m\u001b[39mNone\u001b[39;00m):\n\u001b[1;32m    451\u001b[0m \u001b[39m    \u001b[39m\u001b[39m\"\"\"\u001b[39;00m\n\u001b[1;32m    452\u001b[0m \u001b[39m    Write the figure to a PNG file.\u001b[39;00m\n\u001b[1;32m    453\u001b[0m \n\u001b[0;32m   (...)\u001b[0m\n\u001b[1;32m    495\u001b[0m \u001b[39m        *metadata*, including the default 'Software' key.\u001b[39;00m\n\u001b[1;32m    496\u001b[0m \u001b[39m    \"\"\"\u001b[39;00m\n\u001b[0;32m--> 497\u001b[0m     \u001b[39mself\u001b[39m\u001b[39m.\u001b[39m_print_pil(filename_or_obj, \u001b[39m\"\u001b[39m\u001b[39mpng\u001b[39m\u001b[39m\"\u001b[39m, pil_kwargs, metadata)\n",
      "File \u001b[0;32m~/miniconda3/lib/python3.12/site-packages/matplotlib/backends/backend_agg.py:445\u001b[0m, in \u001b[0;36mFigureCanvasAgg._print_pil\u001b[0;34m(self, filename_or_obj, fmt, pil_kwargs, metadata)\u001b[0m\n\u001b[1;32m    440\u001b[0m \u001b[39mdef\u001b[39;00m \u001b[39m_print_pil\u001b[39m(\u001b[39mself\u001b[39m, filename_or_obj, fmt, pil_kwargs, metadata\u001b[39m=\u001b[39m\u001b[39mNone\u001b[39;00m):\n\u001b[1;32m    441\u001b[0m \u001b[39m    \u001b[39m\u001b[39m\"\"\"\u001b[39;00m\n\u001b[1;32m    442\u001b[0m \u001b[39m    Draw the canvas, then save it using `.image.imsave` (to which\u001b[39;00m\n\u001b[1;32m    443\u001b[0m \u001b[39m    *pil_kwargs* and *metadata* are forwarded).\u001b[39;00m\n\u001b[1;32m    444\u001b[0m \u001b[39m    \"\"\"\u001b[39;00m\n\u001b[0;32m--> 445\u001b[0m     FigureCanvasAgg\u001b[39m.\u001b[39mdraw(\u001b[39mself\u001b[39m)\n\u001b[1;32m    446\u001b[0m     mpl\u001b[39m.\u001b[39mimage\u001b[39m.\u001b[39mimsave(\n\u001b[1;32m    447\u001b[0m         filename_or_obj, \u001b[39mself\u001b[39m\u001b[39m.\u001b[39mbuffer_rgba(), \u001b[39mformat\u001b[39m\u001b[39m=\u001b[39mfmt, origin\u001b[39m=\u001b[39m\u001b[39m\"\u001b[39m\u001b[39mupper\u001b[39m\u001b[39m\"\u001b[39m,\n\u001b[1;32m    448\u001b[0m         dpi\u001b[39m=\u001b[39m\u001b[39mself\u001b[39m\u001b[39m.\u001b[39mfigure\u001b[39m.\u001b[39mdpi, metadata\u001b[39m=\u001b[39mmetadata, pil_kwargs\u001b[39m=\u001b[39mpil_kwargs)\n",
      "File \u001b[0;32m~/miniconda3/lib/python3.12/site-packages/matplotlib/backends/backend_agg.py:388\u001b[0m, in \u001b[0;36mFigureCanvasAgg.draw\u001b[0;34m(self)\u001b[0m\n\u001b[1;32m    385\u001b[0m \u001b[39m# Acquire a lock on the shared font cache.\u001b[39;00m\n\u001b[1;32m    386\u001b[0m \u001b[39mwith\u001b[39;00m (\u001b[39mself\u001b[39m\u001b[39m.\u001b[39mtoolbar\u001b[39m.\u001b[39m_wait_cursor_for_draw_cm() \u001b[39mif\u001b[39;00m \u001b[39mself\u001b[39m\u001b[39m.\u001b[39mtoolbar\n\u001b[1;32m    387\u001b[0m       \u001b[39melse\u001b[39;00m nullcontext()):\n\u001b[0;32m--> 388\u001b[0m     \u001b[39mself\u001b[39m\u001b[39m.\u001b[39mfigure\u001b[39m.\u001b[39mdraw(\u001b[39mself\u001b[39m\u001b[39m.\u001b[39mrenderer)\n\u001b[1;32m    389\u001b[0m     \u001b[39m# A GUI class may be need to update a window using this draw, so\u001b[39;00m\n\u001b[1;32m    390\u001b[0m     \u001b[39m# don't forget to call the superclass.\u001b[39;00m\n\u001b[1;32m    391\u001b[0m     \u001b[39msuper\u001b[39m()\u001b[39m.\u001b[39mdraw()\n",
      "File \u001b[0;32m~/miniconda3/lib/python3.12/site-packages/matplotlib/artist.py:95\u001b[0m, in \u001b[0;36m_finalize_rasterization.<locals>.draw_wrapper\u001b[0;34m(artist, renderer, *args, **kwargs)\u001b[0m\n\u001b[1;32m     93\u001b[0m \u001b[39m@wraps\u001b[39m(draw)\n\u001b[1;32m     94\u001b[0m \u001b[39mdef\u001b[39;00m \u001b[39mdraw_wrapper\u001b[39m(artist, renderer, \u001b[39m*\u001b[39margs, \u001b[39m*\u001b[39m\u001b[39m*\u001b[39mkwargs):\n\u001b[0;32m---> 95\u001b[0m     result \u001b[39m=\u001b[39m draw(artist, renderer, \u001b[39m*\u001b[39margs, \u001b[39m*\u001b[39m\u001b[39m*\u001b[39mkwargs)\n\u001b[1;32m     96\u001b[0m     \u001b[39mif\u001b[39;00m renderer\u001b[39m.\u001b[39m_rasterizing:\n\u001b[1;32m     97\u001b[0m         renderer\u001b[39m.\u001b[39mstop_rasterizing()\n",
      "File \u001b[0;32m~/miniconda3/lib/python3.12/site-packages/matplotlib/artist.py:72\u001b[0m, in \u001b[0;36mallow_rasterization.<locals>.draw_wrapper\u001b[0;34m(artist, renderer)\u001b[0m\n\u001b[1;32m     69\u001b[0m     \u001b[39mif\u001b[39;00m artist\u001b[39m.\u001b[39mget_agg_filter() \u001b[39mis\u001b[39;00m \u001b[39mnot\u001b[39;00m \u001b[39mNone\u001b[39;00m:\n\u001b[1;32m     70\u001b[0m         renderer\u001b[39m.\u001b[39mstart_filter()\n\u001b[0;32m---> 72\u001b[0m     \u001b[39mreturn\u001b[39;00m draw(artist, renderer)\n\u001b[1;32m     73\u001b[0m \u001b[39mfinally\u001b[39;00m:\n\u001b[1;32m     74\u001b[0m     \u001b[39mif\u001b[39;00m artist\u001b[39m.\u001b[39mget_agg_filter() \u001b[39mis\u001b[39;00m \u001b[39mnot\u001b[39;00m \u001b[39mNone\u001b[39;00m:\n",
      "File \u001b[0;32m~/miniconda3/lib/python3.12/site-packages/matplotlib/figure.py:3154\u001b[0m, in \u001b[0;36mFigure.draw\u001b[0;34m(self, renderer)\u001b[0m\n\u001b[1;32m   3151\u001b[0m         \u001b[39m# ValueError can occur when resizing a window.\u001b[39;00m\n\u001b[1;32m   3153\u001b[0m \u001b[39mself\u001b[39m\u001b[39m.\u001b[39mpatch\u001b[39m.\u001b[39mdraw(renderer)\n\u001b[0;32m-> 3154\u001b[0m mimage\u001b[39m.\u001b[39m_draw_list_compositing_images(\n\u001b[1;32m   3155\u001b[0m     renderer, \u001b[39mself\u001b[39m, artists, \u001b[39mself\u001b[39m\u001b[39m.\u001b[39msuppressComposite)\n\u001b[1;32m   3157\u001b[0m \u001b[39mfor\u001b[39;00m sfig \u001b[39min\u001b[39;00m \u001b[39mself\u001b[39m\u001b[39m.\u001b[39msubfigs:\n\u001b[1;32m   3158\u001b[0m     sfig\u001b[39m.\u001b[39mdraw(renderer)\n",
      "File \u001b[0;32m~/miniconda3/lib/python3.12/site-packages/matplotlib/image.py:132\u001b[0m, in \u001b[0;36m_draw_list_compositing_images\u001b[0;34m(renderer, parent, artists, suppress_composite)\u001b[0m\n\u001b[1;32m    130\u001b[0m \u001b[39mif\u001b[39;00m not_composite \u001b[39mor\u001b[39;00m \u001b[39mnot\u001b[39;00m has_images:\n\u001b[1;32m    131\u001b[0m     \u001b[39mfor\u001b[39;00m a \u001b[39min\u001b[39;00m artists:\n\u001b[0;32m--> 132\u001b[0m         a\u001b[39m.\u001b[39mdraw(renderer)\n\u001b[1;32m    133\u001b[0m \u001b[39melse\u001b[39;00m:\n\u001b[1;32m    134\u001b[0m     \u001b[39m# Composite any adjacent images together\u001b[39;00m\n\u001b[1;32m    135\u001b[0m     image_group \u001b[39m=\u001b[39m []\n",
      "File \u001b[0;32m~/miniconda3/lib/python3.12/site-packages/matplotlib/artist.py:72\u001b[0m, in \u001b[0;36mallow_rasterization.<locals>.draw_wrapper\u001b[0;34m(artist, renderer)\u001b[0m\n\u001b[1;32m     69\u001b[0m     \u001b[39mif\u001b[39;00m artist\u001b[39m.\u001b[39mget_agg_filter() \u001b[39mis\u001b[39;00m \u001b[39mnot\u001b[39;00m \u001b[39mNone\u001b[39;00m:\n\u001b[1;32m     70\u001b[0m         renderer\u001b[39m.\u001b[39mstart_filter()\n\u001b[0;32m---> 72\u001b[0m     \u001b[39mreturn\u001b[39;00m draw(artist, renderer)\n\u001b[1;32m     73\u001b[0m \u001b[39mfinally\u001b[39;00m:\n\u001b[1;32m     74\u001b[0m     \u001b[39mif\u001b[39;00m artist\u001b[39m.\u001b[39mget_agg_filter() \u001b[39mis\u001b[39;00m \u001b[39mnot\u001b[39;00m \u001b[39mNone\u001b[39;00m:\n",
      "File \u001b[0;32m~/miniconda3/lib/python3.12/site-packages/matplotlib/axes/_base.py:3034\u001b[0m, in \u001b[0;36m_AxesBase.draw\u001b[0;34m(self, renderer)\u001b[0m\n\u001b[1;32m   3031\u001b[0m     \u001b[39mfor\u001b[39;00m spine \u001b[39min\u001b[39;00m \u001b[39mself\u001b[39m\u001b[39m.\u001b[39mspines\u001b[39m.\u001b[39mvalues():\n\u001b[1;32m   3032\u001b[0m         artists\u001b[39m.\u001b[39mremove(spine)\n\u001b[0;32m-> 3034\u001b[0m \u001b[39mself\u001b[39m\u001b[39m.\u001b[39m_update_title_position(renderer)\n\u001b[1;32m   3036\u001b[0m \u001b[39mif\u001b[39;00m \u001b[39mnot\u001b[39;00m \u001b[39mself\u001b[39m\u001b[39m.\u001b[39maxison:\n\u001b[1;32m   3037\u001b[0m     \u001b[39mfor\u001b[39;00m _axis \u001b[39min\u001b[39;00m \u001b[39mself\u001b[39m\u001b[39m.\u001b[39m_axis_map\u001b[39m.\u001b[39mvalues():\n",
      "File \u001b[0;32m~/miniconda3/lib/python3.12/site-packages/matplotlib/axes/_base.py:2969\u001b[0m, in \u001b[0;36m_AxesBase._update_title_position\u001b[0;34m(self, renderer)\u001b[0m\n\u001b[1;32m   2966\u001b[0m bb \u001b[39m=\u001b[39m \u001b[39mNone\u001b[39;00m\n\u001b[1;32m   2967\u001b[0m \u001b[39mif\u001b[39;00m (ax\u001b[39m.\u001b[39mxaxis\u001b[39m.\u001b[39mget_ticks_position() \u001b[39min\u001b[39;00m [\u001b[39m'\u001b[39m\u001b[39mtop\u001b[39m\u001b[39m'\u001b[39m, \u001b[39m'\u001b[39m\u001b[39munknown\u001b[39m\u001b[39m'\u001b[39m]\n\u001b[1;32m   2968\u001b[0m         \u001b[39mor\u001b[39;00m ax\u001b[39m.\u001b[39mxaxis\u001b[39m.\u001b[39mget_label_position() \u001b[39m==\u001b[39m \u001b[39m'\u001b[39m\u001b[39mtop\u001b[39m\u001b[39m'\u001b[39m):\n\u001b[0;32m-> 2969\u001b[0m     bb \u001b[39m=\u001b[39m ax\u001b[39m.\u001b[39mxaxis\u001b[39m.\u001b[39mget_tightbbox(renderer)\n\u001b[1;32m   2970\u001b[0m \u001b[39mif\u001b[39;00m bb \u001b[39mis\u001b[39;00m \u001b[39mNone\u001b[39;00m:\n\u001b[1;32m   2971\u001b[0m     \u001b[39mif\u001b[39;00m \u001b[39m'\u001b[39m\u001b[39moutline\u001b[39m\u001b[39m'\u001b[39m \u001b[39min\u001b[39;00m ax\u001b[39m.\u001b[39mspines:\n\u001b[1;32m   2972\u001b[0m         \u001b[39m# Special case for colorbars:\u001b[39;00m\n",
      "File \u001b[0;32m~/miniconda3/lib/python3.12/site-packages/matplotlib/axis.py:1336\u001b[0m, in \u001b[0;36mAxis.get_tightbbox\u001b[0;34m(self, renderer, for_layout_only)\u001b[0m\n\u001b[1;32m   1333\u001b[0m     renderer \u001b[39m=\u001b[39m \u001b[39mself\u001b[39m\u001b[39m.\u001b[39mfigure\u001b[39m.\u001b[39m_get_renderer()\n\u001b[1;32m   1334\u001b[0m ticks_to_draw \u001b[39m=\u001b[39m \u001b[39mself\u001b[39m\u001b[39m.\u001b[39m_update_ticks()\n\u001b[0;32m-> 1336\u001b[0m \u001b[39mself\u001b[39m\u001b[39m.\u001b[39m_update_label_position(renderer)\n\u001b[1;32m   1338\u001b[0m \u001b[39m# go back to just this axis's tick labels\u001b[39;00m\n\u001b[1;32m   1339\u001b[0m tlb1, tlb2 \u001b[39m=\u001b[39m \u001b[39mself\u001b[39m\u001b[39m.\u001b[39m_get_ticklabel_bboxes(ticks_to_draw, renderer)\n",
      "File \u001b[0;32m~/miniconda3/lib/python3.12/site-packages/matplotlib/axis.py:2368\u001b[0m, in \u001b[0;36mXAxis._update_label_position\u001b[0;34m(self, renderer)\u001b[0m\n\u001b[1;32m   2364\u001b[0m     \u001b[39mreturn\u001b[39;00m\n\u001b[1;32m   2366\u001b[0m \u001b[39m# get bounding boxes for this axis and any siblings\u001b[39;00m\n\u001b[1;32m   2367\u001b[0m \u001b[39m# that have been set by `fig.align_xlabels()`\u001b[39;00m\n\u001b[0;32m-> 2368\u001b[0m bboxes, bboxes2 \u001b[39m=\u001b[39m \u001b[39mself\u001b[39m\u001b[39m.\u001b[39m_get_tick_boxes_siblings(renderer\u001b[39m=\u001b[39mrenderer)\n\u001b[1;32m   2370\u001b[0m x, y \u001b[39m=\u001b[39m \u001b[39mself\u001b[39m\u001b[39m.\u001b[39mlabel\u001b[39m.\u001b[39mget_position()\n\u001b[1;32m   2371\u001b[0m \u001b[39mif\u001b[39;00m \u001b[39mself\u001b[39m\u001b[39m.\u001b[39mlabel_position \u001b[39m==\u001b[39m \u001b[39m'\u001b[39m\u001b[39mbottom\u001b[39m\u001b[39m'\u001b[39m:\n",
      "File \u001b[0;32m~/miniconda3/lib/python3.12/site-packages/matplotlib/axis.py:2161\u001b[0m, in \u001b[0;36mAxis._get_tick_boxes_siblings\u001b[0;34m(self, renderer)\u001b[0m\n\u001b[1;32m   2159\u001b[0m axis \u001b[39m=\u001b[39m ax\u001b[39m.\u001b[39m_axis_map[name]\n\u001b[1;32m   2160\u001b[0m ticks_to_draw \u001b[39m=\u001b[39m axis\u001b[39m.\u001b[39m_update_ticks()\n\u001b[0;32m-> 2161\u001b[0m tlb, tlb2 \u001b[39m=\u001b[39m axis\u001b[39m.\u001b[39m_get_ticklabel_bboxes(ticks_to_draw, renderer)\n\u001b[1;32m   2162\u001b[0m bboxes\u001b[39m.\u001b[39mextend(tlb)\n\u001b[1;32m   2163\u001b[0m bboxes2\u001b[39m.\u001b[39mextend(tlb2)\n",
      "File \u001b[0;32m~/miniconda3/lib/python3.12/site-packages/matplotlib/axis.py:1315\u001b[0m, in \u001b[0;36mAxis._get_ticklabel_bboxes\u001b[0;34m(self, ticks, renderer)\u001b[0m\n\u001b[1;32m   1313\u001b[0m \u001b[39mif\u001b[39;00m renderer \u001b[39mis\u001b[39;00m \u001b[39mNone\u001b[39;00m:\n\u001b[1;32m   1314\u001b[0m     renderer \u001b[39m=\u001b[39m \u001b[39mself\u001b[39m\u001b[39m.\u001b[39mfigure\u001b[39m.\u001b[39m_get_renderer()\n\u001b[0;32m-> 1315\u001b[0m \u001b[39mreturn\u001b[39;00m ([tick\u001b[39m.\u001b[39mlabel1\u001b[39m.\u001b[39mget_window_extent(renderer)\n\u001b[1;32m   1316\u001b[0m          \u001b[39mfor\u001b[39;00m tick \u001b[39min\u001b[39;00m ticks \u001b[39mif\u001b[39;00m tick\u001b[39m.\u001b[39mlabel1\u001b[39m.\u001b[39mget_visible()],\n\u001b[1;32m   1317\u001b[0m         [tick\u001b[39m.\u001b[39mlabel2\u001b[39m.\u001b[39mget_window_extent(renderer)\n\u001b[1;32m   1318\u001b[0m          \u001b[39mfor\u001b[39;00m tick \u001b[39min\u001b[39;00m ticks \u001b[39mif\u001b[39;00m tick\u001b[39m.\u001b[39mlabel2\u001b[39m.\u001b[39mget_visible()])\n",
      "File \u001b[0;32m~/miniconda3/lib/python3.12/site-packages/matplotlib/text.py:956\u001b[0m, in \u001b[0;36mText.get_window_extent\u001b[0;34m(self, renderer, dpi)\u001b[0m\n\u001b[1;32m    951\u001b[0m     \u001b[39mraise\u001b[39;00m \u001b[39mRuntimeError\u001b[39;00m(\n\u001b[1;32m    952\u001b[0m         \u001b[39m\"\u001b[39m\u001b[39mCannot get window extent of text w/o renderer. You likely \u001b[39m\u001b[39m\"\u001b[39m\n\u001b[1;32m    953\u001b[0m         \u001b[39m\"\u001b[39m\u001b[39mwant to call \u001b[39m\u001b[39m'\u001b[39m\u001b[39mfigure.draw_without_rendering()\u001b[39m\u001b[39m'\u001b[39m\u001b[39m first.\u001b[39m\u001b[39m\"\u001b[39m)\n\u001b[1;32m    955\u001b[0m \u001b[39mwith\u001b[39;00m cbook\u001b[39m.\u001b[39m_setattr_cm(\u001b[39mself\u001b[39m\u001b[39m.\u001b[39mfigure, dpi\u001b[39m=\u001b[39mdpi):\n\u001b[0;32m--> 956\u001b[0m     bbox, info, descent \u001b[39m=\u001b[39m \u001b[39mself\u001b[39m\u001b[39m.\u001b[39m_get_layout(\u001b[39mself\u001b[39m\u001b[39m.\u001b[39m_renderer)\n\u001b[1;32m    957\u001b[0m     x, y \u001b[39m=\u001b[39m \u001b[39mself\u001b[39m\u001b[39m.\u001b[39mget_unitless_position()\n\u001b[1;32m    958\u001b[0m     x, y \u001b[39m=\u001b[39m \u001b[39mself\u001b[39m\u001b[39m.\u001b[39mget_transform()\u001b[39m.\u001b[39mtransform((x, y))\n",
      "File \u001b[0;32m~/miniconda3/lib/python3.12/site-packages/matplotlib/text.py:373\u001b[0m, in \u001b[0;36mText._get_layout\u001b[0;34m(self, renderer)\u001b[0m\n\u001b[1;32m    370\u001b[0m ys \u001b[39m=\u001b[39m []\n\u001b[1;32m    372\u001b[0m \u001b[39m# Full vertical extent of font, including ascenders and descenders:\u001b[39;00m\n\u001b[0;32m--> 373\u001b[0m _, lp_h, lp_d \u001b[39m=\u001b[39m _get_text_metrics_with_cache(\n\u001b[1;32m    374\u001b[0m     renderer, \u001b[39m\"\u001b[39m\u001b[39mlp\u001b[39m\u001b[39m\"\u001b[39m, \u001b[39mself\u001b[39m\u001b[39m.\u001b[39m_fontproperties,\n\u001b[1;32m    375\u001b[0m     ismath\u001b[39m=\u001b[39m\u001b[39m\"\u001b[39m\u001b[39mTeX\u001b[39m\u001b[39m\"\u001b[39m \u001b[39mif\u001b[39;00m \u001b[39mself\u001b[39m\u001b[39m.\u001b[39mget_usetex() \u001b[39melse\u001b[39;00m \u001b[39mFalse\u001b[39;00m, dpi\u001b[39m=\u001b[39m\u001b[39mself\u001b[39m\u001b[39m.\u001b[39mfigure\u001b[39m.\u001b[39mdpi)\n\u001b[1;32m    376\u001b[0m min_dy \u001b[39m=\u001b[39m (lp_h \u001b[39m-\u001b[39m lp_d) \u001b[39m*\u001b[39m \u001b[39mself\u001b[39m\u001b[39m.\u001b[39m_linespacing\n\u001b[1;32m    378\u001b[0m \u001b[39mfor\u001b[39;00m i, line \u001b[39min\u001b[39;00m \u001b[39menumerate\u001b[39m(lines):\n",
      "File \u001b[0;32m~/miniconda3/lib/python3.12/site-packages/matplotlib/text.py:69\u001b[0m, in \u001b[0;36m_get_text_metrics_with_cache\u001b[0;34m(renderer, text, fontprop, ismath, dpi)\u001b[0m\n\u001b[1;32m     66\u001b[0m \u001b[39m\u001b[39m\u001b[39m\"\"\"Call ``renderer.get_text_width_height_descent``, caching the results.\"\"\"\u001b[39;00m\n\u001b[1;32m     67\u001b[0m \u001b[39m# Cached based on a copy of fontprop so that later in-place mutations of\u001b[39;00m\n\u001b[1;32m     68\u001b[0m \u001b[39m# the passed-in argument do not mess up the cache.\u001b[39;00m\n\u001b[0;32m---> 69\u001b[0m \u001b[39mreturn\u001b[39;00m _get_text_metrics_with_cache_impl(\n\u001b[1;32m     70\u001b[0m     weakref\u001b[39m.\u001b[39mref(renderer), text, fontprop\u001b[39m.\u001b[39mcopy(), ismath, dpi)\n",
      "File \u001b[0;32m~/miniconda3/lib/python3.12/site-packages/matplotlib/font_manager.py:650\u001b[0m, in \u001b[0;36mFontProperties.__eq__\u001b[0;34m(self, other)\u001b[0m\n\u001b[1;32m    649\u001b[0m \u001b[39mdef\u001b[39;00m \u001b[39m__eq__\u001b[39m(\u001b[39mself\u001b[39m, other):\n\u001b[0;32m--> 650\u001b[0m     \u001b[39mreturn\u001b[39;00m \u001b[39mhash\u001b[39m(\u001b[39mself\u001b[39m) \u001b[39m==\u001b[39m \u001b[39mhash\u001b[39m(other)\n",
      "File \u001b[0;32m~/miniconda3/lib/python3.12/site-packages/matplotlib/font_manager.py:643\u001b[0m, in \u001b[0;36mFontProperties.__hash__\u001b[0;34m(self)\u001b[0m\n\u001b[1;32m    638\u001b[0m \u001b[39mdef\u001b[39;00m \u001b[39m__hash__\u001b[39m(\u001b[39mself\u001b[39m):\n\u001b[1;32m    639\u001b[0m     l \u001b[39m=\u001b[39m (\u001b[39mtuple\u001b[39m(\u001b[39mself\u001b[39m\u001b[39m.\u001b[39mget_family()),\n\u001b[1;32m    640\u001b[0m          \u001b[39mself\u001b[39m\u001b[39m.\u001b[39mget_slant(),\n\u001b[1;32m    641\u001b[0m          \u001b[39mself\u001b[39m\u001b[39m.\u001b[39mget_variant(),\n\u001b[1;32m    642\u001b[0m          \u001b[39mself\u001b[39m\u001b[39m.\u001b[39mget_weight(),\n\u001b[0;32m--> 643\u001b[0m          \u001b[39mself\u001b[39m\u001b[39m.\u001b[39mget_stretch(),\n\u001b[1;32m    644\u001b[0m          \u001b[39mself\u001b[39m\u001b[39m.\u001b[39mget_size(),\n\u001b[1;32m    645\u001b[0m          \u001b[39mself\u001b[39m\u001b[39m.\u001b[39mget_file(),\n\u001b[1;32m    646\u001b[0m          \u001b[39mself\u001b[39m\u001b[39m.\u001b[39mget_math_fontfamily())\n\u001b[1;32m    647\u001b[0m     \u001b[39mreturn\u001b[39;00m \u001b[39mhash\u001b[39m(l)\n",
      "File \u001b[0;32m~/miniconda3/lib/python3.12/site-packages/matplotlib/font_manager.py:692\u001b[0m, in \u001b[0;36mFontProperties.get_stretch\u001b[0;34m(self)\u001b[0m\n\u001b[1;32m    684\u001b[0m \u001b[39m    \u001b[39m\u001b[39m\"\"\"\u001b[39;00m\n\u001b[1;32m    685\u001b[0m \u001b[39m    Set the font weight.  Options are: A numeric value in the\u001b[39;00m\n\u001b[1;32m    686\u001b[0m \u001b[39m    range 0-1000 or one of 'light', 'normal', 'regular', 'book',\u001b[39;00m\n\u001b[1;32m    687\u001b[0m \u001b[39m    'medium', 'roman', 'semibold', 'demibold', 'demi', 'bold',\u001b[39;00m\n\u001b[1;32m    688\u001b[0m \u001b[39m    'heavy', 'extra bold', 'black'\u001b[39;00m\n\u001b[1;32m    689\u001b[0m \u001b[39m    \"\"\"\u001b[39;00m\n\u001b[1;32m    690\u001b[0m     \u001b[39mreturn\u001b[39;00m \u001b[39mself\u001b[39m\u001b[39m.\u001b[39m_weight\n\u001b[0;32m--> 692\u001b[0m \u001b[39mdef\u001b[39;00m \u001b[39mget_stretch\u001b[39m(\u001b[39mself\u001b[39m):\n\u001b[1;32m    693\u001b[0m \u001b[39m    \u001b[39m\u001b[39m\"\"\"\u001b[39;00m\n\u001b[1;32m    694\u001b[0m \u001b[39m    Return the font stretch or width.  Options are: 'ultra-condensed',\u001b[39;00m\n\u001b[1;32m    695\u001b[0m \u001b[39m    'extra-condensed', 'condensed', 'semi-condensed', 'normal',\u001b[39;00m\n\u001b[1;32m    696\u001b[0m \u001b[39m    'semi-expanded', 'expanded', 'extra-expanded', 'ultra-expanded'.\u001b[39;00m\n\u001b[1;32m    697\u001b[0m \u001b[39m    \"\"\"\u001b[39;00m\n\u001b[1;32m    698\u001b[0m     \u001b[39mreturn\u001b[39;00m \u001b[39mself\u001b[39m\u001b[39m.\u001b[39m_stretch\n",
      "\u001b[0;31mKeyboardInterrupt\u001b[0m: "
     ]
    }
   ],
   "source": [
    "models = [RandomForestRegressor for _ in range(5)]\n",
    "\n",
    "rf_params = {\n",
    "        \"random_state\": 42,\n",
    "    }\n",
    "\n",
    "param_grid = {\n",
    "    \"n_estimators\": randint(10, 501),               \n",
    "    \"max_depth\": [5, 10, 20, None],\n",
    "    \"min_samples_split\": randint(2, 11),\n",
    "    \"min_samples_leaf\": randint(1, 6),\n",
    "    \"max_features\": [\"sqrt\", \"log2\"]\n",
    "}\n",
    "\n",
    "shap_dir = 'Results/Models_IC50/RF_IC50'\n",
    "train_ic50(df_clean, rf_params, param_grid = param_grid, models= models, shap_dir = shap_dir, l=31, smo = False)"
   ]
  },
  {
   "cell_type": "markdown",
   "metadata": {},
   "source": [
    "#### Gradient Boosting"
   ]
  },
  {
   "cell_type": "code",
   "execution_count": null,
   "metadata": {},
   "outputs": [
    {
     "name": "stderr",
     "output_type": "stream",
     "text": [
      "Processing Drugs: 0it [00:00, ?it/s]"
     ]
    },
    {
     "name": "stdout",
     "output_type": "stream",
     "text": [
      "\n",
      "** Results for KIN001-260 **\n",
      "IC50 - MAE: 0.744, RMSE: 0.951, R²: 0.231\n",
      "\n",
      "Calcolo SHAP per KIN001-260 su 5 modelli...\n"
     ]
    },
    {
     "name": "stderr",
     "output_type": "stream",
     "text": [
      "Processing Drugs: 1it [00:18, 18.40s/it]"
     ]
    },
    {
     "name": "stdout",
     "output_type": "stream",
     "text": [
      "\n",
      "** Results for TG101348 **\n",
      "IC50 - MAE: 0.995, RMSE: 1.261, R²: 0.351\n",
      "\n",
      "Calcolo SHAP per TG101348 su 5 modelli...\n"
     ]
    },
    {
     "name": "stderr",
     "output_type": "stream",
     "text": [
      "Processing Drugs: 2it [00:36, 18.38s/it]"
     ]
    },
    {
     "name": "stdout",
     "output_type": "stream",
     "text": [
      "\n",
      "** Results for BX-912 **\n",
      "IC50 - MAE: 1.022, RMSE: 1.264, R²: 0.545\n",
      "\n",
      "Calcolo SHAP per BX-912 su 5 modelli...\n"
     ]
    },
    {
     "name": "stderr",
     "output_type": "stream",
     "text": [
      "Processing Drugs: 3it [00:54, 18.25s/it]"
     ]
    },
    {
     "name": "stdout",
     "output_type": "stream",
     "text": [
      "\n",
      "** Results for QL-XI-92 **\n",
      "IC50 - MAE: 0.859, RMSE: 1.031, R²: 0.386\n",
      "\n",
      "Calcolo SHAP per QL-XI-92 su 5 modelli...\n"
     ]
    },
    {
     "name": "stderr",
     "output_type": "stream",
     "text": [
      "Processing Drugs: 4it [01:13, 18.24s/it]"
     ]
    },
    {
     "name": "stdout",
     "output_type": "stream",
     "text": [
      "\n",
      "** Results for Tubastatin A **\n",
      "IC50 - MAE: 0.694, RMSE: 0.870, R²: 0.442\n",
      "\n",
      "Calcolo SHAP per Tubastatin A su 5 modelli...\n"
     ]
    },
    {
     "name": "stderr",
     "output_type": "stream",
     "text": [
      "Processing Drugs: 5it [01:31, 18.25s/it]"
     ]
    },
    {
     "name": "stdout",
     "output_type": "stream",
     "text": [
      "\n",
      "** Results for GSK690693 **\n",
      "IC50 - MAE: 1.042, RMSE: 1.333, R²: 0.268\n",
      "\n",
      "Calcolo SHAP per GSK690693 su 5 modelli...\n"
     ]
    },
    {
     "name": "stderr",
     "output_type": "stream",
     "text": [
      "Processing Drugs: 6it [01:49, 18.20s/it]"
     ]
    },
    {
     "name": "stdout",
     "output_type": "stream",
     "text": [
      "\n",
      "** Results for XMD14-99 **\n",
      "IC50 - MAE: 0.678, RMSE: 0.881, R²: 0.196\n",
      "\n",
      "Calcolo SHAP per XMD14-99 su 5 modelli...\n"
     ]
    },
    {
     "name": "stderr",
     "output_type": "stream",
     "text": [
      "Processing Drugs: 7it [02:25, 24.17s/it]"
     ]
    },
    {
     "name": "stdout",
     "output_type": "stream",
     "text": [
      "\n",
      "** Results for NPK76-II-72-1 **\n",
      "IC50 - MAE: 1.134, RMSE: 1.423, R²: 0.305\n",
      "\n",
      "Calcolo SHAP per NPK76-II-72-1 su 5 modelli...\n"
     ]
    },
    {
     "name": "stderr",
     "output_type": "stream",
     "text": [
      "Processing Drugs: 8it [02:44, 22.27s/it]"
     ]
    },
    {
     "name": "stdout",
     "output_type": "stream",
     "text": [
      "\n",
      "** Results for Y-39983 **\n",
      "IC50 - MAE: 0.947, RMSE: 1.254, R²: 0.288\n",
      "\n",
      "Calcolo SHAP per Y-39983 su 5 modelli...\n"
     ]
    },
    {
     "name": "stderr",
     "output_type": "stream",
     "text": [
      "Processing Drugs: 9it [03:19, 26.29s/it]"
     ]
    },
    {
     "name": "stdout",
     "output_type": "stream",
     "text": [
      "\n",
      "** Results for AT-7519 **\n",
      "IC50 - MAE: 1.354, RMSE: 1.674, R²: 0.123\n",
      "\n",
      "Calcolo SHAP per AT-7519 su 5 modelli...\n"
     ]
    },
    {
     "name": "stderr",
     "output_type": "stream",
     "text": [
      "Processing Drugs: 10it [03:37, 23.81s/it]"
     ]
    },
    {
     "name": "stdout",
     "output_type": "stream",
     "text": [
      "\n",
      "** Results for KIN001-236 **\n",
      "IC50 - MAE: 0.634, RMSE: 0.811, R²: 0.301\n",
      "\n",
      "Calcolo SHAP per KIN001-236 su 5 modelli...\n"
     ]
    },
    {
     "name": "stderr",
     "output_type": "stream",
     "text": [
      "Processing Drugs: 11it [03:56, 22.19s/it]"
     ]
    },
    {
     "name": "stdout",
     "output_type": "stream",
     "text": [
      "\n",
      "** Results for TL-2-105 **\n",
      "IC50 - MAE: 0.839, RMSE: 1.110, R²: 0.405\n",
      "\n",
      "Calcolo SHAP per TL-2-105 su 5 modelli...\n"
     ]
    },
    {
     "name": "stderr",
     "output_type": "stream",
     "text": [
      "Processing Drugs: 12it [04:14, 21.00s/it]"
     ]
    },
    {
     "name": "stdout",
     "output_type": "stream",
     "text": [
      "\n",
      "** Results for ABT-263 **\n",
      "IC50 - MAE: 1.294, RMSE: 1.611, R²: 0.353\n",
      "\n",
      "Calcolo SHAP per ABT-263 su 5 modelli...\n"
     ]
    },
    {
     "name": "stderr",
     "output_type": "stream",
     "text": [
      "Processing Drugs: 13it [05:02, 29.21s/it]"
     ]
    },
    {
     "name": "stdout",
     "output_type": "stream",
     "text": [
      "\n",
      "** Results for GSK1070916 **\n",
      "IC50 - MAE: 1.137, RMSE: 1.477, R²: 0.493\n",
      "\n",
      "Calcolo SHAP per GSK1070916 su 5 modelli...\n"
     ]
    },
    {
     "name": "stderr",
     "output_type": "stream",
     "text": [
      "Processing Drugs: 14it [05:20, 25.86s/it]"
     ]
    },
    {
     "name": "stdout",
     "output_type": "stream",
     "text": [
      "\n",
      "** Results for Methotrexate **\n",
      "IC50 - MAE: 1.097, RMSE: 1.325, R²: 0.318\n",
      "\n",
      "Calcolo SHAP per Methotrexate su 5 modelli...\n"
     ]
    },
    {
     "name": "stderr",
     "output_type": "stream",
     "text": [
      "Processing Drugs: 15it [05:36, 22.98s/it]"
     ]
    },
    {
     "name": "stdout",
     "output_type": "stream",
     "text": [
      "\n",
      "** Results for TL-1-85 **\n",
      "IC50 - MAE: 1.166, RMSE: 1.465, R²: 0.355\n",
      "\n",
      "Calcolo SHAP per TL-1-85 su 5 modelli...\n"
     ]
    },
    {
     "name": "stderr",
     "output_type": "stream",
     "text": [
      "Processing Drugs: 16it [05:55, 21.64s/it]"
     ]
    },
    {
     "name": "stdout",
     "output_type": "stream",
     "text": [
      "\n",
      "** Results for T0901317 **\n",
      "IC50 - MAE: 0.688, RMSE: 0.941, R²: 0.268\n",
      "\n",
      "Calcolo SHAP per T0901317 su 5 modelli...\n"
     ]
    },
    {
     "name": "stderr",
     "output_type": "stream",
     "text": [
      "Processing Drugs: 17it [06:30, 25.74s/it]"
     ]
    },
    {
     "name": "stdout",
     "output_type": "stream",
     "text": [
      "\n",
      "** Results for PHA-793887 **\n",
      "IC50 - MAE: 1.422, RMSE: 1.691, R²: 0.239\n",
      "\n",
      "Calcolo SHAP per PHA-793887 su 5 modelli...\n"
     ]
    },
    {
     "name": "stderr",
     "output_type": "stream",
     "text": [
      "Processing Drugs: 18it [06:48, 23.52s/it]"
     ]
    },
    {
     "name": "stdout",
     "output_type": "stream",
     "text": [
      "\n",
      "** Results for JW-7-24-1 **\n",
      "IC50 - MAE: 1.030, RMSE: 1.356, R²: 0.307\n",
      "\n",
      "Calcolo SHAP per JW-7-24-1 su 5 modelli...\n"
     ]
    },
    {
     "name": "stderr",
     "output_type": "stream",
     "text": [
      "Processing Drugs: 19it [07:07, 21.87s/it]"
     ]
    },
    {
     "name": "stdout",
     "output_type": "stream",
     "text": [
      "\n",
      "** Results for TPCA-1 **\n",
      "IC50 - MAE: 1.162, RMSE: 1.453, R²: 0.337\n",
      "\n",
      "Calcolo SHAP per TPCA-1 su 5 modelli...\n"
     ]
    },
    {
     "name": "stderr",
     "output_type": "stream",
     "text": [
      "Processing Drugs: 20it [07:25, 20.72s/it]"
     ]
    },
    {
     "name": "stdout",
     "output_type": "stream",
     "text": [
      "\n",
      "** Results for CX-5461 **\n",
      "IC50 - MAE: 1.417, RMSE: 1.711, R²: 0.264\n",
      "\n",
      "Calcolo SHAP per CX-5461 su 5 modelli...\n"
     ]
    },
    {
     "name": "stderr",
     "output_type": "stream",
     "text": [
      "Processing Drugs: 21it [07:42, 19.82s/it]"
     ]
    },
    {
     "name": "stdout",
     "output_type": "stream",
     "text": [
      "\n",
      "** Results for STF-62247 **\n",
      "IC50 - MAE: 0.621, RMSE: 0.801, R²: 0.282\n",
      "\n",
      "Calcolo SHAP per STF-62247 su 5 modelli...\n"
     ]
    },
    {
     "name": "stderr",
     "output_type": "stream",
     "text": [
      "Processing Drugs: 22it [08:00, 19.28s/it]"
     ]
    },
    {
     "name": "stdout",
     "output_type": "stream",
     "text": [
      "\n",
      "** Results for Dabrafenib **\n",
      "IC50 - MAE: 1.146, RMSE: 1.648, R²: 0.217\n",
      "\n",
      "Calcolo SHAP per Dabrafenib su 5 modelli...\n"
     ]
    },
    {
     "name": "stderr",
     "output_type": "stream",
     "text": [
      "Processing Drugs: 23it [08:17, 18.66s/it]"
     ]
    },
    {
     "name": "stdout",
     "output_type": "stream",
     "text": [
      "\n",
      "** Results for GSK429286A **\n",
      "IC50 - MAE: 0.767, RMSE: 1.037, R²: 0.402\n",
      "\n",
      "Calcolo SHAP per GSK429286A su 5 modelli...\n"
     ]
    },
    {
     "name": "stderr",
     "output_type": "stream",
     "text": [
      "Processing Drugs: 24it [08:36, 18.61s/it]"
     ]
    },
    {
     "name": "stdout",
     "output_type": "stream",
     "text": [
      "\n",
      "** Results for Trametinib **\n",
      "IC50 - MAE: 1.757, RMSE: 2.293, R²: 0.230\n",
      "\n",
      "Calcolo SHAP per Trametinib su 5 modelli...\n"
     ]
    },
    {
     "name": "stderr",
     "output_type": "stream",
     "text": [
      "Processing Drugs: 25it [08:53, 18.28s/it]"
     ]
    },
    {
     "name": "stdout",
     "output_type": "stream",
     "text": [
      "\n",
      "** Results for NG-25 **\n",
      "IC50 - MAE: 1.128, RMSE: 1.432, R²: 0.342\n",
      "\n",
      "Calcolo SHAP per NG-25 su 5 modelli...\n"
     ]
    },
    {
     "name": "stderr",
     "output_type": "stream",
     "text": [
      "Processing Drugs: 26it [09:11, 18.19s/it]"
     ]
    },
    {
     "name": "stdout",
     "output_type": "stream",
     "text": [
      "\n",
      "** Results for BIX02189 **\n",
      "IC50 - MAE: 0.743, RMSE: 0.998, R²: 0.397\n",
      "\n",
      "Calcolo SHAP per BIX02189 su 5 modelli...\n"
     ]
    },
    {
     "name": "stderr",
     "output_type": "stream",
     "text": [
      "Processing Drugs: 27it [09:29, 18.12s/it]"
     ]
    },
    {
     "name": "stdout",
     "output_type": "stream",
     "text": [
      "\n",
      "** Results for PIK-93 **\n",
      "IC50 - MAE: 1.110, RMSE: 1.415, R²: 0.284\n",
      "\n",
      "Calcolo SHAP per PIK-93 su 5 modelli...\n"
     ]
    },
    {
     "name": "stderr",
     "output_type": "stream",
     "text": [
      "Processing Drugs: 28it [10:05, 23.40s/it]"
     ]
    },
    {
     "name": "stdout",
     "output_type": "stream",
     "text": [
      "\n",
      "** Results for XMD15-27 **\n",
      "IC50 - MAE: 0.529, RMSE: 0.701, R²: 0.440\n",
      "\n",
      "Calcolo SHAP per XMD15-27 su 5 modelli...\n"
     ]
    },
    {
     "name": "stderr",
     "output_type": "stream",
     "text": [
      "Processing Drugs: 29it [11:36, 43.60s/it]"
     ]
    },
    {
     "name": "stdout",
     "output_type": "stream",
     "text": [
      "\n",
      "** Results for AC220 **\n",
      "IC50 - MAE: 0.664, RMSE: 1.061, R²: 0.275\n",
      "\n",
      "Calcolo SHAP per AC220 su 5 modelli...\n"
     ]
    },
    {
     "name": "stderr",
     "output_type": "stream",
     "text": [
      "Processing Drugs: 30it [11:55, 23.84s/it]\n"
     ]
    },
    {
     "name": "stdout",
     "output_type": "stream",
     "text": [
      "\n",
      "\n",
      "========= GLOBAL METRICS ACROSS ALL DRUGS =========\n",
      "Global IC50 - MAE: 0.944, RMSE: 1.267, R²: 0.629\n"
     ]
    }
   ],
   "source": [
    "models = [GradientBoostingRegressor for _ in range(5)]\n",
    "\n",
    "rf_params = {\n",
    "        \"random_state\": 42,\n",
    "    }\n",
    "params = {\n",
    "    \"n_estimators\": randint(10, 301),            \n",
    "    \"max_depth\": randint(3, 11),                   \n",
    "    \"learning_rate\": [1, 0.1, 0.01, 0.3],          \n",
    "    \"subsample\": [0.4, 0.5, 0.6, 0.8, 1],          \n",
    "    \"min_samples_split\": randint(2, 11),          \n",
    "    \"min_samples_leaf\": randint(1, 11),            \n",
    "    \"max_features\": ['sqrt', 'log2', None]         \n",
    "}\n",
    "\n",
    "shap_dir = 'Results/Models_IC50/GB_IC50'\n",
    "train_ic50(df_clean, rf_params, params, models= models, shap_dir = shap_dir, l=31, smo = False)"
   ]
  },
  {
   "cell_type": "markdown",
   "metadata": {},
   "source": [
    "#### ALL"
   ]
  },
  {
   "cell_type": "code",
   "execution_count": null,
   "metadata": {},
   "outputs": [
    {
     "name": "stderr",
     "output_type": "stream",
     "text": [
      "Processing Drugs: 0it [00:00, ?it/s]"
     ]
    },
    {
     "name": "stdout",
     "output_type": "stream",
     "text": [
      "\n",
      "** Results for KIN001-260 **\n",
      "IC50 - MAE: 0.747, RMSE: 0.941, R²: 0.247\n",
      "\n",
      "Calcolo SHAP per KIN001-260 su 5 modelli...\n"
     ]
    },
    {
     "name": "stderr",
     "output_type": "stream",
     "text": [
      "Processing Drugs: 1it [00:23, 23.47s/it]"
     ]
    },
    {
     "name": "stdout",
     "output_type": "stream",
     "text": [
      "\n",
      "** Results for TG101348 **\n",
      "IC50 - MAE: 1.038, RMSE: 1.309, R²: 0.300\n",
      "\n",
      "Calcolo SHAP per TG101348 su 5 modelli...\n"
     ]
    },
    {
     "name": "stderr",
     "output_type": "stream",
     "text": [
      "Processing Drugs: 2it [00:42, 21.09s/it]"
     ]
    },
    {
     "name": "stdout",
     "output_type": "stream",
     "text": [
      "\n",
      "** Results for BX-912 **\n",
      "IC50 - MAE: 1.050, RMSE: 1.289, R²: 0.527\n",
      "\n",
      "Calcolo SHAP per BX-912 su 5 modelli...\n"
     ]
    },
    {
     "name": "stderr",
     "output_type": "stream",
     "text": [
      "Processing Drugs: 3it [01:02, 20.43s/it]"
     ]
    },
    {
     "name": "stdout",
     "output_type": "stream",
     "text": [
      "\n",
      "** Results for QL-XI-92 **\n",
      "IC50 - MAE: 0.865, RMSE: 1.040, R²: 0.375\n",
      "\n",
      "Calcolo SHAP per QL-XI-92 su 5 modelli...\n"
     ]
    },
    {
     "name": "stderr",
     "output_type": "stream",
     "text": [
      "Processing Drugs: 4it [01:24, 21.10s/it]"
     ]
    },
    {
     "name": "stdout",
     "output_type": "stream",
     "text": [
      "\n",
      "** Results for Tubastatin A **\n",
      "IC50 - MAE: 0.703, RMSE: 0.871, R²: 0.441\n",
      "\n",
      "Calcolo SHAP per Tubastatin A su 5 modelli...\n"
     ]
    },
    {
     "name": "stderr",
     "output_type": "stream",
     "text": [
      "Processing Drugs: 5it [01:43, 20.16s/it]"
     ]
    },
    {
     "name": "stdout",
     "output_type": "stream",
     "text": [
      "\n",
      "** Results for GSK690693 **\n",
      "IC50 - MAE: 1.036, RMSE: 1.295, R²: 0.310\n",
      "\n",
      "Calcolo SHAP per GSK690693 su 5 modelli...\n"
     ]
    },
    {
     "name": "stderr",
     "output_type": "stream",
     "text": [
      "Processing Drugs: 6it [02:01, 19.53s/it]"
     ]
    },
    {
     "name": "stdout",
     "output_type": "stream",
     "text": [
      "\n",
      "** Results for XMD14-99 **\n",
      "IC50 - MAE: 0.676, RMSE: 0.885, R²: 0.189\n",
      "\n",
      "Calcolo SHAP per XMD14-99 su 5 modelli...\n"
     ]
    },
    {
     "name": "stderr",
     "output_type": "stream",
     "text": [
      "Processing Drugs: 7it [02:41, 26.29s/it]"
     ]
    },
    {
     "name": "stdout",
     "output_type": "stream",
     "text": [
      "\n",
      "** Results for NPK76-II-72-1 **\n",
      "IC50 - MAE: 1.125, RMSE: 1.389, R²: 0.338\n",
      "\n",
      "Calcolo SHAP per NPK76-II-72-1 su 5 modelli...\n"
     ]
    },
    {
     "name": "stderr",
     "output_type": "stream",
     "text": [
      "Processing Drugs: 8it [03:01, 24.12s/it]"
     ]
    },
    {
     "name": "stdout",
     "output_type": "stream",
     "text": [
      "\n",
      "** Results for Y-39983 **\n",
      "IC50 - MAE: 0.946, RMSE: 1.261, R²: 0.280\n",
      "\n",
      "Calcolo SHAP per Y-39983 su 5 modelli...\n"
     ]
    },
    {
     "name": "stderr",
     "output_type": "stream",
     "text": [
      "Processing Drugs: 9it [03:41, 29.25s/it]"
     ]
    },
    {
     "name": "stdout",
     "output_type": "stream",
     "text": [
      "\n",
      "** Results for AT-7519 **\n",
      "IC50 - MAE: 1.378, RMSE: 1.694, R²: 0.102\n",
      "\n",
      "Calcolo SHAP per AT-7519 su 5 modelli...\n"
     ]
    },
    {
     "name": "stderr",
     "output_type": "stream",
     "text": [
      "Processing Drugs: 10it [04:02, 26.73s/it]"
     ]
    },
    {
     "name": "stdout",
     "output_type": "stream",
     "text": [
      "\n",
      "** Results for KIN001-236 **\n",
      "IC50 - MAE: 0.646, RMSE: 0.824, R²: 0.279\n",
      "\n",
      "Calcolo SHAP per KIN001-236 su 5 modelli...\n"
     ]
    },
    {
     "name": "stderr",
     "output_type": "stream",
     "text": [
      "Processing Drugs: 11it [04:22, 24.68s/it]"
     ]
    },
    {
     "name": "stdout",
     "output_type": "stream",
     "text": [
      "\n",
      "** Results for TL-2-105 **\n",
      "IC50 - MAE: 0.842, RMSE: 1.085, R²: 0.432\n",
      "\n",
      "Calcolo SHAP per TL-2-105 su 5 modelli...\n"
     ]
    },
    {
     "name": "stderr",
     "output_type": "stream",
     "text": [
      "Processing Drugs: 12it [04:43, 23.49s/it]"
     ]
    },
    {
     "name": "stdout",
     "output_type": "stream",
     "text": [
      "\n",
      "** Results for ABT-263 **\n",
      "IC50 - MAE: 1.350, RMSE: 1.672, R²: 0.303\n",
      "\n",
      "Calcolo SHAP per ABT-263 su 5 modelli...\n"
     ]
    },
    {
     "name": "stderr",
     "output_type": "stream",
     "text": [
      "Processing Drugs: 13it [05:36, 32.38s/it]"
     ]
    },
    {
     "name": "stdout",
     "output_type": "stream",
     "text": [
      "\n",
      "** Results for GSK1070916 **\n",
      "IC50 - MAE: 1.099, RMSE: 1.449, R²: 0.512\n",
      "\n",
      "Calcolo SHAP per GSK1070916 su 5 modelli...\n"
     ]
    },
    {
     "name": "stderr",
     "output_type": "stream",
     "text": [
      "Processing Drugs: 14it [05:59, 29.58s/it]"
     ]
    },
    {
     "name": "stdout",
     "output_type": "stream",
     "text": [
      "\n",
      "** Results for Methotrexate **\n",
      "IC50 - MAE: 1.113, RMSE: 1.337, R²: 0.306\n",
      "\n",
      "Calcolo SHAP per Methotrexate su 5 modelli...\n"
     ]
    },
    {
     "name": "stderr",
     "output_type": "stream",
     "text": [
      "Processing Drugs: 15it [06:16, 25.71s/it]"
     ]
    },
    {
     "name": "stdout",
     "output_type": "stream",
     "text": [
      "\n",
      "** Results for TL-1-85 **\n",
      "IC50 - MAE: 1.156, RMSE: 1.421, R²: 0.394\n",
      "\n",
      "Calcolo SHAP per TL-1-85 su 5 modelli...\n"
     ]
    },
    {
     "name": "stderr",
     "output_type": "stream",
     "text": [
      "Processing Drugs: 16it [06:34, 23.48s/it]"
     ]
    },
    {
     "name": "stdout",
     "output_type": "stream",
     "text": [
      "\n",
      "** Results for T0901317 **\n",
      "IC50 - MAE: 0.689, RMSE: 0.939, R²: 0.270\n",
      "\n",
      "Calcolo SHAP per T0901317 su 5 modelli...\n"
     ]
    },
    {
     "name": "stderr",
     "output_type": "stream",
     "text": [
      "Processing Drugs: 17it [07:11, 27.50s/it]"
     ]
    },
    {
     "name": "stdout",
     "output_type": "stream",
     "text": [
      "\n",
      "** Results for PHA-793887 **\n",
      "IC50 - MAE: 1.451, RMSE: 1.708, R²: 0.224\n",
      "\n",
      "Calcolo SHAP per PHA-793887 su 5 modelli...\n"
     ]
    },
    {
     "name": "stderr",
     "output_type": "stream",
     "text": [
      "Processing Drugs: 18it [07:29, 24.77s/it]"
     ]
    },
    {
     "name": "stdout",
     "output_type": "stream",
     "text": [
      "\n",
      "** Results for JW-7-24-1 **\n",
      "IC50 - MAE: 1.069, RMSE: 1.363, R²: 0.300\n",
      "\n",
      "Calcolo SHAP per JW-7-24-1 su 5 modelli...\n"
     ]
    },
    {
     "name": "stderr",
     "output_type": "stream",
     "text": [
      "Processing Drugs: 19it [07:48, 22.87s/it]"
     ]
    },
    {
     "name": "stdout",
     "output_type": "stream",
     "text": [
      "\n",
      "** Results for TPCA-1 **\n",
      "IC50 - MAE: 1.173, RMSE: 1.474, R²: 0.318\n",
      "\n",
      "Calcolo SHAP per TPCA-1 su 5 modelli...\n"
     ]
    },
    {
     "name": "stderr",
     "output_type": "stream",
     "text": [
      "Processing Drugs: 20it [08:08, 22.10s/it]"
     ]
    },
    {
     "name": "stdout",
     "output_type": "stream",
     "text": [
      "\n",
      "** Results for CX-5461 **\n",
      "IC50 - MAE: 1.410, RMSE: 1.705, R²: 0.269\n",
      "\n",
      "Calcolo SHAP per CX-5461 su 5 modelli...\n"
     ]
    },
    {
     "name": "stderr",
     "output_type": "stream",
     "text": [
      "Processing Drugs: 21it [08:33, 23.01s/it]"
     ]
    },
    {
     "name": "stdout",
     "output_type": "stream",
     "text": [
      "\n",
      "** Results for STF-62247 **\n",
      "IC50 - MAE: 0.620, RMSE: 0.798, R²: 0.287\n",
      "\n",
      "Calcolo SHAP per STF-62247 su 5 modelli...\n"
     ]
    },
    {
     "name": "stderr",
     "output_type": "stream",
     "text": [
      "Processing Drugs: 22it [08:52, 21.67s/it]"
     ]
    },
    {
     "name": "stdout",
     "output_type": "stream",
     "text": [
      "\n",
      "** Results for Dabrafenib **\n",
      "IC50 - MAE: 1.144, RMSE: 1.657, R²: 0.208\n",
      "\n",
      "Calcolo SHAP per Dabrafenib su 5 modelli...\n"
     ]
    },
    {
     "name": "stderr",
     "output_type": "stream",
     "text": [
      "Processing Drugs: 23it [09:09, 20.42s/it]"
     ]
    },
    {
     "name": "stdout",
     "output_type": "stream",
     "text": [
      "\n",
      "** Results for GSK429286A **\n",
      "IC50 - MAE: 0.788, RMSE: 1.049, R²: 0.388\n",
      "\n",
      "Calcolo SHAP per GSK429286A su 5 modelli...\n"
     ]
    },
    {
     "name": "stderr",
     "output_type": "stream",
     "text": [
      "Processing Drugs: 24it [09:29, 20.33s/it]"
     ]
    },
    {
     "name": "stdout",
     "output_type": "stream",
     "text": [
      "\n",
      "** Results for Trametinib **\n",
      "IC50 - MAE: 1.778, RMSE: 2.337, R²: 0.200\n",
      "\n",
      "Calcolo SHAP per Trametinib su 5 modelli...\n"
     ]
    },
    {
     "name": "stderr",
     "output_type": "stream",
     "text": [
      "Processing Drugs: 25it [09:52, 21.02s/it]"
     ]
    },
    {
     "name": "stdout",
     "output_type": "stream",
     "text": [
      "\n",
      "** Results for NG-25 **\n",
      "IC50 - MAE: 1.155, RMSE: 1.438, R²: 0.337\n",
      "\n",
      "Calcolo SHAP per NG-25 su 5 modelli...\n"
     ]
    },
    {
     "name": "stderr",
     "output_type": "stream",
     "text": [
      "Processing Drugs: 26it [10:11, 20.45s/it]"
     ]
    },
    {
     "name": "stdout",
     "output_type": "stream",
     "text": [
      "\n",
      "** Results for BIX02189 **\n",
      "IC50 - MAE: 0.752, RMSE: 0.998, R²: 0.397\n",
      "\n",
      "Calcolo SHAP per BIX02189 su 5 modelli...\n"
     ]
    },
    {
     "name": "stderr",
     "output_type": "stream",
     "text": [
      "Processing Drugs: 27it [10:33, 20.97s/it]"
     ]
    },
    {
     "name": "stdout",
     "output_type": "stream",
     "text": [
      "\n",
      "** Results for PIK-93 **\n",
      "IC50 - MAE: 1.136, RMSE: 1.428, R²: 0.270\n",
      "\n",
      "Calcolo SHAP per PIK-93 su 5 modelli...\n"
     ]
    },
    {
     "name": "stderr",
     "output_type": "stream",
     "text": [
      "Processing Drugs: 28it [11:10, 25.80s/it]"
     ]
    },
    {
     "name": "stdout",
     "output_type": "stream",
     "text": [
      "\n",
      "** Results for XMD15-27 **\n",
      "IC50 - MAE: 0.530, RMSE: 0.695, R²: 0.450\n",
      "\n",
      "Calcolo SHAP per XMD15-27 su 5 modelli...\n"
     ]
    },
    {
     "name": "stderr",
     "output_type": "stream",
     "text": [
      "Processing Drugs: 29it [12:53, 49.00s/it]"
     ]
    },
    {
     "name": "stdout",
     "output_type": "stream",
     "text": [
      "\n",
      "** Results for AC220 **\n",
      "IC50 - MAE: 0.659, RMSE: 1.072, R²: 0.260\n",
      "\n",
      "Calcolo SHAP per AC220 su 5 modelli...\n"
     ]
    },
    {
     "name": "stderr",
     "output_type": "stream",
     "text": [
      "Processing Drugs: 30it [13:17, 26.59s/it]\n"
     ]
    },
    {
     "name": "stdout",
     "output_type": "stream",
     "text": [
      "\n",
      "\n",
      "========= GLOBAL METRICS ACROSS ALL DRUGS =========\n",
      "Global IC50 - MAE: 0.955, RMSE: 1.276, R²: 0.624\n"
     ]
    }
   ],
   "source": [
    "models = [XGBRegressor, RandomForestRegressor, GradientBoostingRegressor, RandomForestRegressor,XGBRegressor ]\n",
    "rf_params = {\n",
    "        \"random_state\": 42,\n",
    "    }\n",
    "\n",
    "params = {\n",
    "    \"n_estimators\": randint(10, 501),              \n",
    "    \"max_depth\": [5, 7, 10, 20, None],\n",
    "}\n",
    "\n",
    "shap_dir = 'Results/Models_IC50/GB_XGB_RF'\n",
    "\n",
    "train_ic50(df_clean, rf_params, params, models= models, shap_dir = shap_dir, l=31, smo = False)"
   ]
  },
  {
   "cell_type": "markdown",
   "metadata": {},
   "source": [
    "### Oversampling"
   ]
  },
  {
   "cell_type": "markdown",
   "metadata": {},
   "source": [
    "#### XGBoosting"
   ]
  },
  {
   "cell_type": "code",
   "execution_count": null,
   "metadata": {},
   "outputs": [
    {
     "name": "stderr",
     "output_type": "stream",
     "text": [
      "Processing Drugs: 0it [00:00, ?it/s]"
     ]
    },
    {
     "name": "stdout",
     "output_type": "stream",
     "text": [
      "\n",
      "** Results for KIN001-260 **\n",
      "IC50 - MAE: 0.761, RMSE: 0.926, R²: 0.271\n",
      "\n",
      "Calcolo SHAP per KIN001-260 su 5 modelli...\n"
     ]
    },
    {
     "name": "stderr",
     "output_type": "stream",
     "text": [
      "Processing Drugs: 1it [00:19, 19.09s/it]"
     ]
    },
    {
     "name": "stdout",
     "output_type": "stream",
     "text": [
      "\n",
      "** Results for TG101348 **\n",
      "IC50 - MAE: 1.149, RMSE: 1.515, R²: 0.064\n",
      "\n",
      "Calcolo SHAP per TG101348 su 5 modelli...\n"
     ]
    },
    {
     "name": "stderr",
     "output_type": "stream",
     "text": [
      "Processing Drugs: 2it [00:37, 18.79s/it]"
     ]
    },
    {
     "name": "stdout",
     "output_type": "stream",
     "text": [
      "\n",
      "** Results for BX-912 **\n",
      "IC50 - MAE: 1.339, RMSE: 1.664, R²: 0.211\n",
      "\n",
      "Calcolo SHAP per BX-912 su 5 modelli...\n"
     ]
    },
    {
     "name": "stderr",
     "output_type": "stream",
     "text": [
      "Processing Drugs: 3it [00:56, 18.78s/it]"
     ]
    },
    {
     "name": "stdout",
     "output_type": "stream",
     "text": [
      "\n",
      "** Results for QL-XI-92 **\n",
      "IC50 - MAE: 0.905, RMSE: 1.066, R²: 0.343\n",
      "\n",
      "Calcolo SHAP per QL-XI-92 su 5 modelli...\n"
     ]
    },
    {
     "name": "stderr",
     "output_type": "stream",
     "text": [
      "Processing Drugs: 4it [01:15, 18.75s/it]"
     ]
    },
    {
     "name": "stdout",
     "output_type": "stream",
     "text": [
      "\n",
      "** Results for Tubastatin A **\n",
      "IC50 - MAE: 0.751, RMSE: 0.903, R²: 0.399\n",
      "\n",
      "Calcolo SHAP per Tubastatin A su 5 modelli...\n"
     ]
    },
    {
     "name": "stderr",
     "output_type": "stream",
     "text": [
      "Processing Drugs: 5it [01:33, 18.70s/it]"
     ]
    },
    {
     "name": "stdout",
     "output_type": "stream",
     "text": [
      "\n",
      "** Results for GSK690693 **\n",
      "IC50 - MAE: 1.000, RMSE: 1.266, R²: 0.341\n",
      "\n",
      "Calcolo SHAP per GSK690693 su 5 modelli...\n"
     ]
    },
    {
     "name": "stderr",
     "output_type": "stream",
     "text": [
      "Processing Drugs: 6it [01:52, 18.68s/it]"
     ]
    },
    {
     "name": "stdout",
     "output_type": "stream",
     "text": [
      "\n",
      "** Results for XMD14-99 **\n",
      "IC50 - MAE: 0.723, RMSE: 0.910, R²: 0.143\n",
      "\n",
      "Calcolo SHAP per XMD14-99 su 5 modelli...\n"
     ]
    },
    {
     "name": "stderr",
     "output_type": "stream",
     "text": [
      "Processing Drugs: 7it [02:28, 24.27s/it]"
     ]
    },
    {
     "name": "stdout",
     "output_type": "stream",
     "text": [
      "\n",
      "** Results for NPK76-II-72-1 **\n",
      "IC50 - MAE: 1.388, RMSE: 1.698, R²: 0.011\n",
      "\n",
      "Calcolo SHAP per NPK76-II-72-1 su 5 modelli...\n"
     ]
    },
    {
     "name": "stderr",
     "output_type": "stream",
     "text": [
      "Processing Drugs: 8it [02:46, 22.54s/it]"
     ]
    },
    {
     "name": "stdout",
     "output_type": "stream",
     "text": [
      "\n",
      "** Results for Y-39983 **\n",
      "IC50 - MAE: 0.972, RMSE: 1.267, R²: 0.273\n",
      "\n",
      "Calcolo SHAP per Y-39983 su 5 modelli...\n"
     ]
    },
    {
     "name": "stderr",
     "output_type": "stream",
     "text": [
      "Processing Drugs: 9it [03:22, 26.70s/it]"
     ]
    },
    {
     "name": "stdout",
     "output_type": "stream",
     "text": [
      "\n",
      "** Results for AT-7519 **\n",
      "IC50 - MAE: 1.742, RMSE: 2.170, R²: -0.473\n",
      "\n",
      "Calcolo SHAP per AT-7519 su 5 modelli...\n"
     ]
    },
    {
     "name": "stderr",
     "output_type": "stream",
     "text": [
      "Processing Drugs: 10it [03:41, 24.20s/it]"
     ]
    },
    {
     "name": "stdout",
     "output_type": "stream",
     "text": [
      "\n",
      "** Results for KIN001-236 **\n",
      "IC50 - MAE: 0.735, RMSE: 0.908, R²: 0.125\n",
      "\n",
      "Calcolo SHAP per KIN001-236 su 5 modelli...\n"
     ]
    },
    {
     "name": "stderr",
     "output_type": "stream",
     "text": [
      "Processing Drugs: 11it [04:00, 22.48s/it]"
     ]
    },
    {
     "name": "stdout",
     "output_type": "stream",
     "text": [
      "\n",
      "** Results for TL-2-105 **\n",
      "IC50 - MAE: 0.987, RMSE: 1.222, R²: 0.280\n",
      "\n",
      "Calcolo SHAP per TL-2-105 su 5 modelli...\n"
     ]
    },
    {
     "name": "stderr",
     "output_type": "stream",
     "text": [
      "Processing Drugs: 12it [04:18, 21.36s/it]"
     ]
    },
    {
     "name": "stdout",
     "output_type": "stream",
     "text": [
      "\n",
      "** Results for ABT-263 **\n",
      "IC50 - MAE: 1.450, RMSE: 1.715, R²: 0.266\n",
      "\n",
      "Calcolo SHAP per ABT-263 su 5 modelli...\n"
     ]
    },
    {
     "name": "stderr",
     "output_type": "stream",
     "text": [
      "Processing Drugs: 13it [05:06, 29.23s/it]"
     ]
    },
    {
     "name": "stdout",
     "output_type": "stream",
     "text": [
      "\n",
      "** Results for GSK1070916 **\n",
      "IC50 - MAE: 1.286, RMSE: 1.625, R²: 0.387\n",
      "\n",
      "Calcolo SHAP per GSK1070916 su 5 modelli...\n"
     ]
    },
    {
     "name": "stderr",
     "output_type": "stream",
     "text": [
      "Processing Drugs: 14it [05:24, 25.94s/it]"
     ]
    },
    {
     "name": "stdout",
     "output_type": "stream",
     "text": [
      "\n",
      "** Results for Methotrexate **\n",
      "IC50 - MAE: 1.386, RMSE: 1.617, R²: -0.015\n",
      "\n",
      "Calcolo SHAP per Methotrexate su 5 modelli...\n"
     ]
    },
    {
     "name": "stderr",
     "output_type": "stream",
     "text": [
      "Processing Drugs: 15it [05:41, 23.23s/it]"
     ]
    },
    {
     "name": "stdout",
     "output_type": "stream",
     "text": [
      "\n",
      "** Results for TL-1-85 **\n",
      "IC50 - MAE: 1.358, RMSE: 1.658, R²: 0.174\n",
      "\n",
      "Calcolo SHAP per TL-1-85 su 5 modelli...\n"
     ]
    },
    {
     "name": "stderr",
     "output_type": "stream",
     "text": [
      "Processing Drugs: 16it [06:00, 21.89s/it]"
     ]
    },
    {
     "name": "stdout",
     "output_type": "stream",
     "text": [
      "\n",
      "** Results for T0901317 **\n",
      "IC50 - MAE: 0.901, RMSE: 1.128, R²: -0.052\n",
      "\n",
      "Calcolo SHAP per T0901317 su 5 modelli...\n"
     ]
    },
    {
     "name": "stderr",
     "output_type": "stream",
     "text": [
      "Processing Drugs: 17it [06:35, 25.98s/it]"
     ]
    },
    {
     "name": "stdout",
     "output_type": "stream",
     "text": [
      "\n",
      "** Results for PHA-793887 **\n",
      "IC50 - MAE: 1.782, RMSE: 2.177, R²: -0.262\n",
      "\n",
      "Calcolo SHAP per PHA-793887 su 5 modelli...\n"
     ]
    },
    {
     "name": "stderr",
     "output_type": "stream",
     "text": [
      "Processing Drugs: 18it [06:54, 23.77s/it]"
     ]
    },
    {
     "name": "stdout",
     "output_type": "stream",
     "text": [
      "\n",
      "** Results for JW-7-24-1 **\n",
      "IC50 - MAE: 1.180, RMSE: 1.580, R²: 0.059\n",
      "\n",
      "Calcolo SHAP per JW-7-24-1 su 5 modelli...\n"
     ]
    },
    {
     "name": "stderr",
     "output_type": "stream",
     "text": [
      "Processing Drugs: 19it [07:13, 22.23s/it]"
     ]
    },
    {
     "name": "stdout",
     "output_type": "stream",
     "text": [
      "\n",
      "** Results for TPCA-1 **\n",
      "IC50 - MAE: 1.476, RMSE: 1.836, R²: -0.059\n",
      "\n",
      "Calcolo SHAP per TPCA-1 su 5 modelli...\n"
     ]
    },
    {
     "name": "stderr",
     "output_type": "stream",
     "text": [
      "Processing Drugs: 20it [07:31, 21.15s/it]"
     ]
    },
    {
     "name": "stdout",
     "output_type": "stream",
     "text": [
      "\n",
      "** Results for CX-5461 **\n",
      "IC50 - MAE: 1.491, RMSE: 1.804, R²: 0.182\n",
      "\n",
      "Calcolo SHAP per CX-5461 su 5 modelli...\n"
     ]
    },
    {
     "name": "stderr",
     "output_type": "stream",
     "text": [
      "Processing Drugs: 21it [07:50, 20.32s/it]"
     ]
    },
    {
     "name": "stdout",
     "output_type": "stream",
     "text": [
      "\n",
      "** Results for STF-62247 **\n",
      "IC50 - MAE: 0.753, RMSE: 0.900, R²: 0.094\n",
      "\n",
      "Calcolo SHAP per STF-62247 su 5 modelli...\n"
     ]
    },
    {
     "name": "stderr",
     "output_type": "stream",
     "text": [
      "Processing Drugs: 22it [08:08, 19.80s/it]"
     ]
    },
    {
     "name": "stdout",
     "output_type": "stream",
     "text": [
      "\n",
      "** Results for Dabrafenib **\n",
      "IC50 - MAE: 1.198, RMSE: 1.676, R²: 0.190\n",
      "\n",
      "Calcolo SHAP per Dabrafenib su 5 modelli...\n"
     ]
    },
    {
     "name": "stderr",
     "output_type": "stream",
     "text": [
      "Processing Drugs: 23it [08:26, 19.16s/it]"
     ]
    },
    {
     "name": "stdout",
     "output_type": "stream",
     "text": [
      "\n",
      "** Results for GSK429286A **\n",
      "IC50 - MAE: 1.009, RMSE: 1.265, R²: 0.110\n",
      "\n",
      "Calcolo SHAP per GSK429286A su 5 modelli...\n"
     ]
    },
    {
     "name": "stderr",
     "output_type": "stream",
     "text": [
      "Processing Drugs: 24it [08:44, 19.01s/it]"
     ]
    },
    {
     "name": "stdout",
     "output_type": "stream",
     "text": [
      "\n",
      "** Results for Trametinib **\n",
      "IC50 - MAE: 1.716, RMSE: 2.306, R²: 0.221\n",
      "\n",
      "Calcolo SHAP per Trametinib su 5 modelli...\n"
     ]
    },
    {
     "name": "stderr",
     "output_type": "stream",
     "text": [
      "Processing Drugs: 25it [09:03, 18.75s/it]"
     ]
    },
    {
     "name": "stdout",
     "output_type": "stream",
     "text": [
      "\n",
      "** Results for NG-25 **\n",
      "IC50 - MAE: 1.179, RMSE: 1.537, R²: 0.242\n",
      "\n",
      "Calcolo SHAP per NG-25 su 5 modelli...\n"
     ]
    },
    {
     "name": "stderr",
     "output_type": "stream",
     "text": [
      "Processing Drugs: 26it [09:21, 18.74s/it]"
     ]
    },
    {
     "name": "stdout",
     "output_type": "stream",
     "text": [
      "\n",
      "** Results for BIX02189 **\n",
      "IC50 - MAE: 1.061, RMSE: 1.320, R²: -0.055\n",
      "\n",
      "Calcolo SHAP per BIX02189 su 5 modelli...\n"
     ]
    },
    {
     "name": "stderr",
     "output_type": "stream",
     "text": [
      "Processing Drugs: 27it [09:40, 18.68s/it]"
     ]
    },
    {
     "name": "stdout",
     "output_type": "stream",
     "text": [
      "\n",
      "** Results for PIK-93 **\n",
      "IC50 - MAE: 1.443, RMSE: 1.791, R²: -0.148\n",
      "\n",
      "Calcolo SHAP per PIK-93 su 5 modelli...\n"
     ]
    },
    {
     "name": "stderr",
     "output_type": "stream",
     "text": [
      "Processing Drugs: 28it [10:15, 23.73s/it]"
     ]
    },
    {
     "name": "stdout",
     "output_type": "stream",
     "text": [
      "\n",
      "** Results for XMD15-27 **\n",
      "IC50 - MAE: 0.685, RMSE: 0.854, R²: 0.170\n",
      "\n",
      "Calcolo SHAP per XMD15-27 su 5 modelli...\n"
     ]
    },
    {
     "name": "stderr",
     "output_type": "stream",
     "text": [
      "Processing Drugs: 29it [11:43, 43.04s/it]"
     ]
    },
    {
     "name": "stdout",
     "output_type": "stream",
     "text": [
      "\n",
      "** Results for AC220 **\n",
      "IC50 - MAE: 0.851, RMSE: 1.145, R²: 0.155\n",
      "\n",
      "Calcolo SHAP per AC220 su 5 modelli...\n"
     ]
    },
    {
     "name": "stderr",
     "output_type": "stream",
     "text": [
      "Processing Drugs: 30it [12:03, 24.11s/it]\n"
     ]
    },
    {
     "name": "stdout",
     "output_type": "stream",
     "text": [
      "\n",
      "\n",
      "========= GLOBAL METRICS ACROSS ALL DRUGS =========\n",
      "Global IC50 - MAE: 1.104, RMSE: 1.440, R²: 0.521\n"
     ]
    }
   ],
   "source": [
    "models = [XGBRegressor for _ in range(5)]\n",
    "\n",
    "rf_params = {\n",
    "        \"random_state\": 42,\n",
    "    }\n",
    "params = {\n",
    "    \"n_estimators\": randint(10, 501),              \n",
    "    \"max_depth\": randint(3, 11),                     \n",
    "    \"learning_rate\": [1,0.1,0.01,0.3],             \n",
    "    \"subsample\": [0.4,0.5,0.6,0.8,1],                \n",
    "    \"colsample_bytree\": [0.7,0.9,1],   \n",
    "    \"min_child_weight\": randint(1, 11),          \n",
    "    \"gamma\": [0,0.1,0.01,0.3,0.5]                         \n",
    "}\n",
    "\n",
    "shap_dir = 'Results/Models_IC50_SMOTE/XGB_IC50'\n",
    "train_ic50(df_clean, rf_params, params, models= models, shap_dir = shap_dir, l=31, smo = True)"
   ]
  },
  {
   "cell_type": "markdown",
   "metadata": {},
   "source": [
    "#### Random Forest"
   ]
  },
  {
   "cell_type": "code",
   "execution_count": null,
   "metadata": {},
   "outputs": [
    {
     "name": "stderr",
     "output_type": "stream",
     "text": [
      "Processing Drugs: 0it [00:00, ?it/s]"
     ]
    },
    {
     "name": "stdout",
     "output_type": "stream",
     "text": [
      "\n",
      "** Results for KIN001-260 **\n",
      "IC50 - MAE: 0.729, RMSE: 0.903, R²: 0.307\n",
      "\n",
      "Calcolo SHAP per KIN001-260 su 5 modelli...\n"
     ]
    },
    {
     "name": "stderr",
     "output_type": "stream",
     "text": [
      "Processing Drugs: 1it [00:19, 19.31s/it]"
     ]
    },
    {
     "name": "stdout",
     "output_type": "stream",
     "text": [
      "\n",
      "** Results for TG101348 **\n",
      "IC50 - MAE: 1.016, RMSE: 1.301, R²: 0.310\n",
      "\n",
      "Calcolo SHAP per TG101348 su 5 modelli...\n"
     ]
    },
    {
     "name": "stderr",
     "output_type": "stream",
     "text": [
      "Processing Drugs: 2it [00:38, 19.08s/it]"
     ]
    },
    {
     "name": "stdout",
     "output_type": "stream",
     "text": [
      "\n",
      "** Results for BX-912 **\n",
      "IC50 - MAE: 1.068, RMSE: 1.331, R²: 0.495\n",
      "\n",
      "Calcolo SHAP per BX-912 su 5 modelli...\n"
     ]
    },
    {
     "name": "stderr",
     "output_type": "stream",
     "text": [
      "Processing Drugs: 3it [00:56, 18.73s/it]"
     ]
    },
    {
     "name": "stdout",
     "output_type": "stream",
     "text": [
      "\n",
      "** Results for QL-XI-92 **\n",
      "IC50 - MAE: 0.921, RMSE: 1.083, R²: 0.323\n",
      "\n",
      "Calcolo SHAP per QL-XI-92 su 5 modelli...\n"
     ]
    },
    {
     "name": "stderr",
     "output_type": "stream",
     "text": [
      "Processing Drugs: 4it [01:15, 18.83s/it]"
     ]
    },
    {
     "name": "stdout",
     "output_type": "stream",
     "text": [
      "\n",
      "** Results for Tubastatin A **\n",
      "IC50 - MAE: 0.752, RMSE: 0.904, R²: 0.397\n",
      "\n",
      "Calcolo SHAP per Tubastatin A su 5 modelli...\n"
     ]
    },
    {
     "name": "stderr",
     "output_type": "stream",
     "text": [
      "Processing Drugs: 5it [01:34, 18.71s/it]"
     ]
    },
    {
     "name": "stdout",
     "output_type": "stream",
     "text": [
      "\n",
      "** Results for GSK690693 **\n",
      "IC50 - MAE: 0.997, RMSE: 1.253, R²: 0.354\n",
      "\n",
      "Calcolo SHAP per GSK690693 su 5 modelli...\n"
     ]
    },
    {
     "name": "stderr",
     "output_type": "stream",
     "text": [
      "Processing Drugs: 6it [01:52, 18.66s/it]"
     ]
    },
    {
     "name": "stdout",
     "output_type": "stream",
     "text": [
      "\n",
      "** Results for XMD14-99 **\n",
      "IC50 - MAE: 0.683, RMSE: 0.888, R²: 0.183\n",
      "\n",
      "Calcolo SHAP per XMD14-99 su 5 modelli...\n"
     ]
    },
    {
     "name": "stderr",
     "output_type": "stream",
     "text": [
      "Processing Drugs: 7it [02:29, 24.52s/it]"
     ]
    },
    {
     "name": "stdout",
     "output_type": "stream",
     "text": [
      "\n",
      "** Results for NPK76-II-72-1 **\n",
      "IC50 - MAE: 1.106, RMSE: 1.350, R²: 0.375\n",
      "\n",
      "Calcolo SHAP per NPK76-II-72-1 su 5 modelli...\n"
     ]
    },
    {
     "name": "stderr",
     "output_type": "stream",
     "text": [
      "Processing Drugs: 8it [02:47, 22.69s/it]"
     ]
    },
    {
     "name": "stdout",
     "output_type": "stream",
     "text": [
      "\n",
      "** Results for Y-39983 **\n",
      "IC50 - MAE: 0.970, RMSE: 1.262, R²: 0.279\n",
      "\n",
      "Calcolo SHAP per Y-39983 su 5 modelli...\n"
     ]
    },
    {
     "name": "stderr",
     "output_type": "stream",
     "text": [
      "Processing Drugs: 9it [03:30, 28.80s/it]"
     ]
    },
    {
     "name": "stdout",
     "output_type": "stream",
     "text": [
      "\n",
      "** Results for AT-7519 **\n",
      "IC50 - MAE: 1.372, RMSE: 1.689, R²: 0.107\n",
      "\n",
      "Calcolo SHAP per AT-7519 su 5 modelli...\n"
     ]
    },
    {
     "name": "stderr",
     "output_type": "stream",
     "text": [
      "Processing Drugs: 10it [03:49, 25.87s/it]"
     ]
    },
    {
     "name": "stdout",
     "output_type": "stream",
     "text": [
      "\n",
      "** Results for KIN001-236 **\n",
      "IC50 - MAE: 0.631, RMSE: 0.792, R²: 0.335\n",
      "\n",
      "Calcolo SHAP per KIN001-236 su 5 modelli...\n"
     ]
    },
    {
     "name": "stderr",
     "output_type": "stream",
     "text": [
      "Processing Drugs: 11it [04:07, 23.58s/it]"
     ]
    },
    {
     "name": "stdout",
     "output_type": "stream",
     "text": [
      "\n",
      "** Results for TL-2-105 **\n",
      "IC50 - MAE: 0.874, RMSE: 1.108, R²: 0.408\n",
      "\n",
      "Calcolo SHAP per TL-2-105 su 5 modelli...\n"
     ]
    },
    {
     "name": "stderr",
     "output_type": "stream",
     "text": [
      "Processing Drugs: 12it [04:26, 22.07s/it]"
     ]
    },
    {
     "name": "stdout",
     "output_type": "stream",
     "text": [
      "\n",
      "** Results for ABT-263 **\n",
      "IC50 - MAE: 1.429, RMSE: 1.705, R²: 0.275\n",
      "\n",
      "Calcolo SHAP per ABT-263 su 5 modelli...\n"
     ]
    },
    {
     "name": "stderr",
     "output_type": "stream",
     "text": [
      "Processing Drugs: 13it [05:13, 29.65s/it]"
     ]
    },
    {
     "name": "stdout",
     "output_type": "stream",
     "text": [
      "\n",
      "** Results for GSK1070916 **\n",
      "IC50 - MAE: 1.226, RMSE: 1.562, R²: 0.433\n",
      "\n",
      "Calcolo SHAP per GSK1070916 su 5 modelli...\n"
     ]
    },
    {
     "name": "stderr",
     "output_type": "stream",
     "text": [
      "Processing Drugs: 14it [05:32, 26.39s/it]"
     ]
    },
    {
     "name": "stdout",
     "output_type": "stream",
     "text": [
      "\n",
      "** Results for Methotrexate **\n",
      "IC50 - MAE: 1.157, RMSE: 1.370, R²: 0.271\n",
      "\n",
      "Calcolo SHAP per Methotrexate su 5 modelli...\n"
     ]
    },
    {
     "name": "stderr",
     "output_type": "stream",
     "text": [
      "Processing Drugs: 15it [05:48, 23.38s/it]"
     ]
    },
    {
     "name": "stdout",
     "output_type": "stream",
     "text": [
      "\n",
      "** Results for TL-1-85 **\n",
      "IC50 - MAE: 1.140, RMSE: 1.406, R²: 0.407\n",
      "\n",
      "Calcolo SHAP per TL-1-85 su 5 modelli...\n"
     ]
    },
    {
     "name": "stderr",
     "output_type": "stream",
     "text": [
      "Processing Drugs: 16it [06:07, 22.10s/it]"
     ]
    },
    {
     "name": "stdout",
     "output_type": "stream",
     "text": [
      "\n",
      "** Results for T0901317 **\n",
      "IC50 - MAE: 0.707, RMSE: 0.939, R²: 0.271\n",
      "\n",
      "Calcolo SHAP per T0901317 su 5 modelli...\n"
     ]
    },
    {
     "name": "stderr",
     "output_type": "stream",
     "text": [
      "Processing Drugs: 17it [06:44, 26.35s/it]"
     ]
    },
    {
     "name": "stdout",
     "output_type": "stream",
     "text": [
      "\n",
      "** Results for PHA-793887 **\n",
      "IC50 - MAE: 1.502, RMSE: 1.759, R²: 0.176\n",
      "\n",
      "Calcolo SHAP per PHA-793887 su 5 modelli...\n"
     ]
    },
    {
     "name": "stderr",
     "output_type": "stream",
     "text": [
      "Processing Drugs: 18it [07:02, 24.05s/it]"
     ]
    },
    {
     "name": "stdout",
     "output_type": "stream",
     "text": [
      "\n",
      "** Results for JW-7-24-1 **\n",
      "IC50 - MAE: 1.015, RMSE: 1.385, R²: 0.277\n",
      "\n",
      "Calcolo SHAP per JW-7-24-1 su 5 modelli...\n"
     ]
    },
    {
     "name": "stderr",
     "output_type": "stream",
     "text": [
      "Processing Drugs: 19it [07:21, 22.30s/it]"
     ]
    },
    {
     "name": "stdout",
     "output_type": "stream",
     "text": [
      "\n",
      "** Results for TPCA-1 **\n",
      "IC50 - MAE: 1.183, RMSE: 1.468, R²: 0.323\n",
      "\n",
      "Calcolo SHAP per TPCA-1 su 5 modelli...\n"
     ]
    },
    {
     "name": "stderr",
     "output_type": "stream",
     "text": [
      "Processing Drugs: 20it [07:39, 21.17s/it]"
     ]
    },
    {
     "name": "stdout",
     "output_type": "stream",
     "text": [
      "\n",
      "** Results for CX-5461 **\n",
      "IC50 - MAE: 1.456, RMSE: 1.755, R²: 0.226\n",
      "\n",
      "Calcolo SHAP per CX-5461 su 5 modelli...\n"
     ]
    },
    {
     "name": "stderr",
     "output_type": "stream",
     "text": [
      "Processing Drugs: 21it [07:58, 20.41s/it]"
     ]
    },
    {
     "name": "stdout",
     "output_type": "stream",
     "text": [
      "\n",
      "** Results for STF-62247 **\n",
      "IC50 - MAE: 0.644, RMSE: 0.795, R²: 0.293\n",
      "\n",
      "Calcolo SHAP per STF-62247 su 5 modelli...\n"
     ]
    },
    {
     "name": "stderr",
     "output_type": "stream",
     "text": [
      "Processing Drugs: 22it [08:16, 19.79s/it]"
     ]
    },
    {
     "name": "stdout",
     "output_type": "stream",
     "text": [
      "\n",
      "** Results for Dabrafenib **\n",
      "IC50 - MAE: 1.256, RMSE: 1.723, R²: 0.144\n",
      "\n",
      "Calcolo SHAP per Dabrafenib su 5 modelli...\n"
     ]
    },
    {
     "name": "stderr",
     "output_type": "stream",
     "text": [
      "Processing Drugs: 23it [08:35, 19.55s/it]"
     ]
    },
    {
     "name": "stdout",
     "output_type": "stream",
     "text": [
      "\n",
      "** Results for GSK429286A **\n",
      "IC50 - MAE: 0.839, RMSE: 1.077, R²: 0.354\n",
      "\n",
      "Calcolo SHAP per GSK429286A su 5 modelli...\n"
     ]
    },
    {
     "name": "stderr",
     "output_type": "stream",
     "text": [
      "Processing Drugs: 24it [09:02, 21.61s/it]"
     ]
    },
    {
     "name": "stdout",
     "output_type": "stream",
     "text": [
      "\n",
      "** Results for Trametinib **\n",
      "IC50 - MAE: 1.820, RMSE: 2.316, R²: 0.214\n",
      "\n",
      "Calcolo SHAP per Trametinib su 5 modelli...\n"
     ]
    },
    {
     "name": "stderr",
     "output_type": "stream",
     "text": [
      "Processing Drugs: 25it [09:31, 23.90s/it]"
     ]
    },
    {
     "name": "stdout",
     "output_type": "stream",
     "text": [
      "\n",
      "** Results for NG-25 **\n",
      "IC50 - MAE: 1.107, RMSE: 1.374, R²: 0.394\n",
      "\n",
      "Calcolo SHAP per NG-25 su 5 modelli...\n"
     ]
    },
    {
     "name": "stderr",
     "output_type": "stream",
     "text": [
      "Processing Drugs: 26it [10:02, 26.06s/it]"
     ]
    },
    {
     "name": "stdout",
     "output_type": "stream",
     "text": [
      "\n",
      "** Results for BIX02189 **\n",
      "IC50 - MAE: 0.739, RMSE: 0.996, R²: 0.399\n",
      "\n",
      "Calcolo SHAP per BIX02189 su 5 modelli...\n"
     ]
    },
    {
     "name": "stderr",
     "output_type": "stream",
     "text": [
      "Processing Drugs: 27it [10:31, 27.00s/it]"
     ]
    },
    {
     "name": "stdout",
     "output_type": "stream",
     "text": [
      "\n",
      "** Results for PIK-93 **\n",
      "IC50 - MAE: 1.159, RMSE: 1.475, R²: 0.222\n",
      "\n",
      "Calcolo SHAP per PIK-93 su 5 modelli...\n"
     ]
    },
    {
     "name": "stderr",
     "output_type": "stream",
     "text": [
      "Processing Drugs: 28it [11:28, 35.87s/it]"
     ]
    },
    {
     "name": "stdout",
     "output_type": "stream",
     "text": [
      "\n",
      "** Results for XMD15-27 **\n",
      "IC50 - MAE: 0.557, RMSE: 0.726, R²: 0.399\n",
      "\n",
      "Calcolo SHAP per XMD15-27 su 5 modelli...\n"
     ]
    },
    {
     "name": "stderr",
     "output_type": "stream",
     "text": [
      "Processing Drugs: 29it [13:47, 66.93s/it]"
     ]
    },
    {
     "name": "stdout",
     "output_type": "stream",
     "text": [
      "\n",
      "** Results for AC220 **\n",
      "IC50 - MAE: 0.721, RMSE: 1.033, R²: 0.312\n",
      "\n",
      "Calcolo SHAP per AC220 su 5 modelli...\n"
     ]
    },
    {
     "name": "stderr",
     "output_type": "stream",
     "text": [
      "Processing Drugs: 30it [14:18, 28.61s/it]\n"
     ]
    },
    {
     "name": "stdout",
     "output_type": "stream",
     "text": [
      "\n",
      "\n",
      "========= GLOBAL METRICS ACROSS ALL DRUGS =========\n",
      "Global IC50 - MAE: 0.979, RMSE: 1.290, R²: 0.616\n"
     ]
    }
   ],
   "source": [
    "models = [RandomForestRegressor for _ in range(5)]\n",
    "\n",
    "rf_params = {\n",
    "        \"random_state\": 42,\n",
    "    }\n",
    "\n",
    "param_grid = {\n",
    "    \"max_depth\": [5, 10, 20, None],\n",
    "    \"min_samples_split\": randint(2, 11),\n",
    "    \"min_samples_leaf\": randint(1, 6),\n",
    "    \"max_features\": [\"sqrt\", \"log2\"]\n",
    "}\n",
    "\n",
    "shap_dir = 'Results/Models_IC50_SMOTE/RF_IC50'\n",
    "train_ic50(df_clean, rf_params, param_grid = param_grid, models= models, shap_dir = shap_dir, l=31, smo = True)"
   ]
  },
  {
   "cell_type": "markdown",
   "metadata": {},
   "source": [
    "#### Gradiend Boosting"
   ]
  },
  {
   "cell_type": "code",
   "execution_count": null,
   "metadata": {},
   "outputs": [
    {
     "name": "stderr",
     "output_type": "stream",
     "text": [
      "Processing Drugs: 0it [00:00, ?it/s]"
     ]
    },
    {
     "name": "stdout",
     "output_type": "stream",
     "text": [
      "\n",
      "** Results for KIN001-260 **\n",
      "IC50 - MAE: 0.782, RMSE: 0.944, R²: 0.243\n",
      "\n",
      "Calcolo SHAP per KIN001-260 su 5 modelli...\n"
     ]
    },
    {
     "name": "stderr",
     "output_type": "stream",
     "text": [
      "Processing Drugs: 1it [00:28, 28.96s/it]"
     ]
    },
    {
     "name": "stdout",
     "output_type": "stream",
     "text": [
      "\n",
      "** Results for TG101348 **\n",
      "IC50 - MAE: 1.098, RMSE: 1.459, R²: 0.132\n",
      "\n",
      "Calcolo SHAP per TG101348 su 5 modelli...\n"
     ]
    },
    {
     "name": "stderr",
     "output_type": "stream",
     "text": [
      "Processing Drugs: 2it [00:58, 29.53s/it]"
     ]
    },
    {
     "name": "stdout",
     "output_type": "stream",
     "text": [
      "\n",
      "** Results for BX-912 **\n",
      "IC50 - MAE: 1.183, RMSE: 1.472, R²: 0.383\n",
      "\n",
      "Calcolo SHAP per BX-912 su 5 modelli...\n"
     ]
    },
    {
     "name": "stderr",
     "output_type": "stream",
     "text": [
      "Processing Drugs: 3it [01:27, 29.18s/it]"
     ]
    },
    {
     "name": "stdout",
     "output_type": "stream",
     "text": [
      "\n",
      "** Results for QL-XI-92 **\n",
      "IC50 - MAE: 0.883, RMSE: 1.053, R²: 0.360\n",
      "\n",
      "Calcolo SHAP per QL-XI-92 su 5 modelli...\n"
     ]
    },
    {
     "name": "stderr",
     "output_type": "stream",
     "text": [
      "Processing Drugs: 4it [01:57, 29.57s/it]"
     ]
    },
    {
     "name": "stdout",
     "output_type": "stream",
     "text": [
      "\n",
      "** Results for Tubastatin A **\n",
      "IC50 - MAE: 0.788, RMSE: 0.936, R²: 0.354\n",
      "\n",
      "Calcolo SHAP per Tubastatin A su 5 modelli...\n"
     ]
    },
    {
     "name": "stderr",
     "output_type": "stream",
     "text": [
      "Processing Drugs: 5it [02:26, 29.27s/it]"
     ]
    },
    {
     "name": "stdout",
     "output_type": "stream",
     "text": [
      "\n",
      "** Results for GSK690693 **\n",
      "IC50 - MAE: 1.020, RMSE: 1.289, R²: 0.316\n",
      "\n",
      "Calcolo SHAP per GSK690693 su 5 modelli...\n"
     ]
    },
    {
     "name": "stderr",
     "output_type": "stream",
     "text": [
      "Processing Drugs: 6it [02:55, 29.03s/it]"
     ]
    },
    {
     "name": "stdout",
     "output_type": "stream",
     "text": [
      "\n",
      "** Results for XMD14-99 **\n",
      "IC50 - MAE: 0.697, RMSE: 0.884, R²: 0.191\n",
      "\n",
      "Calcolo SHAP per XMD14-99 su 5 modelli...\n"
     ]
    },
    {
     "name": "stderr",
     "output_type": "stream",
     "text": [
      "Processing Drugs: 7it [03:51, 37.88s/it]"
     ]
    },
    {
     "name": "stdout",
     "output_type": "stream",
     "text": [
      "\n",
      "** Results for NPK76-II-72-1 **\n",
      "IC50 - MAE: 1.296, RMSE: 1.576, R²: 0.148\n",
      "\n",
      "Calcolo SHAP per NPK76-II-72-1 su 5 modelli...\n"
     ]
    },
    {
     "name": "stderr",
     "output_type": "stream",
     "text": [
      "Processing Drugs: 8it [04:19, 34.94s/it]"
     ]
    },
    {
     "name": "stdout",
     "output_type": "stream",
     "text": [
      "\n",
      "** Results for Y-39983 **\n",
      "IC50 - MAE: 0.970, RMSE: 1.266, R²: 0.274\n",
      "\n",
      "Calcolo SHAP per Y-39983 su 5 modelli...\n"
     ]
    },
    {
     "name": "stderr",
     "output_type": "stream",
     "text": [
      "Processing Drugs: 9it [05:20, 42.84s/it]"
     ]
    },
    {
     "name": "stdout",
     "output_type": "stream",
     "text": [
      "\n",
      "** Results for AT-7519 **\n",
      "IC50 - MAE: 1.526, RMSE: 1.892, R²: -0.120\n",
      "\n",
      "Calcolo SHAP per AT-7519 su 5 modelli...\n"
     ]
    },
    {
     "name": "stderr",
     "output_type": "stream",
     "text": [
      "Processing Drugs: 10it [05:48, 38.45s/it]"
     ]
    },
    {
     "name": "stdout",
     "output_type": "stream",
     "text": [
      "\n",
      "** Results for KIN001-236 **\n",
      "IC50 - MAE: 0.723, RMSE: 0.893, R²: 0.153\n",
      "\n",
      "Calcolo SHAP per KIN001-236 su 5 modelli...\n"
     ]
    },
    {
     "name": "stderr",
     "output_type": "stream",
     "text": [
      "Processing Drugs: 11it [06:18, 35.92s/it]"
     ]
    },
    {
     "name": "stdout",
     "output_type": "stream",
     "text": [
      "\n",
      "** Results for TL-2-105 **\n",
      "IC50 - MAE: 0.976, RMSE: 1.203, R²: 0.302\n",
      "\n",
      "Calcolo SHAP per TL-2-105 su 5 modelli...\n"
     ]
    },
    {
     "name": "stderr",
     "output_type": "stream",
     "text": [
      "Processing Drugs: 12it [06:49, 34.26s/it]"
     ]
    },
    {
     "name": "stdout",
     "output_type": "stream",
     "text": [
      "\n",
      "** Results for ABT-263 **\n",
      "IC50 - MAE: 1.506, RMSE: 1.766, R²: 0.223\n",
      "\n",
      "Calcolo SHAP per ABT-263 su 5 modelli...\n"
     ]
    },
    {
     "name": "stderr",
     "output_type": "stream",
     "text": [
      "Processing Drugs: 13it [08:05, 46.89s/it]"
     ]
    },
    {
     "name": "stdout",
     "output_type": "stream",
     "text": [
      "\n",
      "** Results for GSK1070916 **\n",
      "IC50 - MAE: 1.403, RMSE: 1.731, R²: 0.304\n",
      "\n",
      "Calcolo SHAP per GSK1070916 su 5 modelli...\n"
     ]
    },
    {
     "name": "stderr",
     "output_type": "stream",
     "text": [
      "Processing Drugs: 14it [08:34, 41.57s/it]"
     ]
    },
    {
     "name": "stdout",
     "output_type": "stream",
     "text": [
      "\n",
      "** Results for Methotrexate **\n",
      "IC50 - MAE: 1.321, RMSE: 1.560, R²: 0.055\n",
      "\n",
      "Calcolo SHAP per Methotrexate su 5 modelli...\n"
     ]
    },
    {
     "name": "stderr",
     "output_type": "stream",
     "text": [
      "Processing Drugs: 15it [09:00, 36.96s/it]"
     ]
    },
    {
     "name": "stdout",
     "output_type": "stream",
     "text": [
      "\n",
      "** Results for TL-1-85 **\n",
      "IC50 - MAE: 1.231, RMSE: 1.539, R²: 0.289\n",
      "\n",
      "Calcolo SHAP per TL-1-85 su 5 modelli...\n"
     ]
    },
    {
     "name": "stderr",
     "output_type": "stream",
     "text": [
      "Processing Drugs: 16it [09:30, 34.64s/it]"
     ]
    },
    {
     "name": "stdout",
     "output_type": "stream",
     "text": [
      "\n",
      "** Results for T0901317 **\n",
      "IC50 - MAE: 0.918, RMSE: 1.130, R²: -0.057\n",
      "\n",
      "Calcolo SHAP per T0901317 su 5 modelli...\n"
     ]
    },
    {
     "name": "stderr",
     "output_type": "stream",
     "text": [
      "Processing Drugs: 17it [10:26, 41.05s/it]"
     ]
    },
    {
     "name": "stdout",
     "output_type": "stream",
     "text": [
      "\n",
      "** Results for PHA-793887 **\n",
      "IC50 - MAE: 1.753, RMSE: 2.138, R²: -0.217\n",
      "\n",
      "Calcolo SHAP per PHA-793887 su 5 modelli...\n"
     ]
    },
    {
     "name": "stderr",
     "output_type": "stream",
     "text": [
      "Processing Drugs: 18it [10:54, 37.37s/it]"
     ]
    },
    {
     "name": "stdout",
     "output_type": "stream",
     "text": [
      "\n",
      "** Results for JW-7-24-1 **\n",
      "IC50 - MAE: 1.149, RMSE: 1.551, R²: 0.093\n",
      "\n",
      "Calcolo SHAP per JW-7-24-1 su 5 modelli...\n"
     ]
    },
    {
     "name": "stderr",
     "output_type": "stream",
     "text": [
      "Processing Drugs: 19it [11:23, 34.86s/it]"
     ]
    },
    {
     "name": "stdout",
     "output_type": "stream",
     "text": [
      "\n",
      "** Results for TPCA-1 **\n",
      "IC50 - MAE: 1.422, RMSE: 1.775, R²: 0.010\n",
      "\n",
      "Calcolo SHAP per TPCA-1 su 5 modelli...\n"
     ]
    },
    {
     "name": "stderr",
     "output_type": "stream",
     "text": [
      "Processing Drugs: 20it [11:52, 33.12s/it]"
     ]
    },
    {
     "name": "stdout",
     "output_type": "stream",
     "text": [
      "\n",
      "** Results for CX-5461 **\n",
      "IC50 - MAE: 1.435, RMSE: 1.743, R²: 0.236\n",
      "\n",
      "Calcolo SHAP per CX-5461 su 5 modelli...\n"
     ]
    },
    {
     "name": "stderr",
     "output_type": "stream",
     "text": [
      "Processing Drugs: 21it [12:21, 31.73s/it]"
     ]
    },
    {
     "name": "stdout",
     "output_type": "stream",
     "text": [
      "\n",
      "** Results for STF-62247 **\n",
      "IC50 - MAE: 0.761, RMSE: 0.907, R²: 0.079\n",
      "\n",
      "Calcolo SHAP per STF-62247 su 5 modelli...\n"
     ]
    },
    {
     "name": "stderr",
     "output_type": "stream",
     "text": [
      "Processing Drugs: 22it [12:50, 30.81s/it]"
     ]
    },
    {
     "name": "stdout",
     "output_type": "stream",
     "text": [
      "\n",
      "** Results for Dabrafenib **\n",
      "IC50 - MAE: 1.198, RMSE: 1.688, R²: 0.178\n",
      "\n",
      "Calcolo SHAP per Dabrafenib su 5 modelli...\n"
     ]
    },
    {
     "name": "stderr",
     "output_type": "stream",
     "text": [
      "Processing Drugs: 23it [13:18, 30.07s/it]"
     ]
    },
    {
     "name": "stdout",
     "output_type": "stream",
     "text": [
      "\n",
      "** Results for GSK429286A **\n",
      "IC50 - MAE: 0.975, RMSE: 1.228, R²: 0.162\n",
      "\n",
      "Calcolo SHAP per GSK429286A su 5 modelli...\n"
     ]
    },
    {
     "name": "stderr",
     "output_type": "stream",
     "text": [
      "Processing Drugs: 24it [13:47, 29.79s/it]"
     ]
    },
    {
     "name": "stdout",
     "output_type": "stream",
     "text": [
      "\n",
      "** Results for Trametinib **\n",
      "IC50 - MAE: 1.760, RMSE: 2.302, R²: 0.224\n",
      "\n",
      "Calcolo SHAP per Trametinib su 5 modelli...\n"
     ]
    },
    {
     "name": "stderr",
     "output_type": "stream",
     "text": [
      "Processing Drugs: 25it [14:15, 29.24s/it]"
     ]
    },
    {
     "name": "stdout",
     "output_type": "stream",
     "text": [
      "\n",
      "** Results for NG-25 **\n",
      "IC50 - MAE: 1.162, RMSE: 1.484, R²: 0.293\n",
      "\n",
      "Calcolo SHAP per NG-25 su 5 modelli...\n"
     ]
    },
    {
     "name": "stderr",
     "output_type": "stream",
     "text": [
      "Processing Drugs: 26it [14:45, 29.35s/it]"
     ]
    },
    {
     "name": "stdout",
     "output_type": "stream",
     "text": [
      "\n",
      "** Results for BIX02189 **\n",
      "IC50 - MAE: 0.946, RMSE: 1.205, R²: 0.121\n",
      "\n",
      "Calcolo SHAP per BIX02189 su 5 modelli...\n"
     ]
    },
    {
     "name": "stderr",
     "output_type": "stream",
     "text": [
      "Processing Drugs: 27it [15:14, 29.30s/it]"
     ]
    },
    {
     "name": "stdout",
     "output_type": "stream",
     "text": [
      "\n",
      "** Results for PIK-93 **\n",
      "IC50 - MAE: 1.403, RMSE: 1.757, R²: -0.104\n",
      "\n",
      "Calcolo SHAP per PIK-93 su 5 modelli...\n"
     ]
    },
    {
     "name": "stderr",
     "output_type": "stream",
     "text": [
      "Processing Drugs: 28it [16:09, 36.93s/it]"
     ]
    },
    {
     "name": "stdout",
     "output_type": "stream",
     "text": [
      "\n",
      "** Results for XMD15-27 **\n",
      "IC50 - MAE: 0.672, RMSE: 0.841, R²: 0.193\n",
      "\n",
      "Calcolo SHAP per XMD15-27 su 5 modelli...\n"
     ]
    },
    {
     "name": "stderr",
     "output_type": "stream",
     "text": [
      "Processing Drugs: 29it [18:22, 65.95s/it]"
     ]
    },
    {
     "name": "stdout",
     "output_type": "stream",
     "text": [
      "\n",
      "** Results for AC220 **\n",
      "IC50 - MAE: 0.792, RMSE: 1.081, R²: 0.247\n",
      "\n",
      "Calcolo SHAP per AC220 su 5 modelli...\n"
     ]
    },
    {
     "name": "stderr",
     "output_type": "stream",
     "text": [
      "Processing Drugs: 30it [18:52, 37.75s/it]\n"
     ]
    },
    {
     "name": "stdout",
     "output_type": "stream",
     "text": [
      "\n",
      "\n",
      "========= GLOBAL METRICS ACROSS ALL DRUGS =========\n",
      "Global IC50 - MAE: 1.081, RMSE: 1.407, R²: 0.543\n"
     ]
    }
   ],
   "source": [
    "models = [GradientBoostingRegressor for _ in range(5)]\n",
    "\n",
    "rf_params = {\n",
    "        \"random_state\": 42,\n",
    "    }\n",
    "\n",
    "params = {\n",
    "    \"n_estimators\": randint(10, 301),            \n",
    "    \"max_depth\": randint(3, 11),                   \n",
    "    \"learning_rate\": [1, 0.1, 0.01, 0.3],          \n",
    "    \"subsample\": [0.4, 0.5, 0.6, 0.8, 1],          \n",
    "    \"min_samples_split\": randint(2, 11),          \n",
    "    \"min_samples_leaf\": randint(1, 11),            \n",
    "    \"max_features\": ['sqrt', 'log2', None]         \n",
    "}\n",
    "\n",
    "shap_dir = 'Results/Models_IC50_SMOTE/GB_IC50'\n",
    "train_ic50(df_clean, rf_params, params, models= models, shap_dir = shap_dir, l=31, smo = True)"
   ]
  },
  {
   "cell_type": "markdown",
   "metadata": {},
   "source": [
    "#### ALL"
   ]
  },
  {
   "cell_type": "code",
   "execution_count": null,
   "metadata": {},
   "outputs": [
    {
     "name": "stderr",
     "output_type": "stream",
     "text": [
      "Processing Drugs: 0it [00:00, ?it/s]"
     ]
    },
    {
     "name": "stdout",
     "output_type": "stream",
     "text": [
      "\n",
      "** Results for KIN001-260 **\n",
      "IC50 - MAE: 0.737, RMSE: 0.923, R²: 0.275\n",
      "\n",
      "Calcolo SHAP per KIN001-260 su 5 modelli...\n"
     ]
    },
    {
     "name": "stderr",
     "output_type": "stream",
     "text": [
      "Processing Drugs: 1it [00:35, 35.32s/it]"
     ]
    },
    {
     "name": "stdout",
     "output_type": "stream",
     "text": [
      "\n",
      "** Results for TG101348 **\n",
      "IC50 - MAE: 0.992, RMSE: 1.260, R²: 0.352\n",
      "\n",
      "Calcolo SHAP per TG101348 su 5 modelli...\n"
     ]
    },
    {
     "name": "stderr",
     "output_type": "stream",
     "text": [
      "Processing Drugs: 2it [01:13, 36.81s/it]"
     ]
    },
    {
     "name": "stdout",
     "output_type": "stream",
     "text": [
      "\n",
      "** Results for BX-912 **\n",
      "IC50 - MAE: 1.050, RMSE: 1.295, R²: 0.522\n",
      "\n",
      "Calcolo SHAP per BX-912 su 5 modelli...\n"
     ]
    },
    {
     "name": "stderr",
     "output_type": "stream",
     "text": [
      "Processing Drugs: 3it [01:49, 36.52s/it]"
     ]
    },
    {
     "name": "stdout",
     "output_type": "stream",
     "text": [
      "\n",
      "** Results for QL-XI-92 **\n",
      "IC50 - MAE: 0.913, RMSE: 1.074, R²: 0.333\n",
      "\n",
      "Calcolo SHAP per QL-XI-92 su 5 modelli...\n"
     ]
    },
    {
     "name": "stderr",
     "output_type": "stream",
     "text": [
      "Processing Drugs: 4it [02:19, 34.04s/it]"
     ]
    },
    {
     "name": "stdout",
     "output_type": "stream",
     "text": [
      "\n",
      "** Results for Tubastatin A **\n",
      "IC50 - MAE: 0.748, RMSE: 0.905, R²: 0.396\n",
      "\n",
      "Calcolo SHAP per Tubastatin A su 5 modelli...\n"
     ]
    },
    {
     "name": "stderr",
     "output_type": "stream",
     "text": [
      "Processing Drugs: 5it [02:48, 32.35s/it]"
     ]
    },
    {
     "name": "stdout",
     "output_type": "stream",
     "text": [
      "\n",
      "** Results for GSK690693 **\n",
      "IC50 - MAE: 0.979, RMSE: 1.242, R²: 0.365\n",
      "\n",
      "Calcolo SHAP per GSK690693 su 5 modelli...\n"
     ]
    },
    {
     "name": "stderr",
     "output_type": "stream",
     "text": [
      "Processing Drugs: 6it [03:18, 31.24s/it]"
     ]
    },
    {
     "name": "stdout",
     "output_type": "stream",
     "text": [
      "\n",
      "** Results for XMD14-99 **\n",
      "IC50 - MAE: 0.697, RMSE: 0.908, R²: 0.146\n",
      "\n",
      "Calcolo SHAP per XMD14-99 su 5 modelli...\n"
     ]
    },
    {
     "name": "stderr",
     "output_type": "stream",
     "text": [
      "Processing Drugs: 7it [04:24, 42.71s/it]"
     ]
    },
    {
     "name": "stdout",
     "output_type": "stream",
     "text": [
      "\n",
      "** Results for NPK76-II-72-1 **\n",
      "IC50 - MAE: 1.142, RMSE: 1.388, R²: 0.339\n",
      "\n",
      "Calcolo SHAP per NPK76-II-72-1 su 5 modelli...\n"
     ]
    },
    {
     "name": "stderr",
     "output_type": "stream",
     "text": [
      "Processing Drugs: 8it [04:54, 38.64s/it]"
     ]
    },
    {
     "name": "stdout",
     "output_type": "stream",
     "text": [
      "\n",
      "** Results for Y-39983 **\n",
      "IC50 - MAE: 0.980, RMSE: 1.269, R²: 0.271\n",
      "\n",
      "Calcolo SHAP per Y-39983 su 5 modelli...\n"
     ]
    },
    {
     "name": "stderr",
     "output_type": "stream",
     "text": [
      "Processing Drugs: 9it [05:52, 44.90s/it]"
     ]
    },
    {
     "name": "stdout",
     "output_type": "stream",
     "text": [
      "\n",
      "** Results for AT-7519 **\n",
      "IC50 - MAE: 1.361, RMSE: 1.668, R²: 0.129\n",
      "\n",
      "Calcolo SHAP per AT-7519 su 5 modelli...\n"
     ]
    },
    {
     "name": "stderr",
     "output_type": "stream",
     "text": [
      "Processing Drugs: 10it [06:23, 40.36s/it]"
     ]
    },
    {
     "name": "stdout",
     "output_type": "stream",
     "text": [
      "\n",
      "** Results for KIN001-236 **\n",
      "IC50 - MAE: 0.651, RMSE: 0.812, R²: 0.301\n",
      "\n",
      "Calcolo SHAP per KIN001-236 su 5 modelli...\n"
     ]
    },
    {
     "name": "stderr",
     "output_type": "stream",
     "text": [
      "Processing Drugs: 11it [06:52, 36.95s/it]"
     ]
    },
    {
     "name": "stdout",
     "output_type": "stream",
     "text": [
      "\n",
      "** Results for TL-2-105 **\n",
      "IC50 - MAE: 0.836, RMSE: 1.074, R²: 0.444\n",
      "\n",
      "Calcolo SHAP per TL-2-105 su 5 modelli...\n"
     ]
    },
    {
     "name": "stderr",
     "output_type": "stream",
     "text": [
      "Processing Drugs: 12it [07:23, 35.25s/it]"
     ]
    },
    {
     "name": "stdout",
     "output_type": "stream",
     "text": [
      "\n",
      "** Results for ABT-263 **\n",
      "IC50 - MAE: 1.375, RMSE: 1.658, R²: 0.315\n",
      "\n",
      "Calcolo SHAP per ABT-263 su 5 modelli...\n"
     ]
    },
    {
     "name": "stderr",
     "output_type": "stream",
     "text": [
      "Processing Drugs: 13it [08:40, 47.74s/it]"
     ]
    },
    {
     "name": "stdout",
     "output_type": "stream",
     "text": [
      "\n",
      "** Results for GSK1070916 **\n",
      "IC50 - MAE: 1.274, RMSE: 1.613, R²: 0.396\n",
      "\n",
      "Calcolo SHAP per GSK1070916 su 5 modelli...\n"
     ]
    },
    {
     "name": "stderr",
     "output_type": "stream",
     "text": [
      "Processing Drugs: 14it [09:09, 42.20s/it]"
     ]
    },
    {
     "name": "stdout",
     "output_type": "stream",
     "text": [
      "\n",
      "** Results for Methotrexate **\n",
      "IC50 - MAE: 1.101, RMSE: 1.312, R²: 0.331\n",
      "\n",
      "Calcolo SHAP per Methotrexate su 5 modelli...\n"
     ]
    },
    {
     "name": "stderr",
     "output_type": "stream",
     "text": [
      "Processing Drugs: 15it [09:41, 39.24s/it]"
     ]
    },
    {
     "name": "stdout",
     "output_type": "stream",
     "text": [
      "\n",
      "** Results for TL-1-85 **\n",
      "IC50 - MAE: 1.103, RMSE: 1.364, R²: 0.441\n",
      "\n",
      "Calcolo SHAP per TL-1-85 su 5 modelli...\n"
     ]
    },
    {
     "name": "stderr",
     "output_type": "stream",
     "text": [
      "Processing Drugs: 16it [10:14, 37.27s/it]"
     ]
    },
    {
     "name": "stdout",
     "output_type": "stream",
     "text": [
      "\n",
      "** Results for T0901317 **\n",
      "IC50 - MAE: 0.714, RMSE: 0.971, R²: 0.220\n",
      "\n",
      "Calcolo SHAP per T0901317 su 5 modelli...\n"
     ]
    },
    {
     "name": "stderr",
     "output_type": "stream",
     "text": [
      "Processing Drugs: 17it [11:12, 43.36s/it]"
     ]
    },
    {
     "name": "stdout",
     "output_type": "stream",
     "text": [
      "\n",
      "** Results for PHA-793887 **\n",
      "IC50 - MAE: 1.494, RMSE: 1.746, R²: 0.188\n",
      "\n",
      "Calcolo SHAP per PHA-793887 su 5 modelli...\n"
     ]
    },
    {
     "name": "stderr",
     "output_type": "stream",
     "text": [
      "Processing Drugs: 18it [11:44, 40.15s/it]"
     ]
    },
    {
     "name": "stdout",
     "output_type": "stream",
     "text": [
      "\n",
      "** Results for JW-7-24-1 **\n",
      "IC50 - MAE: 1.011, RMSE: 1.377, R²: 0.285\n",
      "\n",
      "Calcolo SHAP per JW-7-24-1 su 5 modelli...\n"
     ]
    },
    {
     "name": "stderr",
     "output_type": "stream",
     "text": [
      "Processing Drugs: 19it [12:15, 37.32s/it]"
     ]
    },
    {
     "name": "stdout",
     "output_type": "stream",
     "text": [
      "\n",
      "** Results for TPCA-1 **\n",
      "IC50 - MAE: 1.159, RMSE: 1.445, R²: 0.344\n",
      "\n",
      "Calcolo SHAP per TPCA-1 su 5 modelli...\n"
     ]
    },
    {
     "name": "stderr",
     "output_type": "stream",
     "text": [
      "Processing Drugs: 20it [12:45, 35.05s/it]"
     ]
    },
    {
     "name": "stdout",
     "output_type": "stream",
     "text": [
      "\n",
      "** Results for CX-5461 **\n",
      "IC50 - MAE: 1.453, RMSE: 1.758, R²: 0.223\n",
      "\n",
      "Calcolo SHAP per CX-5461 su 5 modelli...\n"
     ]
    },
    {
     "name": "stderr",
     "output_type": "stream",
     "text": [
      "Processing Drugs: 21it [13:20, 35.14s/it]"
     ]
    },
    {
     "name": "stdout",
     "output_type": "stream",
     "text": [
      "\n",
      "** Results for STF-62247 **\n",
      "IC50 - MAE: 0.633, RMSE: 0.790, R²: 0.302\n",
      "\n",
      "Calcolo SHAP per STF-62247 su 5 modelli...\n"
     ]
    },
    {
     "name": "stderr",
     "output_type": "stream",
     "text": [
      "Processing Drugs: 22it [13:53, 34.48s/it]"
     ]
    },
    {
     "name": "stdout",
     "output_type": "stream",
     "text": [
      "\n",
      "** Results for Dabrafenib **\n",
      "IC50 - MAE: 1.201, RMSE: 1.699, R²: 0.167\n",
      "\n",
      "Calcolo SHAP per Dabrafenib su 5 modelli...\n"
     ]
    },
    {
     "name": "stderr",
     "output_type": "stream",
     "text": [
      "Processing Drugs: 23it [14:21, 32.64s/it]"
     ]
    },
    {
     "name": "stdout",
     "output_type": "stream",
     "text": [
      "\n",
      "** Results for GSK429286A **\n",
      "IC50 - MAE: 0.805, RMSE: 1.042, R²: 0.396\n",
      "\n",
      "Calcolo SHAP per GSK429286A su 5 modelli...\n"
     ]
    },
    {
     "name": "stderr",
     "output_type": "stream",
     "text": [
      "Processing Drugs: 24it [14:52, 32.15s/it]"
     ]
    },
    {
     "name": "stdout",
     "output_type": "stream",
     "text": [
      "\n",
      "** Results for Trametinib **\n",
      "IC50 - MAE: 1.742, RMSE: 2.307, R²: 0.220\n",
      "\n",
      "Calcolo SHAP per Trametinib su 5 modelli...\n"
     ]
    },
    {
     "name": "stderr",
     "output_type": "stream",
     "text": [
      "Processing Drugs: 25it [15:22, 31.33s/it]"
     ]
    },
    {
     "name": "stdout",
     "output_type": "stream",
     "text": [
      "\n",
      "** Results for NG-25 **\n",
      "IC50 - MAE: 1.147, RMSE: 1.398, R²: 0.373\n",
      "\n",
      "Calcolo SHAP per NG-25 su 5 modelli...\n"
     ]
    },
    {
     "name": "stderr",
     "output_type": "stream",
     "text": [
      "Processing Drugs: 26it [15:49, 30.11s/it]"
     ]
    },
    {
     "name": "stdout",
     "output_type": "stream",
     "text": [
      "\n",
      "** Results for BIX02189 **\n",
      "IC50 - MAE: 0.735, RMSE: 1.005, R²: 0.388\n",
      "\n",
      "Calcolo SHAP per BIX02189 su 5 modelli...\n"
     ]
    },
    {
     "name": "stderr",
     "output_type": "stream",
     "text": [
      "Processing Drugs: 27it [16:08, 26.61s/it]"
     ]
    },
    {
     "name": "stdout",
     "output_type": "stream",
     "text": [
      "\n",
      "** Results for PIK-93 **\n",
      "IC50 - MAE: 1.150, RMSE: 1.464, R²: 0.233\n",
      "\n",
      "Calcolo SHAP per PIK-93 su 5 modelli...\n"
     ]
    },
    {
     "name": "stderr",
     "output_type": "stream",
     "text": [
      "Processing Drugs: 28it [16:44, 29.47s/it]"
     ]
    },
    {
     "name": "stdout",
     "output_type": "stream",
     "text": [
      "\n",
      "** Results for XMD15-27 **\n",
      "IC50 - MAE: 0.531, RMSE: 0.692, R²: 0.455\n",
      "\n",
      "Calcolo SHAP per XMD15-27 su 5 modelli...\n"
     ]
    },
    {
     "name": "stderr",
     "output_type": "stream",
     "text": [
      "Processing Drugs: 29it [20:09, 82.24s/it]"
     ]
    },
    {
     "name": "stdout",
     "output_type": "stream",
     "text": [
      "\n",
      "** Results for AC220 **\n",
      "IC50 - MAE: 0.700, RMSE: 1.024, R²: 0.325\n",
      "\n",
      "Calcolo SHAP per AC220 su 5 modelli...\n"
     ]
    },
    {
     "name": "stderr",
     "output_type": "stream",
     "text": [
      "Processing Drugs: 30it [20:42, 41.41s/it]\n"
     ]
    },
    {
     "name": "stdout",
     "output_type": "stream",
     "text": [
      "\n",
      "\n",
      "========= GLOBAL METRICS ACROSS ALL DRUGS =========\n",
      "Global IC50 - MAE: 0.965, RMSE: 1.279, R²: 0.622\n"
     ]
    }
   ],
   "source": [
    "models = [XGBRegressor, RandomForestRegressor, GradientBoostingRegressor, RandomForestRegressor,XGBRegressor ]\n",
    "rf_params = {\n",
    "        \"random_state\": 42,\n",
    "    }\n",
    "\n",
    "params = {\n",
    "    \"n_estimators\": randint(10, 501),              \n",
    "    \"max_depth\": [5, 7, 10, 20, None],\n",
    "}\n",
    "\n",
    "shap_dir = 'Results/Models_IC50_SMOTE/GB_XGB_RF'\n",
    "\n",
    "train_ic50(df_clean, rf_params, params, models= models, shap_dir = shap_dir, l=31, smo = True)"
   ]
  }
 ],
 "metadata": {
  "kernelspec": {
   "display_name": "base",
   "language": "python",
   "name": "python3"
  },
  "language_info": {
   "codemirror_mode": {
    "name": "ipython",
    "version": 3
   },
   "file_extension": ".py",
   "mimetype": "text/x-python",
   "name": "python",
   "nbconvert_exporter": "python",
   "pygments_lexer": "ipython3",
   "version": "3.12.2"
  },
  "orig_nbformat": 4
 },
 "nbformat": 4,
 "nbformat_minor": 2
}
